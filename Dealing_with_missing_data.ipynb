{
 "cells": [
  {
   "cell_type": "code",
   "execution_count": 624,
   "id": "a3d93e0e",
   "metadata": {},
   "outputs": [],
   "source": [
    "import numpy as np\n",
    "import pandas as pd\n",
    "from sklearn.model_selection import train_test_split, cross_val_score\n",
    "from sklearn.impute import SimpleImputer\n",
    "from sklearn.compose import ColumnTransformer\n",
    "from sklearn.pipeline import Pipeline\n",
    "from sklearn.tree import DecisionTreeClassifier\n",
    "from sklearn.linear_model import LogisticRegression\n",
    "from sklearn.preprocessing import OneHotEncoder, OrdinalEncoder, MinMaxScaler\n",
    "from sklearn.metrics import accuracy_score\n",
    "from sklearn.feature_selection import SelectKBest,chi2\n",
    "from sklearn import set_config"
   ]
  },
  {
   "cell_type": "code",
   "execution_count": 625,
   "id": "e712ef66",
   "metadata": {},
   "outputs": [],
   "source": [
    "set_config(display='diagram')"
   ]
  },
  {
   "cell_type": "code",
   "execution_count": 626,
   "id": "85c96061",
   "metadata": {},
   "outputs": [],
   "source": [
    "df=pd.read_csv(\"./datasets/data_science_job.csv\")"
   ]
  },
  {
   "cell_type": "code",
   "execution_count": 627,
   "id": "efa17a49",
   "metadata": {},
   "outputs": [
    {
     "data": {
      "text/html": [
       "<div>\n",
       "<style scoped>\n",
       "    .dataframe tbody tr th:only-of-type {\n",
       "        vertical-align: middle;\n",
       "    }\n",
       "\n",
       "    .dataframe tbody tr th {\n",
       "        vertical-align: top;\n",
       "    }\n",
       "\n",
       "    .dataframe thead th {\n",
       "        text-align: right;\n",
       "    }\n",
       "</style>\n",
       "<table border=\"1\" class=\"dataframe\">\n",
       "  <thead>\n",
       "    <tr style=\"text-align: right;\">\n",
       "      <th></th>\n",
       "      <th>enrollee_id</th>\n",
       "      <th>city</th>\n",
       "      <th>city_development_index</th>\n",
       "      <th>gender</th>\n",
       "      <th>relevent_experience</th>\n",
       "      <th>enrolled_university</th>\n",
       "      <th>education_level</th>\n",
       "      <th>major_discipline</th>\n",
       "      <th>experience</th>\n",
       "      <th>company_size</th>\n",
       "      <th>company_type</th>\n",
       "      <th>training_hours</th>\n",
       "      <th>target</th>\n",
       "    </tr>\n",
       "  </thead>\n",
       "  <tbody>\n",
       "    <tr>\n",
       "      <th>5984</th>\n",
       "      <td>11417</td>\n",
       "      <td>city_21</td>\n",
       "      <td>0.624</td>\n",
       "      <td>NaN</td>\n",
       "      <td>No relevent experience</td>\n",
       "      <td>Full time course</td>\n",
       "      <td>Masters</td>\n",
       "      <td>STEM</td>\n",
       "      <td>0.0</td>\n",
       "      <td>100-500</td>\n",
       "      <td>Pvt Ltd</td>\n",
       "      <td>20.0</td>\n",
       "      <td>0.0</td>\n",
       "    </tr>\n",
       "    <tr>\n",
       "      <th>4688</th>\n",
       "      <td>28417</td>\n",
       "      <td>city_103</td>\n",
       "      <td>0.920</td>\n",
       "      <td>Female</td>\n",
       "      <td>Has relevent experience</td>\n",
       "      <td>Full time course</td>\n",
       "      <td>Graduate</td>\n",
       "      <td>STEM</td>\n",
       "      <td>7.0</td>\n",
       "      <td>50-99</td>\n",
       "      <td>NGO</td>\n",
       "      <td>157.0</td>\n",
       "      <td>1.0</td>\n",
       "    </tr>\n",
       "    <tr>\n",
       "      <th>16633</th>\n",
       "      <td>238</td>\n",
       "      <td>city_16</td>\n",
       "      <td>0.910</td>\n",
       "      <td>NaN</td>\n",
       "      <td>Has relevent experience</td>\n",
       "      <td>no_enrollment</td>\n",
       "      <td>Graduate</td>\n",
       "      <td>STEM</td>\n",
       "      <td>6.0</td>\n",
       "      <td>100-500</td>\n",
       "      <td>Pvt Ltd</td>\n",
       "      <td>31.0</td>\n",
       "      <td>0.0</td>\n",
       "    </tr>\n",
       "    <tr>\n",
       "      <th>11906</th>\n",
       "      <td>3033</td>\n",
       "      <td>city_67</td>\n",
       "      <td>0.855</td>\n",
       "      <td>NaN</td>\n",
       "      <td>Has relevent experience</td>\n",
       "      <td>Full time course</td>\n",
       "      <td>Masters</td>\n",
       "      <td>STEM</td>\n",
       "      <td>12.0</td>\n",
       "      <td>NaN</td>\n",
       "      <td>NaN</td>\n",
       "      <td>91.0</td>\n",
       "      <td>0.0</td>\n",
       "    </tr>\n",
       "    <tr>\n",
       "      <th>5491</th>\n",
       "      <td>3157</td>\n",
       "      <td>city_103</td>\n",
       "      <td>0.920</td>\n",
       "      <td>Male</td>\n",
       "      <td>Has relevent experience</td>\n",
       "      <td>no_enrollment</td>\n",
       "      <td>Masters</td>\n",
       "      <td>Humanities</td>\n",
       "      <td>5.0</td>\n",
       "      <td>50-99</td>\n",
       "      <td>Pvt Ltd</td>\n",
       "      <td>198.0</td>\n",
       "      <td>0.0</td>\n",
       "    </tr>\n",
       "    <tr>\n",
       "      <th>17894</th>\n",
       "      <td>8741</td>\n",
       "      <td>city_103</td>\n",
       "      <td>0.920</td>\n",
       "      <td>Male</td>\n",
       "      <td>Has relevent experience</td>\n",
       "      <td>no_enrollment</td>\n",
       "      <td>Graduate</td>\n",
       "      <td>STEM</td>\n",
       "      <td>20.0</td>\n",
       "      <td>50-99</td>\n",
       "      <td>Pvt Ltd</td>\n",
       "      <td>19.0</td>\n",
       "      <td>0.0</td>\n",
       "    </tr>\n",
       "    <tr>\n",
       "      <th>12691</th>\n",
       "      <td>29684</td>\n",
       "      <td>city_99</td>\n",
       "      <td>0.915</td>\n",
       "      <td>NaN</td>\n",
       "      <td>Has relevent experience</td>\n",
       "      <td>no_enrollment</td>\n",
       "      <td>Graduate</td>\n",
       "      <td>STEM</td>\n",
       "      <td>2.0</td>\n",
       "      <td>5000-9999</td>\n",
       "      <td>Pvt Ltd</td>\n",
       "      <td>30.0</td>\n",
       "      <td>0.0</td>\n",
       "    </tr>\n",
       "    <tr>\n",
       "      <th>11543</th>\n",
       "      <td>31324</td>\n",
       "      <td>city_128</td>\n",
       "      <td>0.527</td>\n",
       "      <td>NaN</td>\n",
       "      <td>Has relevent experience</td>\n",
       "      <td>no_enrollment</td>\n",
       "      <td>Graduate</td>\n",
       "      <td>STEM</td>\n",
       "      <td>7.0</td>\n",
       "      <td>100-500</td>\n",
       "      <td>Pvt Ltd</td>\n",
       "      <td>63.0</td>\n",
       "      <td>0.0</td>\n",
       "    </tr>\n",
       "    <tr>\n",
       "      <th>8976</th>\n",
       "      <td>28908</td>\n",
       "      <td>city_103</td>\n",
       "      <td>0.920</td>\n",
       "      <td>Male</td>\n",
       "      <td>Has relevent experience</td>\n",
       "      <td>no_enrollment</td>\n",
       "      <td>Graduate</td>\n",
       "      <td>STEM</td>\n",
       "      <td>16.0</td>\n",
       "      <td>50-99</td>\n",
       "      <td>Pvt Ltd</td>\n",
       "      <td>250.0</td>\n",
       "      <td>0.0</td>\n",
       "    </tr>\n",
       "    <tr>\n",
       "      <th>6143</th>\n",
       "      <td>5618</td>\n",
       "      <td>city_11</td>\n",
       "      <td>0.550</td>\n",
       "      <td>Male</td>\n",
       "      <td>Has relevent experience</td>\n",
       "      <td>Full time course</td>\n",
       "      <td>Graduate</td>\n",
       "      <td>STEM</td>\n",
       "      <td>4.0</td>\n",
       "      <td>NaN</td>\n",
       "      <td>NaN</td>\n",
       "      <td>51.0</td>\n",
       "      <td>0.0</td>\n",
       "    </tr>\n",
       "  </tbody>\n",
       "</table>\n",
       "</div>"
      ],
      "text/plain": [
       "       enrollee_id      city  city_development_index  gender  \\\n",
       "5984         11417   city_21                   0.624     NaN   \n",
       "4688         28417  city_103                   0.920  Female   \n",
       "16633          238   city_16                   0.910     NaN   \n",
       "11906         3033   city_67                   0.855     NaN   \n",
       "5491          3157  city_103                   0.920    Male   \n",
       "17894         8741  city_103                   0.920    Male   \n",
       "12691        29684   city_99                   0.915     NaN   \n",
       "11543        31324  city_128                   0.527     NaN   \n",
       "8976         28908  city_103                   0.920    Male   \n",
       "6143          5618   city_11                   0.550    Male   \n",
       "\n",
       "           relevent_experience enrolled_university education_level  \\\n",
       "5984    No relevent experience    Full time course         Masters   \n",
       "4688   Has relevent experience    Full time course        Graduate   \n",
       "16633  Has relevent experience       no_enrollment        Graduate   \n",
       "11906  Has relevent experience    Full time course         Masters   \n",
       "5491   Has relevent experience       no_enrollment         Masters   \n",
       "17894  Has relevent experience       no_enrollment        Graduate   \n",
       "12691  Has relevent experience       no_enrollment        Graduate   \n",
       "11543  Has relevent experience       no_enrollment        Graduate   \n",
       "8976   Has relevent experience       no_enrollment        Graduate   \n",
       "6143   Has relevent experience    Full time course        Graduate   \n",
       "\n",
       "      major_discipline  experience company_size company_type  training_hours  \\\n",
       "5984              STEM         0.0      100-500      Pvt Ltd            20.0   \n",
       "4688              STEM         7.0        50-99          NGO           157.0   \n",
       "16633             STEM         6.0      100-500      Pvt Ltd            31.0   \n",
       "11906             STEM        12.0          NaN          NaN            91.0   \n",
       "5491        Humanities         5.0        50-99      Pvt Ltd           198.0   \n",
       "17894             STEM        20.0        50-99      Pvt Ltd            19.0   \n",
       "12691             STEM         2.0    5000-9999      Pvt Ltd            30.0   \n",
       "11543             STEM         7.0      100-500      Pvt Ltd            63.0   \n",
       "8976              STEM        16.0        50-99      Pvt Ltd           250.0   \n",
       "6143              STEM         4.0          NaN          NaN            51.0   \n",
       "\n",
       "       target  \n",
       "5984      0.0  \n",
       "4688      1.0  \n",
       "16633     0.0  \n",
       "11906     0.0  \n",
       "5491      0.0  \n",
       "17894     0.0  \n",
       "12691     0.0  \n",
       "11543     0.0  \n",
       "8976      0.0  \n",
       "6143      0.0  "
      ]
     },
     "execution_count": 627,
     "metadata": {},
     "output_type": "execute_result"
    }
   ],
   "source": [
    "df.sample(10)"
   ]
  },
  {
   "cell_type": "code",
   "execution_count": 628,
   "id": "ba995206",
   "metadata": {},
   "outputs": [],
   "source": [
    "df = df.drop('city', axis=1)\n"
   ]
  },
  {
   "cell_type": "code",
   "execution_count": 629,
   "id": "4b6ef82e",
   "metadata": {},
   "outputs": [
    {
     "name": "stdout",
     "output_type": "stream",
     "text": [
      "<class 'pandas.core.frame.DataFrame'>\n",
      "RangeIndex: 19158 entries, 0 to 19157\n",
      "Data columns (total 12 columns):\n",
      " #   Column                  Non-Null Count  Dtype  \n",
      "---  ------                  --------------  -----  \n",
      " 0   enrollee_id             19158 non-null  int64  \n",
      " 1   city_development_index  18679 non-null  float64\n",
      " 2   gender                  14650 non-null  object \n",
      " 3   relevent_experience     19158 non-null  object \n",
      " 4   enrolled_university     18772 non-null  object \n",
      " 5   education_level         18698 non-null  object \n",
      " 6   major_discipline        16345 non-null  object \n",
      " 7   experience              19093 non-null  float64\n",
      " 8   company_size            13220 non-null  object \n",
      " 9   company_type            13018 non-null  object \n",
      " 10  training_hours          18392 non-null  float64\n",
      " 11  target                  19158 non-null  float64\n",
      "dtypes: float64(4), int64(1), object(7)\n",
      "memory usage: 1.8+ MB\n"
     ]
    }
   ],
   "source": [
    "df.info()"
   ]
  },
  {
   "cell_type": "code",
   "execution_count": 630,
   "id": "b9e23678",
   "metadata": {},
   "outputs": [
    {
     "data": {
      "text/plain": [
       "0        Male\n",
       "1        Male\n",
       "2         NaN\n",
       "3         NaN\n",
       "4        Male\n",
       "         ... \n",
       "19153    Male\n",
       "19154    Male\n",
       "19155    Male\n",
       "19156    Male\n",
       "19157     NaN\n",
       "Name: gender, Length: 19158, dtype: object"
      ]
     },
     "execution_count": 630,
     "metadata": {},
     "output_type": "execute_result"
    }
   ],
   "source": [
    "df[\"gender\"]"
   ]
  },
  {
   "cell_type": "code",
   "execution_count": 631,
   "id": "b655a74c",
   "metadata": {},
   "outputs": [],
   "source": [
    "col=[]\n",
    "for c in df.columns:\n",
    "    if df[c].isnull().mean()<0.05 and df[c].isnull().mean()>0:\n",
    "        col.append(c)"
   ]
  },
  {
   "cell_type": "code",
   "execution_count": 632,
   "id": "bae88dd8",
   "metadata": {},
   "outputs": [
    {
     "data": {
      "text/plain": [
       "['city_development_index',\n",
       " 'enrolled_university',\n",
       " 'education_level',\n",
       " 'experience',\n",
       " 'training_hours']"
      ]
     },
     "execution_count": 632,
     "metadata": {},
     "output_type": "execute_result"
    }
   ],
   "source": [
    "col"
   ]
  },
  {
   "cell_type": "code",
   "execution_count": 633,
   "id": "05076559",
   "metadata": {},
   "outputs": [],
   "source": [
    "new_df=df.dropna(subset=col)\n"
   ]
  },
  {
   "cell_type": "code",
   "execution_count": 634,
   "id": "32114b8c",
   "metadata": {},
   "outputs": [
    {
     "data": {
      "text/plain": [
       "((19158, 12), (17182, 12))"
      ]
     },
     "execution_count": 634,
     "metadata": {},
     "output_type": "execute_result"
    }
   ],
   "source": [
    "df.shape,new_df.shape"
   ]
  },
  {
   "cell_type": "code",
   "execution_count": 635,
   "id": "e89fa017",
   "metadata": {},
   "outputs": [
    {
     "data": {
      "text/html": [
       "<div>\n",
       "<style scoped>\n",
       "    .dataframe tbody tr th:only-of-type {\n",
       "        vertical-align: middle;\n",
       "    }\n",
       "\n",
       "    .dataframe tbody tr th {\n",
       "        vertical-align: top;\n",
       "    }\n",
       "\n",
       "    .dataframe thead th {\n",
       "        text-align: right;\n",
       "    }\n",
       "</style>\n",
       "<table border=\"1\" class=\"dataframe\">\n",
       "  <thead>\n",
       "    <tr style=\"text-align: right;\">\n",
       "      <th></th>\n",
       "      <th>enrollee_id</th>\n",
       "      <th>city_development_index</th>\n",
       "      <th>gender</th>\n",
       "      <th>relevent_experience</th>\n",
       "      <th>enrolled_university</th>\n",
       "      <th>education_level</th>\n",
       "      <th>major_discipline</th>\n",
       "      <th>experience</th>\n",
       "      <th>company_size</th>\n",
       "      <th>company_type</th>\n",
       "      <th>training_hours</th>\n",
       "      <th>target</th>\n",
       "    </tr>\n",
       "  </thead>\n",
       "  <tbody>\n",
       "    <tr>\n",
       "      <th>0</th>\n",
       "      <td>8949</td>\n",
       "      <td>0.920</td>\n",
       "      <td>Male</td>\n",
       "      <td>Has relevent experience</td>\n",
       "      <td>no_enrollment</td>\n",
       "      <td>Graduate</td>\n",
       "      <td>STEM</td>\n",
       "      <td>20.0</td>\n",
       "      <td>NaN</td>\n",
       "      <td>NaN</td>\n",
       "      <td>36.0</td>\n",
       "      <td>1.0</td>\n",
       "    </tr>\n",
       "    <tr>\n",
       "      <th>1</th>\n",
       "      <td>29725</td>\n",
       "      <td>0.776</td>\n",
       "      <td>Male</td>\n",
       "      <td>No relevent experience</td>\n",
       "      <td>no_enrollment</td>\n",
       "      <td>Graduate</td>\n",
       "      <td>STEM</td>\n",
       "      <td>15.0</td>\n",
       "      <td>50-99</td>\n",
       "      <td>Pvt Ltd</td>\n",
       "      <td>47.0</td>\n",
       "      <td>0.0</td>\n",
       "    </tr>\n",
       "    <tr>\n",
       "      <th>2</th>\n",
       "      <td>11561</td>\n",
       "      <td>0.624</td>\n",
       "      <td>NaN</td>\n",
       "      <td>No relevent experience</td>\n",
       "      <td>Full time course</td>\n",
       "      <td>Graduate</td>\n",
       "      <td>STEM</td>\n",
       "      <td>5.0</td>\n",
       "      <td>NaN</td>\n",
       "      <td>NaN</td>\n",
       "      <td>83.0</td>\n",
       "      <td>0.0</td>\n",
       "    </tr>\n",
       "    <tr>\n",
       "      <th>4</th>\n",
       "      <td>666</td>\n",
       "      <td>0.767</td>\n",
       "      <td>Male</td>\n",
       "      <td>Has relevent experience</td>\n",
       "      <td>no_enrollment</td>\n",
       "      <td>Masters</td>\n",
       "      <td>STEM</td>\n",
       "      <td>20.0</td>\n",
       "      <td>50-99</td>\n",
       "      <td>Funded Startup</td>\n",
       "      <td>8.0</td>\n",
       "      <td>0.0</td>\n",
       "    </tr>\n",
       "    <tr>\n",
       "      <th>5</th>\n",
       "      <td>21651</td>\n",
       "      <td>0.764</td>\n",
       "      <td>NaN</td>\n",
       "      <td>Has relevent experience</td>\n",
       "      <td>Part time course</td>\n",
       "      <td>Graduate</td>\n",
       "      <td>STEM</td>\n",
       "      <td>11.0</td>\n",
       "      <td>NaN</td>\n",
       "      <td>NaN</td>\n",
       "      <td>24.0</td>\n",
       "      <td>1.0</td>\n",
       "    </tr>\n",
       "  </tbody>\n",
       "</table>\n",
       "</div>"
      ],
      "text/plain": [
       "   enrollee_id  city_development_index gender      relevent_experience  \\\n",
       "0         8949                   0.920   Male  Has relevent experience   \n",
       "1        29725                   0.776   Male   No relevent experience   \n",
       "2        11561                   0.624    NaN   No relevent experience   \n",
       "4          666                   0.767   Male  Has relevent experience   \n",
       "5        21651                   0.764    NaN  Has relevent experience   \n",
       "\n",
       "  enrolled_university education_level major_discipline  experience  \\\n",
       "0       no_enrollment        Graduate             STEM        20.0   \n",
       "1       no_enrollment        Graduate             STEM        15.0   \n",
       "2    Full time course        Graduate             STEM         5.0   \n",
       "4       no_enrollment         Masters             STEM        20.0   \n",
       "5    Part time course        Graduate             STEM        11.0   \n",
       "\n",
       "  company_size    company_type  training_hours  target  \n",
       "0          NaN             NaN            36.0     1.0  \n",
       "1        50-99         Pvt Ltd            47.0     0.0  \n",
       "2          NaN             NaN            83.0     0.0  \n",
       "4        50-99  Funded Startup             8.0     0.0  \n",
       "5          NaN             NaN            24.0     1.0  "
      ]
     },
     "execution_count": 635,
     "metadata": {},
     "output_type": "execute_result"
    }
   ],
   "source": [
    "new_df.head()"
   ]
  },
  {
   "cell_type": "markdown",
   "id": "247810fe",
   "metadata": {},
   "source": [
    "# Data analysis in case of CCAR"
   ]
  },
  {
   "cell_type": "code",
   "execution_count": 636,
   "id": "3f6a7f9b",
   "metadata": {},
   "outputs": [
    {
     "name": "stdout",
     "output_type": "stream",
     "text": [
      "<class 'pandas.core.frame.DataFrame'>\n",
      "Int64Index: 17182 entries, 0 to 19157\n",
      "Data columns (total 12 columns):\n",
      " #   Column                  Non-Null Count  Dtype  \n",
      "---  ------                  --------------  -----  \n",
      " 0   enrollee_id             17182 non-null  int64  \n",
      " 1   city_development_index  17182 non-null  float64\n",
      " 2   gender                  13309 non-null  object \n",
      " 3   relevent_experience     17182 non-null  object \n",
      " 4   enrolled_university     17182 non-null  object \n",
      " 5   education_level         17182 non-null  object \n",
      " 6   major_discipline        15029 non-null  object \n",
      " 7   experience              17182 non-null  float64\n",
      " 8   company_size            12064 non-null  object \n",
      " 9   company_type            11890 non-null  object \n",
      " 10  training_hours          17182 non-null  float64\n",
      " 11  target                  17182 non-null  float64\n",
      "dtypes: float64(4), int64(1), object(7)\n",
      "memory usage: 1.7+ MB\n"
     ]
    }
   ],
   "source": [
    "new_df.info()"
   ]
  },
  {
   "cell_type": "code",
   "execution_count": 637,
   "id": "c15f00e9",
   "metadata": {},
   "outputs": [
    {
     "data": {
      "text/plain": [
       "enrollee_id                  0\n",
       "city_development_index       0\n",
       "gender                    3873\n",
       "relevent_experience          0\n",
       "enrolled_university          0\n",
       "education_level              0\n",
       "major_discipline          2153\n",
       "experience                   0\n",
       "company_size              5118\n",
       "company_type              5292\n",
       "training_hours               0\n",
       "target                       0\n",
       "dtype: int64"
      ]
     },
     "execution_count": 637,
     "metadata": {},
     "output_type": "execute_result"
    }
   ],
   "source": [
    "new_df.isnull().sum()\n",
    "# city ,relevent_experience,enrolled_university,education_level"
   ]
  },
  {
   "cell_type": "code",
   "execution_count": 638,
   "id": "0c349340",
   "metadata": {},
   "outputs": [
    {
     "data": {
      "text/plain": [
       "(Has relevent experience    13792\n",
       " No relevent experience      5366\n",
       " Name: relevent_experience, dtype: int64,\n",
       " 2)"
      ]
     },
     "execution_count": 638,
     "metadata": {},
     "output_type": "execute_result"
    }
   ],
   "source": [
    "df[\"relevent_experience\"].value_counts(),df[\"relevent_experience\"].nunique()\n",
    "# [\"No relevent experience\",\"Has relevent experience\"],4"
   ]
  },
  {
   "cell_type": "code",
   "execution_count": 639,
   "id": "b2a95528",
   "metadata": {},
   "outputs": [
    {
     "data": {
      "text/plain": [
       "(no_enrollment       13817\n",
       " Full time course     3757\n",
       " Part time course     1198\n",
       " Name: enrolled_university, dtype: int64,\n",
       " 3)"
      ]
     },
     "execution_count": 639,
     "metadata": {},
     "output_type": "execute_result"
    }
   ],
   "source": [
    "df[\"enrolled_university\"].value_counts(),df[\"enrolled_university\"].nunique()\n",
    "# [\"no_enrollment,Part time course\",\"Full time course\"],5"
   ]
  },
  {
   "cell_type": "code",
   "execution_count": 640,
   "id": "f0a21737",
   "metadata": {},
   "outputs": [
    {
     "data": {
      "text/plain": [
       "(Graduate          11598\n",
       " Masters            4361\n",
       " High School        2017\n",
       " Phd                 414\n",
       " Primary School      308\n",
       " Name: education_level, dtype: int64,\n",
       " 5)"
      ]
     },
     "execution_count": 640,
     "metadata": {},
     "output_type": "execute_result"
    }
   ],
   "source": [
    "df[\"education_level\"].value_counts(),df[\"education_level\"].nunique()\n",
    "# [\"Primary School\",\"High School\",\"Graduate\",\"Masters\",\"Phd\"], 6"
   ]
  },
  {
   "cell_type": "markdown",
   "id": "b2aee472",
   "metadata": {},
   "source": [
    "\"gender\"  --> one_hot_coding\n",
    "\n",
    "\"major_discipline\"  -->ordinal encoding\n",
    "\n",
    "\"company_size\"   -->  ordinal encoding\n",
    "\n",
    "\"company_type\"  ---> ordinal_encoding\n",
    "\n",
    "\"relevent_experience\" -->ordinal_encoding\n",
    "\n",
    "\"enrolled_university\"  -->ordinal encoding\n",
    "\"education_level\"      --> ordinal encoding\n",
    "\n"
   ]
  },
  {
   "cell_type": "code",
   "execution_count": 641,
   "id": "dad47e99",
   "metadata": {},
   "outputs": [
    {
     "data": {
      "text/plain": [
       "(Male      12006\n",
       " Female     1142\n",
       " Other       161\n",
       " Name: gender, dtype: int64,\n",
       " 3)"
      ]
     },
     "execution_count": 641,
     "metadata": {},
     "output_type": "execute_result"
    }
   ],
   "source": [
    "new_df[\"gender\"].value_counts(), df[\"gender\"].nunique()"
   ]
  },
  {
   "cell_type": "code",
   "execution_count": 642,
   "id": "1540e215",
   "metadata": {},
   "outputs": [
    {
     "data": {
      "text/plain": [
       "(STEM               13314\n",
       " Humanities           617\n",
       " Other                347\n",
       " Business Degree      308\n",
       " Arts                 234\n",
       " No Major             209\n",
       " Name: major_discipline, dtype: int64,\n",
       " 6)"
      ]
     },
     "execution_count": 642,
     "metadata": {},
     "output_type": "execute_result"
    }
   ],
   "source": [
    "new_df[\"major_discipline\"].value_counts(),df[\"major_discipline\"].nunique()\n",
    "# \"STEM\",\"Humanities\",\"Business Degree\",\"Arts\",\"Other\",\"No Major\""
   ]
  },
  {
   "cell_type": "code",
   "execution_count": 643,
   "id": "b70794a8",
   "metadata": {},
   "outputs": [
    {
     "data": {
      "text/plain": [
       "(50-99        2802\n",
       " 100-500      2330\n",
       " 10000+       1863\n",
       " 10/49        1342\n",
       " 1000-4999    1215\n",
       " <10          1185\n",
       " 500-999       807\n",
       " 5000-9999     520\n",
       " Name: company_size, dtype: int64,\n",
       " 8)"
      ]
     },
     "execution_count": 643,
     "metadata": {},
     "output_type": "execute_result"
    }
   ],
   "source": [
    "new_df[\"company_size\"].value_counts(), df[\"company_size\"].nunique()\n",
    "# \"<10\",\"10/49\",\"50-99\",\"100-500\",\"500-999\",\"1000-4999\",\"5000-9999\",\"10000+\""
   ]
  },
  {
   "cell_type": "code",
   "execution_count": 644,
   "id": "8abe11e4",
   "metadata": {},
   "outputs": [
    {
     "data": {
      "text/plain": [
       "(Pvt Ltd                8970\n",
       " Funded Startup          922\n",
       " Public Sector           867\n",
       " Early Stage Startup     552\n",
       " NGO                     470\n",
       " Other                   109\n",
       " Name: company_type, dtype: int64,\n",
       " 6)"
      ]
     },
     "execution_count": 644,
     "metadata": {},
     "output_type": "execute_result"
    }
   ],
   "source": [
    "new_df[\"company_type\"].value_counts(), df[\"company_type\"].nunique()\n",
    "# \"Pvt Ltd\",\"Public Sector\",\"Funded Startup\",\"Early Stage Startup\",\"NGO\",\"Other\""
   ]
  },
  {
   "cell_type": "markdown",
   "id": "5a2f2761",
   "metadata": {},
   "source": [
    "# Train with Complete Case At Random(CCAR)"
   ]
  },
  {
   "cell_type": "code",
   "execution_count": 645,
   "id": "44c23999",
   "metadata": {},
   "outputs": [],
   "source": [
    "X_train,X_test,y_train,y_test=train_test_split(new_df.iloc[:,:11],new_df.iloc[:,11:12])"
   ]
  },
  {
   "cell_type": "code",
   "execution_count": 646,
   "id": "345524ae",
   "metadata": {},
   "outputs": [
    {
     "data": {
      "text/plain": [
       "((12886, 11), (4296, 11), (12886, 1), (4296, 1))"
      ]
     },
     "execution_count": 646,
     "metadata": {},
     "output_type": "execute_result"
    }
   ],
   "source": [
    "X_train.shape,X_test.shape,y_train.shape,y_test.shape"
   ]
  },
  {
   "cell_type": "code",
   "execution_count": 647,
   "id": "00905e49",
   "metadata": {},
   "outputs": [
    {
     "data": {
      "text/plain": [
       "Index(['enrollee_id', 'city_development_index', 'gender',\n",
       "       'relevent_experience', 'enrolled_university', 'education_level',\n",
       "       'major_discipline', 'experience', 'company_size', 'company_type',\n",
       "       'training_hours'],\n",
       "      dtype='object')"
      ]
     },
     "execution_count": 647,
     "metadata": {},
     "output_type": "execute_result"
    }
   ],
   "source": [
    "X_train.columns"
   ]
  },
  {
   "cell_type": "code",
   "execution_count": 648,
   "id": "5ad4a5bb",
   "metadata": {},
   "outputs": [
    {
     "data": {
      "text/plain": [
       "enrollee_id                  0\n",
       "city_development_index       0\n",
       "gender                    2935\n",
       "relevent_experience          0\n",
       "enrolled_university          0\n",
       "education_level              0\n",
       "major_discipline          1603\n",
       "experience                   0\n",
       "company_size              3918\n",
       "company_type              4040\n",
       "training_hours               0\n",
       "dtype: int64"
      ]
     },
     "execution_count": 648,
     "metadata": {},
     "output_type": "execute_result"
    }
   ],
   "source": [
    "X_train.isnull().sum()"
   ]
  },
  {
   "cell_type": "code",
   "execution_count": 649,
   "id": "010202a3",
   "metadata": {},
   "outputs": [
    {
     "name": "stdout",
     "output_type": "stream",
     "text": [
      "<class 'pandas.core.frame.DataFrame'>\n",
      "Int64Index: 12886 entries, 10387 to 2771\n",
      "Data columns (total 11 columns):\n",
      " #   Column                  Non-Null Count  Dtype  \n",
      "---  ------                  --------------  -----  \n",
      " 0   enrollee_id             12886 non-null  int64  \n",
      " 1   city_development_index  12886 non-null  float64\n",
      " 2   gender                  9951 non-null   object \n",
      " 3   relevent_experience     12886 non-null  object \n",
      " 4   enrolled_university     12886 non-null  object \n",
      " 5   education_level         12886 non-null  object \n",
      " 6   major_discipline        11283 non-null  object \n",
      " 7   experience              12886 non-null  float64\n",
      " 8   company_size            8968 non-null   object \n",
      " 9   company_type            8846 non-null   object \n",
      " 10  training_hours          12886 non-null  float64\n",
      "dtypes: float64(3), int64(1), object(7)\n",
      "memory usage: 1.2+ MB\n"
     ]
    }
   ],
   "source": [
    "X_train.info()"
   ]
  },
  {
   "cell_type": "code",
   "execution_count": 650,
   "id": "790251e2",
   "metadata": {},
   "outputs": [
    {
     "data": {
      "text/plain": [
       "12886"
      ]
     },
     "execution_count": 650,
     "metadata": {},
     "output_type": "execute_result"
    }
   ],
   "source": [
    "X_train[\"enrollee_id\"].nunique()"
   ]
  },
  {
   "cell_type": "code",
   "execution_count": 651,
   "id": "bf1dfd73",
   "metadata": {},
   "outputs": [
    {
     "data": {
      "text/html": [
       "<div>\n",
       "<style scoped>\n",
       "    .dataframe tbody tr th:only-of-type {\n",
       "        vertical-align: middle;\n",
       "    }\n",
       "\n",
       "    .dataframe tbody tr th {\n",
       "        vertical-align: top;\n",
       "    }\n",
       "\n",
       "    .dataframe thead th {\n",
       "        text-align: right;\n",
       "    }\n",
       "</style>\n",
       "<table border=\"1\" class=\"dataframe\">\n",
       "  <thead>\n",
       "    <tr style=\"text-align: right;\">\n",
       "      <th></th>\n",
       "      <th>enrollee_id</th>\n",
       "      <th>city_development_index</th>\n",
       "      <th>experience</th>\n",
       "      <th>training_hours</th>\n",
       "    </tr>\n",
       "  </thead>\n",
       "  <tbody>\n",
       "    <tr>\n",
       "      <th>count</th>\n",
       "      <td>12886.000000</td>\n",
       "      <td>12886.000000</td>\n",
       "      <td>12886.000000</td>\n",
       "      <td>12886.000000</td>\n",
       "    </tr>\n",
       "    <tr>\n",
       "      <th>mean</th>\n",
       "      <td>16864.485876</td>\n",
       "      <td>0.831322</td>\n",
       "      <td>10.060764</td>\n",
       "      <td>65.174841</td>\n",
       "    </tr>\n",
       "    <tr>\n",
       "      <th>std</th>\n",
       "      <td>9627.871573</td>\n",
       "      <td>0.122056</td>\n",
       "      <td>6.491004</td>\n",
       "      <td>59.747254</td>\n",
       "    </tr>\n",
       "    <tr>\n",
       "      <th>min</th>\n",
       "      <td>1.000000</td>\n",
       "      <td>0.448000</td>\n",
       "      <td>0.000000</td>\n",
       "      <td>1.000000</td>\n",
       "    </tr>\n",
       "    <tr>\n",
       "      <th>25%</th>\n",
       "      <td>8536.250000</td>\n",
       "      <td>0.743000</td>\n",
       "      <td>5.000000</td>\n",
       "      <td>23.000000</td>\n",
       "    </tr>\n",
       "    <tr>\n",
       "      <th>50%</th>\n",
       "      <td>16973.500000</td>\n",
       "      <td>0.910000</td>\n",
       "      <td>9.000000</td>\n",
       "      <td>47.000000</td>\n",
       "    </tr>\n",
       "    <tr>\n",
       "      <th>75%</th>\n",
       "      <td>25188.500000</td>\n",
       "      <td>0.920000</td>\n",
       "      <td>16.000000</td>\n",
       "      <td>89.000000</td>\n",
       "    </tr>\n",
       "    <tr>\n",
       "      <th>max</th>\n",
       "      <td>33380.000000</td>\n",
       "      <td>0.949000</td>\n",
       "      <td>20.000000</td>\n",
       "      <td>336.000000</td>\n",
       "    </tr>\n",
       "  </tbody>\n",
       "</table>\n",
       "</div>"
      ],
      "text/plain": [
       "        enrollee_id  city_development_index    experience  training_hours\n",
       "count  12886.000000            12886.000000  12886.000000    12886.000000\n",
       "mean   16864.485876                0.831322     10.060764       65.174841\n",
       "std     9627.871573                0.122056      6.491004       59.747254\n",
       "min        1.000000                0.448000      0.000000        1.000000\n",
       "25%     8536.250000                0.743000      5.000000       23.000000\n",
       "50%    16973.500000                0.910000      9.000000       47.000000\n",
       "75%    25188.500000                0.920000     16.000000       89.000000\n",
       "max    33380.000000                0.949000     20.000000      336.000000"
      ]
     },
     "execution_count": 651,
     "metadata": {},
     "output_type": "execute_result"
    }
   ],
   "source": [
    "X_train.describe()"
   ]
  },
  {
   "cell_type": "code",
   "execution_count": 652,
   "id": "cfbc511a",
   "metadata": {},
   "outputs": [
    {
     "data": {
      "text/plain": [
       "target    0\n",
       "dtype: int64"
      ]
     },
     "execution_count": 652,
     "metadata": {},
     "output_type": "execute_result"
    }
   ],
   "source": [
    "y_train.isnull().sum()"
   ]
  },
  {
   "cell_type": "code",
   "execution_count": 653,
   "id": "2c73de6d",
   "metadata": {},
   "outputs": [],
   "source": [
    "trf1=ColumnTransformer(transformers=[\n",
    "    ('impute',SimpleImputer(strategy=\"most_frequent\"),[2,6,8,9])\n",
    "]\n",
    ",remainder=\"passthrough\")"
   ]
  },
  {
   "cell_type": "code",
   "execution_count": 654,
   "id": "3a079930",
   "metadata": {},
   "outputs": [],
   "source": [
    "trf2=ColumnTransformer(transformers=[\n",
    "    ('gender',OneHotEncoder(sparse=False,handle_unknown=\"ignore\"),[2]),\n",
    "#     ('major_discipline_company_size_company_type', OrdinalEncoder(categories=[[\"STEM\",\"Humanities\",\"Business Degree\",\"Arts\",\"Other\",\"No Major\"],\n",
    "#                                                                               [\"<10\",\"10/49\",\"50-99\",\"100-500\",\"500-999\",\"1000-4999\",\"5000-9999\",\"10000+\"],\n",
    "#                                                                               [\"Pvt Ltd\",\"Public Sector\",\"Funded Startup\",\"Early Stage Startup\",\"NGO\",\"Other\"],\n",
    "#                                                                               [\"No relevent experience\",\"Has relevent experience\"],\n",
    "#                                                                               [\"no_enrollment\",\"Part time course\",\"Full time course\"],\n",
    "#                                                                               [\"Primary School\",\"High School\",\"Graduate\",\"Masters\",\"Phd\"]],handle_unknown=\"use_encoded_value\",unknown_value=-1)\n",
    "#                                                                                 ,[6,8,9,3,4,5])\n",
    "    ('major_discipline', OrdinalEncoder(categories=[[\"STEM\",\"Humanities\",\"Business Degree\",\"Arts\",\"Other\",\"No Major\"]],handle_unknown='use_encoded_value', unknown_value=-1),[6]),\n",
    "    ('company_size', OrdinalEncoder(categories=[[\"<10\",\"10/49\",\"50-99\",\"100-500\",\"500-999\",\"1000-4999\",\"5000-9999\",\"10000+\"]],handle_unknown='use_encoded_value', unknown_value=-1),[8]),\n",
    "    ('company_type', OrdinalEncoder(categories=[['Pvt Ltd','Public Sector','Funded Startup','Early Stage Startup','NGO\",\"Other']],handle_unknown='use_encoded_value', unknown_value=-1),[9]),\n",
    "    ('relevent_experience',OrdinalEncoder(categories=[[\"No relevent experience\",\"Has relevent experience\"]],handle_unknown='use_encoded_value', unknown_value=-1),[3]),\n",
    "    ('enrolled_university', OrdinalEncoder(categories=[[\"no_enrollment\",\"Part time course\",\"Full time course\"]],handle_unknown='use_encoded_value', unknown_value=-1),[4]),\n",
    "    ('education_level', OrdinalEncoder(categories=[[\"Primary School\",\"High School\",\"Graduate\",\"Masters\",\"Phd\"]],handle_unknown='use_encoded_value', unknown_value=-1),[5])\n",
    "],\n",
    "\n",
    "remainder=\"passthrough\")"
   ]
  },
  {
   "cell_type": "code",
   "execution_count": 655,
   "id": "2262fd40",
   "metadata": {},
   "outputs": [],
   "source": [
    "# trf2=ColumnTransformer(transformers=[\n",
    "#     ('gender',OneHotEncoder(sparse=False,handle_unknown=\"ignore\"),[2]),\n",
    "#     ('major_discipline_company_size_company_type', OrdinalEncoder(handle_unknown=\"use_encoded_value\",unknown_value=-1)\n",
    "#                                                                                 ,[6,8,9,3,4,5])\n",
    "# #     ('major_discipline', OrdinalEncoder(categories=[[\"STEM\",\"Humanities\",\"Business Degree\",\"Arts\",\"Other\",\"No Major\"]],handle_unknown='use_encoded_value', unknown_value=-1),[6]),\n",
    "# #     ('company_size', OrdinalEncoder(categories=[[\"<10\",\"10/49\",\"50-99\",\"100-500\",\"500-999\",\"1000-4999\",\"5000-9999\",\"10000+\"]],handle_unknown='use_encoded_value', unknown_value=-1),[8]),\n",
    "# #     ('company_type', OrdinalEncoder(categories=[['Pvt Ltd','Public Sector','Funded Startup','Early Stage Startup','NGO\",\"Other']],handle_unknown='use_encoded_value', unknown_value=-1),[9]),\n",
    "# #     ('relevent_experience',OrdinalEncoder(categories=[[\"No relevent experience\",\"Has relevent experience\"]],handle_unknown='use_encoded_value', unknown_value=-1),[3]),\n",
    "# #     ('enrolled_university', OrdinalEncoder(categories=[[\"no_enrollment\",\"Part time course\",\"Full time course\"]],handle_unknown='use_encoded_value', unknown_value=-1),[4]),\n",
    "# #     ('education_level', OrdinalEncoder(categories=[[\"Primary School\",\"High School\",\"Graduate\",\"Masters\",\"Phd\"]],handle_unknown='use_encoded_value', unknown_value=-1),[5])\n",
    "# ],\n",
    "\n",
    "# remainder=\"passthrough\")"
   ]
  },
  {
   "cell_type": "code",
   "execution_count": 656,
   "id": "152889c5",
   "metadata": {},
   "outputs": [],
   "source": [
    "trf3=ColumnTransformer(transformers=[\n",
    "    ('scale',MinMaxScaler(),slice(0,13))\n",
    "])"
   ]
  },
  {
   "cell_type": "code",
   "execution_count": 657,
   "id": "abe6d98a",
   "metadata": {},
   "outputs": [],
   "source": [
    "trf4=SelectKBest(score_func=chi2,k=5)"
   ]
  },
  {
   "cell_type": "code",
   "execution_count": 658,
   "id": "82b86add",
   "metadata": {},
   "outputs": [],
   "source": [
    "trf5=DecisionTreeClassifier()"
   ]
  },
  {
   "cell_type": "code",
   "execution_count": 659,
   "id": "6e1c538a",
   "metadata": {},
   "outputs": [],
   "source": [
    "pipe=Pipeline([('trf1',trf1),('trf2',trf2),('trf3',trf3),('trf4',trf4),('trf5',trf5)])"
   ]
  },
  {
   "cell_type": "code",
   "execution_count": 660,
   "id": "dbdf1a64",
   "metadata": {},
   "outputs": [
    {
     "data": {
      "text/html": [
       "<style>#sk-f440b5b1-3218-4bc8-8d6b-e400d15dee5d {color: black;background-color: white;}#sk-f440b5b1-3218-4bc8-8d6b-e400d15dee5d pre{padding: 0;}#sk-f440b5b1-3218-4bc8-8d6b-e400d15dee5d div.sk-toggleable {background-color: white;}#sk-f440b5b1-3218-4bc8-8d6b-e400d15dee5d label.sk-toggleable__label {cursor: pointer;display: block;width: 100%;margin-bottom: 0;padding: 0.3em;box-sizing: border-box;text-align: center;}#sk-f440b5b1-3218-4bc8-8d6b-e400d15dee5d label.sk-toggleable__label-arrow:before {content: \"▸\";float: left;margin-right: 0.25em;color: #696969;}#sk-f440b5b1-3218-4bc8-8d6b-e400d15dee5d label.sk-toggleable__label-arrow:hover:before {color: black;}#sk-f440b5b1-3218-4bc8-8d6b-e400d15dee5d div.sk-estimator:hover label.sk-toggleable__label-arrow:before {color: black;}#sk-f440b5b1-3218-4bc8-8d6b-e400d15dee5d div.sk-toggleable__content {max-height: 0;max-width: 0;overflow: hidden;text-align: left;background-color: #f0f8ff;}#sk-f440b5b1-3218-4bc8-8d6b-e400d15dee5d div.sk-toggleable__content pre {margin: 0.2em;color: black;border-radius: 0.25em;background-color: #f0f8ff;}#sk-f440b5b1-3218-4bc8-8d6b-e400d15dee5d input.sk-toggleable__control:checked~div.sk-toggleable__content {max-height: 200px;max-width: 100%;overflow: auto;}#sk-f440b5b1-3218-4bc8-8d6b-e400d15dee5d input.sk-toggleable__control:checked~label.sk-toggleable__label-arrow:before {content: \"▾\";}#sk-f440b5b1-3218-4bc8-8d6b-e400d15dee5d div.sk-estimator input.sk-toggleable__control:checked~label.sk-toggleable__label {background-color: #d4ebff;}#sk-f440b5b1-3218-4bc8-8d6b-e400d15dee5d div.sk-label input.sk-toggleable__control:checked~label.sk-toggleable__label {background-color: #d4ebff;}#sk-f440b5b1-3218-4bc8-8d6b-e400d15dee5d input.sk-hidden--visually {border: 0;clip: rect(1px 1px 1px 1px);clip: rect(1px, 1px, 1px, 1px);height: 1px;margin: -1px;overflow: hidden;padding: 0;position: absolute;width: 1px;}#sk-f440b5b1-3218-4bc8-8d6b-e400d15dee5d div.sk-estimator {font-family: monospace;background-color: #f0f8ff;border: 1px dotted black;border-radius: 0.25em;box-sizing: border-box;margin-bottom: 0.5em;}#sk-f440b5b1-3218-4bc8-8d6b-e400d15dee5d div.sk-estimator:hover {background-color: #d4ebff;}#sk-f440b5b1-3218-4bc8-8d6b-e400d15dee5d div.sk-parallel-item::after {content: \"\";width: 100%;border-bottom: 1px solid gray;flex-grow: 1;}#sk-f440b5b1-3218-4bc8-8d6b-e400d15dee5d div.sk-label:hover label.sk-toggleable__label {background-color: #d4ebff;}#sk-f440b5b1-3218-4bc8-8d6b-e400d15dee5d div.sk-serial::before {content: \"\";position: absolute;border-left: 1px solid gray;box-sizing: border-box;top: 2em;bottom: 0;left: 50%;}#sk-f440b5b1-3218-4bc8-8d6b-e400d15dee5d div.sk-serial {display: flex;flex-direction: column;align-items: center;background-color: white;padding-right: 0.2em;padding-left: 0.2em;}#sk-f440b5b1-3218-4bc8-8d6b-e400d15dee5d div.sk-item {z-index: 1;}#sk-f440b5b1-3218-4bc8-8d6b-e400d15dee5d div.sk-parallel {display: flex;align-items: stretch;justify-content: center;background-color: white;}#sk-f440b5b1-3218-4bc8-8d6b-e400d15dee5d div.sk-parallel::before {content: \"\";position: absolute;border-left: 1px solid gray;box-sizing: border-box;top: 2em;bottom: 0;left: 50%;}#sk-f440b5b1-3218-4bc8-8d6b-e400d15dee5d div.sk-parallel-item {display: flex;flex-direction: column;position: relative;background-color: white;}#sk-f440b5b1-3218-4bc8-8d6b-e400d15dee5d div.sk-parallel-item:first-child::after {align-self: flex-end;width: 50%;}#sk-f440b5b1-3218-4bc8-8d6b-e400d15dee5d div.sk-parallel-item:last-child::after {align-self: flex-start;width: 50%;}#sk-f440b5b1-3218-4bc8-8d6b-e400d15dee5d div.sk-parallel-item:only-child::after {width: 0;}#sk-f440b5b1-3218-4bc8-8d6b-e400d15dee5d div.sk-dashed-wrapped {border: 1px dashed gray;margin: 0 0.4em 0.5em 0.4em;box-sizing: border-box;padding-bottom: 0.4em;background-color: white;position: relative;}#sk-f440b5b1-3218-4bc8-8d6b-e400d15dee5d div.sk-label label {font-family: monospace;font-weight: bold;background-color: white;display: inline-block;line-height: 1.2em;}#sk-f440b5b1-3218-4bc8-8d6b-e400d15dee5d div.sk-label-container {position: relative;z-index: 2;text-align: center;}#sk-f440b5b1-3218-4bc8-8d6b-e400d15dee5d div.sk-container {/* jupyter's `normalize.less` sets `[hidden] { display: none; }` but bootstrap.min.css set `[hidden] { display: none !important; }` so we also need the `!important` here to be able to override the default hidden behavior on the sphinx rendered scikit-learn.org. See: https://github.com/scikit-learn/scikit-learn/issues/21755 */display: inline-block !important;position: relative;}#sk-f440b5b1-3218-4bc8-8d6b-e400d15dee5d div.sk-text-repr-fallback {display: none;}</style><div id=\"sk-f440b5b1-3218-4bc8-8d6b-e400d15dee5d\" class=\"sk-top-container\"><div class=\"sk-text-repr-fallback\"><pre>Pipeline(steps=[(&#x27;trf1&#x27;,\n",
       "                 ColumnTransformer(remainder=&#x27;passthrough&#x27;,\n",
       "                                   transformers=[(&#x27;impute&#x27;,\n",
       "                                                  SimpleImputer(strategy=&#x27;most_frequent&#x27;),\n",
       "                                                  [2, 6, 8, 9])])),\n",
       "                (&#x27;trf2&#x27;,\n",
       "                 ColumnTransformer(remainder=&#x27;passthrough&#x27;,\n",
       "                                   transformers=[(&#x27;gender&#x27;,\n",
       "                                                  OneHotEncoder(handle_unknown=&#x27;ignore&#x27;,\n",
       "                                                                sparse=False),\n",
       "                                                  [2]),\n",
       "                                                 (&#x27;major_discipline&#x27;,\n",
       "                                                  OrdinalEncoder(categories=[[&#x27;STEM&#x27;,\n",
       "                                                                              &#x27;Humanities&#x27;,\n",
       "                                                                              &#x27;Busine...\n",
       "                                                 (&#x27;education_level&#x27;,\n",
       "                                                  OrdinalEncoder(categories=[[&#x27;Primary &#x27;\n",
       "                                                                              &#x27;School&#x27;,\n",
       "                                                                              &#x27;High &#x27;\n",
       "                                                                              &#x27;School&#x27;,\n",
       "                                                                              &#x27;Graduate&#x27;,\n",
       "                                                                              &#x27;Masters&#x27;,\n",
       "                                                                              &#x27;Phd&#x27;]],\n",
       "                                                                 handle_unknown=&#x27;use_encoded_value&#x27;,\n",
       "                                                                 unknown_value=-1),\n",
       "                                                  [5])])),\n",
       "                (&#x27;trf3&#x27;,\n",
       "                 ColumnTransformer(transformers=[(&#x27;scale&#x27;, MinMaxScaler(),\n",
       "                                                  slice(0, 13, None))])),\n",
       "                (&#x27;trf4&#x27;,\n",
       "                 SelectKBest(k=5,\n",
       "                             score_func=&lt;function chi2 at 0x7f8d7297b670&gt;)),\n",
       "                (&#x27;trf5&#x27;, DecisionTreeClassifier())])</pre><b>Please rerun this cell to show the HTML repr or trust the notebook.</b></div><div class=\"sk-container\" hidden><div class=\"sk-item sk-dashed-wrapped\"><div class=\"sk-label-container\"><div class=\"sk-label sk-toggleable\"><input class=\"sk-toggleable__control sk-hidden--visually\" id=\"a6893b69-c328-499a-9a73-005bd0a21922\" type=\"checkbox\" ><label for=\"a6893b69-c328-499a-9a73-005bd0a21922\" class=\"sk-toggleable__label sk-toggleable__label-arrow\">Pipeline</label><div class=\"sk-toggleable__content\"><pre>Pipeline(steps=[(&#x27;trf1&#x27;,\n",
       "                 ColumnTransformer(remainder=&#x27;passthrough&#x27;,\n",
       "                                   transformers=[(&#x27;impute&#x27;,\n",
       "                                                  SimpleImputer(strategy=&#x27;most_frequent&#x27;),\n",
       "                                                  [2, 6, 8, 9])])),\n",
       "                (&#x27;trf2&#x27;,\n",
       "                 ColumnTransformer(remainder=&#x27;passthrough&#x27;,\n",
       "                                   transformers=[(&#x27;gender&#x27;,\n",
       "                                                  OneHotEncoder(handle_unknown=&#x27;ignore&#x27;,\n",
       "                                                                sparse=False),\n",
       "                                                  [2]),\n",
       "                                                 (&#x27;major_discipline&#x27;,\n",
       "                                                  OrdinalEncoder(categories=[[&#x27;STEM&#x27;,\n",
       "                                                                              &#x27;Humanities&#x27;,\n",
       "                                                                              &#x27;Busine...\n",
       "                                                 (&#x27;education_level&#x27;,\n",
       "                                                  OrdinalEncoder(categories=[[&#x27;Primary &#x27;\n",
       "                                                                              &#x27;School&#x27;,\n",
       "                                                                              &#x27;High &#x27;\n",
       "                                                                              &#x27;School&#x27;,\n",
       "                                                                              &#x27;Graduate&#x27;,\n",
       "                                                                              &#x27;Masters&#x27;,\n",
       "                                                                              &#x27;Phd&#x27;]],\n",
       "                                                                 handle_unknown=&#x27;use_encoded_value&#x27;,\n",
       "                                                                 unknown_value=-1),\n",
       "                                                  [5])])),\n",
       "                (&#x27;trf3&#x27;,\n",
       "                 ColumnTransformer(transformers=[(&#x27;scale&#x27;, MinMaxScaler(),\n",
       "                                                  slice(0, 13, None))])),\n",
       "                (&#x27;trf4&#x27;,\n",
       "                 SelectKBest(k=5,\n",
       "                             score_func=&lt;function chi2 at 0x7f8d7297b670&gt;)),\n",
       "                (&#x27;trf5&#x27;, DecisionTreeClassifier())])</pre></div></div></div><div class=\"sk-serial\"><div class=\"sk-item sk-dashed-wrapped\"><div class=\"sk-label-container\"><div class=\"sk-label sk-toggleable\"><input class=\"sk-toggleable__control sk-hidden--visually\" id=\"88b29ef0-e688-44c3-b3f1-d97fabc51422\" type=\"checkbox\" ><label for=\"88b29ef0-e688-44c3-b3f1-d97fabc51422\" class=\"sk-toggleable__label sk-toggleable__label-arrow\">trf1: ColumnTransformer</label><div class=\"sk-toggleable__content\"><pre>ColumnTransformer(remainder=&#x27;passthrough&#x27;,\n",
       "                  transformers=[(&#x27;impute&#x27;,\n",
       "                                 SimpleImputer(strategy=&#x27;most_frequent&#x27;),\n",
       "                                 [2, 6, 8, 9])])</pre></div></div></div><div class=\"sk-parallel\"><div class=\"sk-parallel-item\"><div class=\"sk-item\"><div class=\"sk-label-container\"><div class=\"sk-label sk-toggleable\"><input class=\"sk-toggleable__control sk-hidden--visually\" id=\"3849cc8e-e3ad-4be9-bafa-008964859151\" type=\"checkbox\" ><label for=\"3849cc8e-e3ad-4be9-bafa-008964859151\" class=\"sk-toggleable__label sk-toggleable__label-arrow\">impute</label><div class=\"sk-toggleable__content\"><pre>[2, 6, 8, 9]</pre></div></div></div><div class=\"sk-serial\"><div class=\"sk-item\"><div class=\"sk-estimator sk-toggleable\"><input class=\"sk-toggleable__control sk-hidden--visually\" id=\"ef0827d8-7efe-4084-abd9-4c968079b32e\" type=\"checkbox\" ><label for=\"ef0827d8-7efe-4084-abd9-4c968079b32e\" class=\"sk-toggleable__label sk-toggleable__label-arrow\">SimpleImputer</label><div class=\"sk-toggleable__content\"><pre>SimpleImputer(strategy=&#x27;most_frequent&#x27;)</pre></div></div></div></div></div></div><div class=\"sk-parallel-item\"><div class=\"sk-item\"><div class=\"sk-label-container\"><div class=\"sk-label sk-toggleable\"><input class=\"sk-toggleable__control sk-hidden--visually\" id=\"ce136afa-80ee-496f-843a-b02f5430636b\" type=\"checkbox\" ><label for=\"ce136afa-80ee-496f-843a-b02f5430636b\" class=\"sk-toggleable__label sk-toggleable__label-arrow\">remainder</label><div class=\"sk-toggleable__content\"><pre>[&#x27;enrollee_id&#x27;, &#x27;city_development_index&#x27;, &#x27;relevent_experience&#x27;, &#x27;enrolled_university&#x27;, &#x27;education_level&#x27;, &#x27;experience&#x27;, &#x27;training_hours&#x27;]</pre></div></div></div><div class=\"sk-serial\"><div class=\"sk-item\"><div class=\"sk-estimator sk-toggleable\"><input class=\"sk-toggleable__control sk-hidden--visually\" id=\"570145d9-6cd3-4d84-8d63-dad6934c0033\" type=\"checkbox\" ><label for=\"570145d9-6cd3-4d84-8d63-dad6934c0033\" class=\"sk-toggleable__label sk-toggleable__label-arrow\">passthrough</label><div class=\"sk-toggleable__content\"><pre>passthrough</pre></div></div></div></div></div></div></div></div><div class=\"sk-item sk-dashed-wrapped\"><div class=\"sk-label-container\"><div class=\"sk-label sk-toggleable\"><input class=\"sk-toggleable__control sk-hidden--visually\" id=\"e99d004b-5310-4119-8fae-136907ca21f2\" type=\"checkbox\" ><label for=\"e99d004b-5310-4119-8fae-136907ca21f2\" class=\"sk-toggleable__label sk-toggleable__label-arrow\">trf2: ColumnTransformer</label><div class=\"sk-toggleable__content\"><pre>ColumnTransformer(remainder=&#x27;passthrough&#x27;,\n",
       "                  transformers=[(&#x27;gender&#x27;,\n",
       "                                 OneHotEncoder(handle_unknown=&#x27;ignore&#x27;,\n",
       "                                               sparse=False),\n",
       "                                 [2]),\n",
       "                                (&#x27;major_discipline&#x27;,\n",
       "                                 OrdinalEncoder(categories=[[&#x27;STEM&#x27;,\n",
       "                                                             &#x27;Humanities&#x27;,\n",
       "                                                             &#x27;Business Degree&#x27;,\n",
       "                                                             &#x27;Arts&#x27;, &#x27;Other&#x27;,\n",
       "                                                             &#x27;No Major&#x27;]],\n",
       "                                                handle_unknown=&#x27;use_encoded_value&#x27;,\n",
       "                                                unknown_value=-1),\n",
       "                                 [6]),\n",
       "                                (&#x27;company_size&#x27;,\n",
       "                                 OrdinalEncoder(categories=[[&#x27;&lt;10&#x27;, &#x27;10/49&#x27;...\n",
       "                                                unknown_value=-1),\n",
       "                                 [3]),\n",
       "                                (&#x27;enrolled_university&#x27;,\n",
       "                                 OrdinalEncoder(categories=[[&#x27;no_enrollment&#x27;,\n",
       "                                                             &#x27;Part time course&#x27;,\n",
       "                                                             &#x27;Full time &#x27;\n",
       "                                                             &#x27;course&#x27;]],\n",
       "                                                handle_unknown=&#x27;use_encoded_value&#x27;,\n",
       "                                                unknown_value=-1),\n",
       "                                 [4]),\n",
       "                                (&#x27;education_level&#x27;,\n",
       "                                 OrdinalEncoder(categories=[[&#x27;Primary School&#x27;,\n",
       "                                                             &#x27;High School&#x27;,\n",
       "                                                             &#x27;Graduate&#x27;,\n",
       "                                                             &#x27;Masters&#x27;,\n",
       "                                                             &#x27;Phd&#x27;]],\n",
       "                                                handle_unknown=&#x27;use_encoded_value&#x27;,\n",
       "                                                unknown_value=-1),\n",
       "                                 [5])])</pre></div></div></div><div class=\"sk-parallel\"><div class=\"sk-parallel-item\"><div class=\"sk-item\"><div class=\"sk-label-container\"><div class=\"sk-label sk-toggleable\"><input class=\"sk-toggleable__control sk-hidden--visually\" id=\"79218ff5-36ea-4907-afb0-187be5c827d1\" type=\"checkbox\" ><label for=\"79218ff5-36ea-4907-afb0-187be5c827d1\" class=\"sk-toggleable__label sk-toggleable__label-arrow\">gender</label><div class=\"sk-toggleable__content\"><pre>[2]</pre></div></div></div><div class=\"sk-serial\"><div class=\"sk-item\"><div class=\"sk-estimator sk-toggleable\"><input class=\"sk-toggleable__control sk-hidden--visually\" id=\"bf7c4dcc-a4ee-48a6-a5a2-c9f4d95e7559\" type=\"checkbox\" ><label for=\"bf7c4dcc-a4ee-48a6-a5a2-c9f4d95e7559\" class=\"sk-toggleable__label sk-toggleable__label-arrow\">OneHotEncoder</label><div class=\"sk-toggleable__content\"><pre>OneHotEncoder(handle_unknown=&#x27;ignore&#x27;, sparse=False)</pre></div></div></div></div></div></div><div class=\"sk-parallel-item\"><div class=\"sk-item\"><div class=\"sk-label-container\"><div class=\"sk-label sk-toggleable\"><input class=\"sk-toggleable__control sk-hidden--visually\" id=\"41d31e7b-1ca0-4e3c-9768-7eee045c28b8\" type=\"checkbox\" ><label for=\"41d31e7b-1ca0-4e3c-9768-7eee045c28b8\" class=\"sk-toggleable__label sk-toggleable__label-arrow\">major_discipline</label><div class=\"sk-toggleable__content\"><pre>[6]</pre></div></div></div><div class=\"sk-serial\"><div class=\"sk-item\"><div class=\"sk-estimator sk-toggleable\"><input class=\"sk-toggleable__control sk-hidden--visually\" id=\"f99da809-f698-49ed-b7fc-d80f8c188b68\" type=\"checkbox\" ><label for=\"f99da809-f698-49ed-b7fc-d80f8c188b68\" class=\"sk-toggleable__label sk-toggleable__label-arrow\">OrdinalEncoder</label><div class=\"sk-toggleable__content\"><pre>OrdinalEncoder(categories=[[&#x27;STEM&#x27;, &#x27;Humanities&#x27;, &#x27;Business Degree&#x27;, &#x27;Arts&#x27;,\n",
       "                            &#x27;Other&#x27;, &#x27;No Major&#x27;]],\n",
       "               handle_unknown=&#x27;use_encoded_value&#x27;, unknown_value=-1)</pre></div></div></div></div></div></div><div class=\"sk-parallel-item\"><div class=\"sk-item\"><div class=\"sk-label-container\"><div class=\"sk-label sk-toggleable\"><input class=\"sk-toggleable__control sk-hidden--visually\" id=\"db0d0f60-6d1e-4dc7-b733-bcb4684b3ecc\" type=\"checkbox\" ><label for=\"db0d0f60-6d1e-4dc7-b733-bcb4684b3ecc\" class=\"sk-toggleable__label sk-toggleable__label-arrow\">company_size</label><div class=\"sk-toggleable__content\"><pre>[8]</pre></div></div></div><div class=\"sk-serial\"><div class=\"sk-item\"><div class=\"sk-estimator sk-toggleable\"><input class=\"sk-toggleable__control sk-hidden--visually\" id=\"0af7467d-82fd-48d5-bb39-13556608ab65\" type=\"checkbox\" ><label for=\"0af7467d-82fd-48d5-bb39-13556608ab65\" class=\"sk-toggleable__label sk-toggleable__label-arrow\">OrdinalEncoder</label><div class=\"sk-toggleable__content\"><pre>OrdinalEncoder(categories=[[&#x27;&lt;10&#x27;, &#x27;10/49&#x27;, &#x27;50-99&#x27;, &#x27;100-500&#x27;, &#x27;500-999&#x27;,\n",
       "                            &#x27;1000-4999&#x27;, &#x27;5000-9999&#x27;, &#x27;10000+&#x27;]],\n",
       "               handle_unknown=&#x27;use_encoded_value&#x27;, unknown_value=-1)</pre></div></div></div></div></div></div><div class=\"sk-parallel-item\"><div class=\"sk-item\"><div class=\"sk-label-container\"><div class=\"sk-label sk-toggleable\"><input class=\"sk-toggleable__control sk-hidden--visually\" id=\"18a0275f-b788-4da3-8834-148107c6626d\" type=\"checkbox\" ><label for=\"18a0275f-b788-4da3-8834-148107c6626d\" class=\"sk-toggleable__label sk-toggleable__label-arrow\">company_type</label><div class=\"sk-toggleable__content\"><pre>[9]</pre></div></div></div><div class=\"sk-serial\"><div class=\"sk-item\"><div class=\"sk-estimator sk-toggleable\"><input class=\"sk-toggleable__control sk-hidden--visually\" id=\"209c45c7-6bf4-4581-9ed6-88ed92605701\" type=\"checkbox\" ><label for=\"209c45c7-6bf4-4581-9ed6-88ed92605701\" class=\"sk-toggleable__label sk-toggleable__label-arrow\">OrdinalEncoder</label><div class=\"sk-toggleable__content\"><pre>OrdinalEncoder(categories=[[&#x27;Pvt Ltd&#x27;, &#x27;Public Sector&#x27;, &#x27;Funded Startup&#x27;,\n",
       "                            &#x27;Early Stage Startup&#x27;, &#x27;NGO&quot;,&quot;Other&#x27;]],\n",
       "               handle_unknown=&#x27;use_encoded_value&#x27;, unknown_value=-1)</pre></div></div></div></div></div></div><div class=\"sk-parallel-item\"><div class=\"sk-item\"><div class=\"sk-label-container\"><div class=\"sk-label sk-toggleable\"><input class=\"sk-toggleable__control sk-hidden--visually\" id=\"57fc267a-7cdf-4d2b-925e-e910970d3f59\" type=\"checkbox\" ><label for=\"57fc267a-7cdf-4d2b-925e-e910970d3f59\" class=\"sk-toggleable__label sk-toggleable__label-arrow\">relevent_experience</label><div class=\"sk-toggleable__content\"><pre>[3]</pre></div></div></div><div class=\"sk-serial\"><div class=\"sk-item\"><div class=\"sk-estimator sk-toggleable\"><input class=\"sk-toggleable__control sk-hidden--visually\" id=\"b88050ea-6289-4a4c-8ef5-e158c628e6bb\" type=\"checkbox\" ><label for=\"b88050ea-6289-4a4c-8ef5-e158c628e6bb\" class=\"sk-toggleable__label sk-toggleable__label-arrow\">OrdinalEncoder</label><div class=\"sk-toggleable__content\"><pre>OrdinalEncoder(categories=[[&#x27;No relevent experience&#x27;,\n",
       "                            &#x27;Has relevent experience&#x27;]],\n",
       "               handle_unknown=&#x27;use_encoded_value&#x27;, unknown_value=-1)</pre></div></div></div></div></div></div><div class=\"sk-parallel-item\"><div class=\"sk-item\"><div class=\"sk-label-container\"><div class=\"sk-label sk-toggleable\"><input class=\"sk-toggleable__control sk-hidden--visually\" id=\"353e5de4-379b-4d7d-af4a-92442af43288\" type=\"checkbox\" ><label for=\"353e5de4-379b-4d7d-af4a-92442af43288\" class=\"sk-toggleable__label sk-toggleable__label-arrow\">enrolled_university</label><div class=\"sk-toggleable__content\"><pre>[4]</pre></div></div></div><div class=\"sk-serial\"><div class=\"sk-item\"><div class=\"sk-estimator sk-toggleable\"><input class=\"sk-toggleable__control sk-hidden--visually\" id=\"fe3883a4-61a7-4784-b66d-1cba821fb718\" type=\"checkbox\" ><label for=\"fe3883a4-61a7-4784-b66d-1cba821fb718\" class=\"sk-toggleable__label sk-toggleable__label-arrow\">OrdinalEncoder</label><div class=\"sk-toggleable__content\"><pre>OrdinalEncoder(categories=[[&#x27;no_enrollment&#x27;, &#x27;Part time course&#x27;,\n",
       "                            &#x27;Full time course&#x27;]],\n",
       "               handle_unknown=&#x27;use_encoded_value&#x27;, unknown_value=-1)</pre></div></div></div></div></div></div><div class=\"sk-parallel-item\"><div class=\"sk-item\"><div class=\"sk-label-container\"><div class=\"sk-label sk-toggleable\"><input class=\"sk-toggleable__control sk-hidden--visually\" id=\"7f0162ff-835b-4452-a6be-74f040a987d3\" type=\"checkbox\" ><label for=\"7f0162ff-835b-4452-a6be-74f040a987d3\" class=\"sk-toggleable__label sk-toggleable__label-arrow\">education_level</label><div class=\"sk-toggleable__content\"><pre>[5]</pre></div></div></div><div class=\"sk-serial\"><div class=\"sk-item\"><div class=\"sk-estimator sk-toggleable\"><input class=\"sk-toggleable__control sk-hidden--visually\" id=\"3cf6d23e-fab4-4988-9cff-c2c0529e2ed3\" type=\"checkbox\" ><label for=\"3cf6d23e-fab4-4988-9cff-c2c0529e2ed3\" class=\"sk-toggleable__label sk-toggleable__label-arrow\">OrdinalEncoder</label><div class=\"sk-toggleable__content\"><pre>OrdinalEncoder(categories=[[&#x27;Primary School&#x27;, &#x27;High School&#x27;, &#x27;Graduate&#x27;,\n",
       "                            &#x27;Masters&#x27;, &#x27;Phd&#x27;]],\n",
       "               handle_unknown=&#x27;use_encoded_value&#x27;, unknown_value=-1)</pre></div></div></div></div></div></div><div class=\"sk-parallel-item\"><div class=\"sk-item\"><div class=\"sk-label-container\"><div class=\"sk-label sk-toggleable\"><input class=\"sk-toggleable__control sk-hidden--visually\" id=\"9d473c8c-3835-4689-b458-74d1a959959b\" type=\"checkbox\" ><label for=\"9d473c8c-3835-4689-b458-74d1a959959b\" class=\"sk-toggleable__label sk-toggleable__label-arrow\">remainder</label><div class=\"sk-toggleable__content\"><pre>[0, 1, 7, 10]</pre></div></div></div><div class=\"sk-serial\"><div class=\"sk-item\"><div class=\"sk-estimator sk-toggleable\"><input class=\"sk-toggleable__control sk-hidden--visually\" id=\"1b05479c-85e3-4527-8877-84ec712048f9\" type=\"checkbox\" ><label for=\"1b05479c-85e3-4527-8877-84ec712048f9\" class=\"sk-toggleable__label sk-toggleable__label-arrow\">passthrough</label><div class=\"sk-toggleable__content\"><pre>passthrough</pre></div></div></div></div></div></div></div></div><div class=\"sk-item sk-dashed-wrapped\"><div class=\"sk-label-container\"><div class=\"sk-label sk-toggleable\"><input class=\"sk-toggleable__control sk-hidden--visually\" id=\"1f35c3a4-dfca-4168-9499-7ec917ce4a59\" type=\"checkbox\" ><label for=\"1f35c3a4-dfca-4168-9499-7ec917ce4a59\" class=\"sk-toggleable__label sk-toggleable__label-arrow\">trf3: ColumnTransformer</label><div class=\"sk-toggleable__content\"><pre>ColumnTransformer(transformers=[(&#x27;scale&#x27;, MinMaxScaler(), slice(0, 13, None))])</pre></div></div></div><div class=\"sk-parallel\"><div class=\"sk-parallel-item\"><div class=\"sk-item\"><div class=\"sk-label-container\"><div class=\"sk-label sk-toggleable\"><input class=\"sk-toggleable__control sk-hidden--visually\" id=\"d20d6d0a-04ab-43f9-afe5-e4ce19392f7f\" type=\"checkbox\" ><label for=\"d20d6d0a-04ab-43f9-afe5-e4ce19392f7f\" class=\"sk-toggleable__label sk-toggleable__label-arrow\">scale</label><div class=\"sk-toggleable__content\"><pre>slice(0, 13, None)</pre></div></div></div><div class=\"sk-serial\"><div class=\"sk-item\"><div class=\"sk-estimator sk-toggleable\"><input class=\"sk-toggleable__control sk-hidden--visually\" id=\"898bd57d-3a32-496b-91a7-f7e7d2ac6aca\" type=\"checkbox\" ><label for=\"898bd57d-3a32-496b-91a7-f7e7d2ac6aca\" class=\"sk-toggleable__label sk-toggleable__label-arrow\">MinMaxScaler</label><div class=\"sk-toggleable__content\"><pre>MinMaxScaler()</pre></div></div></div></div></div></div></div></div><div class=\"sk-item\"><div class=\"sk-estimator sk-toggleable\"><input class=\"sk-toggleable__control sk-hidden--visually\" id=\"4320ff5e-d450-4b3f-8440-4315cd66f328\" type=\"checkbox\" ><label for=\"4320ff5e-d450-4b3f-8440-4315cd66f328\" class=\"sk-toggleable__label sk-toggleable__label-arrow\">SelectKBest</label><div class=\"sk-toggleable__content\"><pre>SelectKBest(k=5, score_func=&lt;function chi2 at 0x7f8d7297b670&gt;)</pre></div></div></div><div class=\"sk-item\"><div class=\"sk-estimator sk-toggleable\"><input class=\"sk-toggleable__control sk-hidden--visually\" id=\"2b41013c-c17a-44ea-aeba-ad7c615843b9\" type=\"checkbox\" ><label for=\"2b41013c-c17a-44ea-aeba-ad7c615843b9\" class=\"sk-toggleable__label sk-toggleable__label-arrow\">DecisionTreeClassifier</label><div class=\"sk-toggleable__content\"><pre>DecisionTreeClassifier()</pre></div></div></div></div></div></div></div>"
      ],
      "text/plain": [
       "Pipeline(steps=[('trf1',\n",
       "                 ColumnTransformer(remainder='passthrough',\n",
       "                                   transformers=[('impute',\n",
       "                                                  SimpleImputer(strategy='most_frequent'),\n",
       "                                                  [2, 6, 8, 9])])),\n",
       "                ('trf2',\n",
       "                 ColumnTransformer(remainder='passthrough',\n",
       "                                   transformers=[('gender',\n",
       "                                                  OneHotEncoder(handle_unknown='ignore',\n",
       "                                                                sparse=False),\n",
       "                                                  [2]),\n",
       "                                                 ('major_discipline',\n",
       "                                                  OrdinalEncoder(categories=[['STEM',\n",
       "                                                                              'Humanities',\n",
       "                                                                              'Busine...\n",
       "                                                 ('education_level',\n",
       "                                                  OrdinalEncoder(categories=[['Primary '\n",
       "                                                                              'School',\n",
       "                                                                              'High '\n",
       "                                                                              'School',\n",
       "                                                                              'Graduate',\n",
       "                                                                              'Masters',\n",
       "                                                                              'Phd']],\n",
       "                                                                 handle_unknown='use_encoded_value',\n",
       "                                                                 unknown_value=-1),\n",
       "                                                  [5])])),\n",
       "                ('trf3',\n",
       "                 ColumnTransformer(transformers=[('scale', MinMaxScaler(),\n",
       "                                                  slice(0, 13, None))])),\n",
       "                ('trf4',\n",
       "                 SelectKBest(k=5,\n",
       "                             score_func=<function chi2 at 0x7f8d7297b670>)),\n",
       "                ('trf5', DecisionTreeClassifier())])"
      ]
     },
     "execution_count": 660,
     "metadata": {},
     "output_type": "execute_result"
    }
   ],
   "source": [
    "pipe.fit(X_train,y_train)"
   ]
  },
  {
   "cell_type": "code",
   "execution_count": 661,
   "id": "ed6f0609",
   "metadata": {},
   "outputs": [],
   "source": [
    "y_pred=pipe.predict(X_test)"
   ]
  },
  {
   "cell_type": "code",
   "execution_count": 662,
   "id": "efab8c8e",
   "metadata": {},
   "outputs": [
    {
     "data": {
      "text/plain": [
       "0.7553538175046555"
      ]
     },
     "execution_count": 662,
     "metadata": {},
     "output_type": "execute_result"
    }
   ],
   "source": [
    "accuracy_score(y_pred,y_test)"
   ]
  },
  {
   "cell_type": "markdown",
   "id": "4e091a36",
   "metadata": {},
   "source": [
    "# Cross_validation_score"
   ]
  },
  {
   "cell_type": "code",
   "execution_count": 663,
   "id": "0500f944",
   "metadata": {},
   "outputs": [
    {
     "data": {
      "text/plain": [
       "0.7505820450870307"
      ]
     },
     "execution_count": 663,
     "metadata": {},
     "output_type": "execute_result"
    }
   ],
   "source": [
    "cross_val_score(pipe,X_train,y_train,cv=4,scoring=\"accuracy\").mean()"
   ]
  },
  {
   "cell_type": "markdown",
   "id": "90b37e99",
   "metadata": {},
   "source": [
    "# GridSearch using pipeline"
   ]
  },
  {
   "cell_type": "code",
   "execution_count": 664,
   "id": "6887fbaa",
   "metadata": {},
   "outputs": [],
   "source": [
    "params={\n",
    "    'trf5__max_depth':[1,2,3,4,5,None]\n",
    "}"
   ]
  },
  {
   "cell_type": "code",
   "execution_count": 665,
   "id": "9d0a3435",
   "metadata": {},
   "outputs": [
    {
     "data": {
      "text/html": [
       "<style>#sk-df936bbc-3a37-4fdb-8743-32e2efaa47bf {color: black;background-color: white;}#sk-df936bbc-3a37-4fdb-8743-32e2efaa47bf pre{padding: 0;}#sk-df936bbc-3a37-4fdb-8743-32e2efaa47bf div.sk-toggleable {background-color: white;}#sk-df936bbc-3a37-4fdb-8743-32e2efaa47bf label.sk-toggleable__label {cursor: pointer;display: block;width: 100%;margin-bottom: 0;padding: 0.3em;box-sizing: border-box;text-align: center;}#sk-df936bbc-3a37-4fdb-8743-32e2efaa47bf label.sk-toggleable__label-arrow:before {content: \"▸\";float: left;margin-right: 0.25em;color: #696969;}#sk-df936bbc-3a37-4fdb-8743-32e2efaa47bf label.sk-toggleable__label-arrow:hover:before {color: black;}#sk-df936bbc-3a37-4fdb-8743-32e2efaa47bf div.sk-estimator:hover label.sk-toggleable__label-arrow:before {color: black;}#sk-df936bbc-3a37-4fdb-8743-32e2efaa47bf div.sk-toggleable__content {max-height: 0;max-width: 0;overflow: hidden;text-align: left;background-color: #f0f8ff;}#sk-df936bbc-3a37-4fdb-8743-32e2efaa47bf div.sk-toggleable__content pre {margin: 0.2em;color: black;border-radius: 0.25em;background-color: #f0f8ff;}#sk-df936bbc-3a37-4fdb-8743-32e2efaa47bf input.sk-toggleable__control:checked~div.sk-toggleable__content {max-height: 200px;max-width: 100%;overflow: auto;}#sk-df936bbc-3a37-4fdb-8743-32e2efaa47bf input.sk-toggleable__control:checked~label.sk-toggleable__label-arrow:before {content: \"▾\";}#sk-df936bbc-3a37-4fdb-8743-32e2efaa47bf div.sk-estimator input.sk-toggleable__control:checked~label.sk-toggleable__label {background-color: #d4ebff;}#sk-df936bbc-3a37-4fdb-8743-32e2efaa47bf div.sk-label input.sk-toggleable__control:checked~label.sk-toggleable__label {background-color: #d4ebff;}#sk-df936bbc-3a37-4fdb-8743-32e2efaa47bf input.sk-hidden--visually {border: 0;clip: rect(1px 1px 1px 1px);clip: rect(1px, 1px, 1px, 1px);height: 1px;margin: -1px;overflow: hidden;padding: 0;position: absolute;width: 1px;}#sk-df936bbc-3a37-4fdb-8743-32e2efaa47bf div.sk-estimator {font-family: monospace;background-color: #f0f8ff;border: 1px dotted black;border-radius: 0.25em;box-sizing: border-box;margin-bottom: 0.5em;}#sk-df936bbc-3a37-4fdb-8743-32e2efaa47bf div.sk-estimator:hover {background-color: #d4ebff;}#sk-df936bbc-3a37-4fdb-8743-32e2efaa47bf div.sk-parallel-item::after {content: \"\";width: 100%;border-bottom: 1px solid gray;flex-grow: 1;}#sk-df936bbc-3a37-4fdb-8743-32e2efaa47bf div.sk-label:hover label.sk-toggleable__label {background-color: #d4ebff;}#sk-df936bbc-3a37-4fdb-8743-32e2efaa47bf div.sk-serial::before {content: \"\";position: absolute;border-left: 1px solid gray;box-sizing: border-box;top: 2em;bottom: 0;left: 50%;}#sk-df936bbc-3a37-4fdb-8743-32e2efaa47bf div.sk-serial {display: flex;flex-direction: column;align-items: center;background-color: white;padding-right: 0.2em;padding-left: 0.2em;}#sk-df936bbc-3a37-4fdb-8743-32e2efaa47bf div.sk-item {z-index: 1;}#sk-df936bbc-3a37-4fdb-8743-32e2efaa47bf div.sk-parallel {display: flex;align-items: stretch;justify-content: center;background-color: white;}#sk-df936bbc-3a37-4fdb-8743-32e2efaa47bf div.sk-parallel::before {content: \"\";position: absolute;border-left: 1px solid gray;box-sizing: border-box;top: 2em;bottom: 0;left: 50%;}#sk-df936bbc-3a37-4fdb-8743-32e2efaa47bf div.sk-parallel-item {display: flex;flex-direction: column;position: relative;background-color: white;}#sk-df936bbc-3a37-4fdb-8743-32e2efaa47bf div.sk-parallel-item:first-child::after {align-self: flex-end;width: 50%;}#sk-df936bbc-3a37-4fdb-8743-32e2efaa47bf div.sk-parallel-item:last-child::after {align-self: flex-start;width: 50%;}#sk-df936bbc-3a37-4fdb-8743-32e2efaa47bf div.sk-parallel-item:only-child::after {width: 0;}#sk-df936bbc-3a37-4fdb-8743-32e2efaa47bf div.sk-dashed-wrapped {border: 1px dashed gray;margin: 0 0.4em 0.5em 0.4em;box-sizing: border-box;padding-bottom: 0.4em;background-color: white;position: relative;}#sk-df936bbc-3a37-4fdb-8743-32e2efaa47bf div.sk-label label {font-family: monospace;font-weight: bold;background-color: white;display: inline-block;line-height: 1.2em;}#sk-df936bbc-3a37-4fdb-8743-32e2efaa47bf div.sk-label-container {position: relative;z-index: 2;text-align: center;}#sk-df936bbc-3a37-4fdb-8743-32e2efaa47bf div.sk-container {/* jupyter's `normalize.less` sets `[hidden] { display: none; }` but bootstrap.min.css set `[hidden] { display: none !important; }` so we also need the `!important` here to be able to override the default hidden behavior on the sphinx rendered scikit-learn.org. See: https://github.com/scikit-learn/scikit-learn/issues/21755 */display: inline-block !important;position: relative;}#sk-df936bbc-3a37-4fdb-8743-32e2efaa47bf div.sk-text-repr-fallback {display: none;}</style><div id=\"sk-df936bbc-3a37-4fdb-8743-32e2efaa47bf\" class=\"sk-top-container\"><div class=\"sk-text-repr-fallback\"><pre>GridSearchCV(cv=5,\n",
       "             estimator=Pipeline(steps=[(&#x27;trf1&#x27;,\n",
       "                                        ColumnTransformer(remainder=&#x27;passthrough&#x27;,\n",
       "                                                          transformers=[(&#x27;impute&#x27;,\n",
       "                                                                         SimpleImputer(strategy=&#x27;most_frequent&#x27;),\n",
       "                                                                         [2, 6,\n",
       "                                                                          8,\n",
       "                                                                          9])])),\n",
       "                                       (&#x27;trf2&#x27;,\n",
       "                                        ColumnTransformer(remainder=&#x27;passthrough&#x27;,\n",
       "                                                          transformers=[(&#x27;gender&#x27;,\n",
       "                                                                         OneHotEncoder(handle_unknown=&#x27;ignore&#x27;,\n",
       "                                                                                       sparse=False),\n",
       "                                                                         [2]),\n",
       "                                                                        (&#x27;major_discipline&#x27;,\n",
       "                                                                         OrdinalEncoder(categories=[...\n",
       "                                                                                                     &#x27;School&#x27;,\n",
       "                                                                                                     &#x27;Graduate&#x27;,\n",
       "                                                                                                     &#x27;Masters&#x27;,\n",
       "                                                                                                     &#x27;Phd&#x27;]],\n",
       "                                                                                        handle_unknown=&#x27;use_encoded_value&#x27;,\n",
       "                                                                                        unknown_value=-1),\n",
       "                                                                         [5])])),\n",
       "                                       (&#x27;trf3&#x27;,\n",
       "                                        ColumnTransformer(transformers=[(&#x27;scale&#x27;,\n",
       "                                                                         MinMaxScaler(),\n",
       "                                                                         slice(0, 13, None))])),\n",
       "                                       (&#x27;trf4&#x27;,\n",
       "                                        SelectKBest(k=5,\n",
       "                                                    score_func=&lt;function chi2 at 0x7f8d7297b670&gt;)),\n",
       "                                       (&#x27;trf5&#x27;, DecisionTreeClassifier())]),\n",
       "             param_grid={&#x27;trf5__max_depth&#x27;: [1, 2, 3, 4, 5, None]},\n",
       "             scoring=&#x27;accuracy&#x27;)</pre><b>Please rerun this cell to show the HTML repr or trust the notebook.</b></div><div class=\"sk-container\" hidden><div class=\"sk-item sk-dashed-wrapped\"><div class=\"sk-label-container\"><div class=\"sk-label sk-toggleable\"><input class=\"sk-toggleable__control sk-hidden--visually\" id=\"293419c5-762f-4b7a-bff5-156e2845319d\" type=\"checkbox\" ><label for=\"293419c5-762f-4b7a-bff5-156e2845319d\" class=\"sk-toggleable__label sk-toggleable__label-arrow\">GridSearchCV</label><div class=\"sk-toggleable__content\"><pre>GridSearchCV(cv=5,\n",
       "             estimator=Pipeline(steps=[(&#x27;trf1&#x27;,\n",
       "                                        ColumnTransformer(remainder=&#x27;passthrough&#x27;,\n",
       "                                                          transformers=[(&#x27;impute&#x27;,\n",
       "                                                                         SimpleImputer(strategy=&#x27;most_frequent&#x27;),\n",
       "                                                                         [2, 6,\n",
       "                                                                          8,\n",
       "                                                                          9])])),\n",
       "                                       (&#x27;trf2&#x27;,\n",
       "                                        ColumnTransformer(remainder=&#x27;passthrough&#x27;,\n",
       "                                                          transformers=[(&#x27;gender&#x27;,\n",
       "                                                                         OneHotEncoder(handle_unknown=&#x27;ignore&#x27;,\n",
       "                                                                                       sparse=False),\n",
       "                                                                         [2]),\n",
       "                                                                        (&#x27;major_discipline&#x27;,\n",
       "                                                                         OrdinalEncoder(categories=[...\n",
       "                                                                                                     &#x27;School&#x27;,\n",
       "                                                                                                     &#x27;Graduate&#x27;,\n",
       "                                                                                                     &#x27;Masters&#x27;,\n",
       "                                                                                                     &#x27;Phd&#x27;]],\n",
       "                                                                                        handle_unknown=&#x27;use_encoded_value&#x27;,\n",
       "                                                                                        unknown_value=-1),\n",
       "                                                                         [5])])),\n",
       "                                       (&#x27;trf3&#x27;,\n",
       "                                        ColumnTransformer(transformers=[(&#x27;scale&#x27;,\n",
       "                                                                         MinMaxScaler(),\n",
       "                                                                         slice(0, 13, None))])),\n",
       "                                       (&#x27;trf4&#x27;,\n",
       "                                        SelectKBest(k=5,\n",
       "                                                    score_func=&lt;function chi2 at 0x7f8d7297b670&gt;)),\n",
       "                                       (&#x27;trf5&#x27;, DecisionTreeClassifier())]),\n",
       "             param_grid={&#x27;trf5__max_depth&#x27;: [1, 2, 3, 4, 5, None]},\n",
       "             scoring=&#x27;accuracy&#x27;)</pre></div></div></div><div class=\"sk-parallel\"><div class=\"sk-parallel-item\"><div class=\"sk-item\"><div class=\"sk-serial\"><div class=\"sk-item\"><div class=\"sk-serial\"><div class=\"sk-item sk-dashed-wrapped\"><div class=\"sk-label-container\"><div class=\"sk-label sk-toggleable\"><input class=\"sk-toggleable__control sk-hidden--visually\" id=\"0fe9481a-1688-4d30-a69c-57afcb9b7c88\" type=\"checkbox\" ><label for=\"0fe9481a-1688-4d30-a69c-57afcb9b7c88\" class=\"sk-toggleable__label sk-toggleable__label-arrow\">trf1: ColumnTransformer</label><div class=\"sk-toggleable__content\"><pre>ColumnTransformer(remainder=&#x27;passthrough&#x27;,\n",
       "                  transformers=[(&#x27;impute&#x27;,\n",
       "                                 SimpleImputer(strategy=&#x27;most_frequent&#x27;),\n",
       "                                 [2, 6, 8, 9])])</pre></div></div></div><div class=\"sk-parallel\"><div class=\"sk-parallel-item\"><div class=\"sk-item\"><div class=\"sk-label-container\"><div class=\"sk-label sk-toggleable\"><input class=\"sk-toggleable__control sk-hidden--visually\" id=\"709fce45-c462-4407-a88a-1181369caa9d\" type=\"checkbox\" ><label for=\"709fce45-c462-4407-a88a-1181369caa9d\" class=\"sk-toggleable__label sk-toggleable__label-arrow\">impute</label><div class=\"sk-toggleable__content\"><pre>[2, 6, 8, 9]</pre></div></div></div><div class=\"sk-serial\"><div class=\"sk-item\"><div class=\"sk-estimator sk-toggleable\"><input class=\"sk-toggleable__control sk-hidden--visually\" id=\"7ae34972-bb7a-40f1-becb-ab14f99bea7b\" type=\"checkbox\" ><label for=\"7ae34972-bb7a-40f1-becb-ab14f99bea7b\" class=\"sk-toggleable__label sk-toggleable__label-arrow\">SimpleImputer</label><div class=\"sk-toggleable__content\"><pre>SimpleImputer(strategy=&#x27;most_frequent&#x27;)</pre></div></div></div></div></div></div><div class=\"sk-parallel-item\"><div class=\"sk-item\"><div class=\"sk-label-container\"><div class=\"sk-label sk-toggleable\"><input class=\"sk-toggleable__control sk-hidden--visually\" id=\"35c9fab3-2ab6-49a6-ac0d-591eda21b77f\" type=\"checkbox\" ><label for=\"35c9fab3-2ab6-49a6-ac0d-591eda21b77f\" class=\"sk-toggleable__label sk-toggleable__label-arrow\">remainder</label><div class=\"sk-toggleable__content\"><pre>[&#x27;enrollee_id&#x27;, &#x27;city_development_index&#x27;, &#x27;relevent_experience&#x27;, &#x27;enrolled_university&#x27;, &#x27;education_level&#x27;, &#x27;experience&#x27;, &#x27;training_hours&#x27;]</pre></div></div></div><div class=\"sk-serial\"><div class=\"sk-item\"><div class=\"sk-estimator sk-toggleable\"><input class=\"sk-toggleable__control sk-hidden--visually\" id=\"62bd933f-1b3f-4997-a6cd-23c2fa7a9c90\" type=\"checkbox\" ><label for=\"62bd933f-1b3f-4997-a6cd-23c2fa7a9c90\" class=\"sk-toggleable__label sk-toggleable__label-arrow\">passthrough</label><div class=\"sk-toggleable__content\"><pre>passthrough</pre></div></div></div></div></div></div></div></div><div class=\"sk-item sk-dashed-wrapped\"><div class=\"sk-label-container\"><div class=\"sk-label sk-toggleable\"><input class=\"sk-toggleable__control sk-hidden--visually\" id=\"3b16065e-a214-4f14-84db-fa570cd5badd\" type=\"checkbox\" ><label for=\"3b16065e-a214-4f14-84db-fa570cd5badd\" class=\"sk-toggleable__label sk-toggleable__label-arrow\">trf2: ColumnTransformer</label><div class=\"sk-toggleable__content\"><pre>ColumnTransformer(remainder=&#x27;passthrough&#x27;,\n",
       "                  transformers=[(&#x27;gender&#x27;,\n",
       "                                 OneHotEncoder(handle_unknown=&#x27;ignore&#x27;,\n",
       "                                               sparse=False),\n",
       "                                 [2]),\n",
       "                                (&#x27;major_discipline&#x27;,\n",
       "                                 OrdinalEncoder(categories=[[&#x27;STEM&#x27;,\n",
       "                                                             &#x27;Humanities&#x27;,\n",
       "                                                             &#x27;Business Degree&#x27;,\n",
       "                                                             &#x27;Arts&#x27;, &#x27;Other&#x27;,\n",
       "                                                             &#x27;No Major&#x27;]],\n",
       "                                                handle_unknown=&#x27;use_encoded_value&#x27;,\n",
       "                                                unknown_value=-1),\n",
       "                                 [6]),\n",
       "                                (&#x27;company_size&#x27;,\n",
       "                                 OrdinalEncoder(categories=[[&#x27;&lt;10&#x27;, &#x27;10/49&#x27;...\n",
       "                                                unknown_value=-1),\n",
       "                                 [3]),\n",
       "                                (&#x27;enrolled_university&#x27;,\n",
       "                                 OrdinalEncoder(categories=[[&#x27;no_enrollment&#x27;,\n",
       "                                                             &#x27;Part time course&#x27;,\n",
       "                                                             &#x27;Full time &#x27;\n",
       "                                                             &#x27;course&#x27;]],\n",
       "                                                handle_unknown=&#x27;use_encoded_value&#x27;,\n",
       "                                                unknown_value=-1),\n",
       "                                 [4]),\n",
       "                                (&#x27;education_level&#x27;,\n",
       "                                 OrdinalEncoder(categories=[[&#x27;Primary School&#x27;,\n",
       "                                                             &#x27;High School&#x27;,\n",
       "                                                             &#x27;Graduate&#x27;,\n",
       "                                                             &#x27;Masters&#x27;,\n",
       "                                                             &#x27;Phd&#x27;]],\n",
       "                                                handle_unknown=&#x27;use_encoded_value&#x27;,\n",
       "                                                unknown_value=-1),\n",
       "                                 [5])])</pre></div></div></div><div class=\"sk-parallel\"><div class=\"sk-parallel-item\"><div class=\"sk-item\"><div class=\"sk-label-container\"><div class=\"sk-label sk-toggleable\"><input class=\"sk-toggleable__control sk-hidden--visually\" id=\"da371596-c3df-4443-bc54-0ddad1c07883\" type=\"checkbox\" ><label for=\"da371596-c3df-4443-bc54-0ddad1c07883\" class=\"sk-toggleable__label sk-toggleable__label-arrow\">gender</label><div class=\"sk-toggleable__content\"><pre>[2]</pre></div></div></div><div class=\"sk-serial\"><div class=\"sk-item\"><div class=\"sk-estimator sk-toggleable\"><input class=\"sk-toggleable__control sk-hidden--visually\" id=\"e9431753-91db-4ba1-a5c8-b601d16986b8\" type=\"checkbox\" ><label for=\"e9431753-91db-4ba1-a5c8-b601d16986b8\" class=\"sk-toggleable__label sk-toggleable__label-arrow\">OneHotEncoder</label><div class=\"sk-toggleable__content\"><pre>OneHotEncoder(handle_unknown=&#x27;ignore&#x27;, sparse=False)</pre></div></div></div></div></div></div><div class=\"sk-parallel-item\"><div class=\"sk-item\"><div class=\"sk-label-container\"><div class=\"sk-label sk-toggleable\"><input class=\"sk-toggleable__control sk-hidden--visually\" id=\"6e7c33f3-fa9b-4911-b667-68cf43dbae23\" type=\"checkbox\" ><label for=\"6e7c33f3-fa9b-4911-b667-68cf43dbae23\" class=\"sk-toggleable__label sk-toggleable__label-arrow\">major_discipline</label><div class=\"sk-toggleable__content\"><pre>[6]</pre></div></div></div><div class=\"sk-serial\"><div class=\"sk-item\"><div class=\"sk-estimator sk-toggleable\"><input class=\"sk-toggleable__control sk-hidden--visually\" id=\"7d6f1c4e-9ca3-4f15-aa19-6a87bf9965ae\" type=\"checkbox\" ><label for=\"7d6f1c4e-9ca3-4f15-aa19-6a87bf9965ae\" class=\"sk-toggleable__label sk-toggleable__label-arrow\">OrdinalEncoder</label><div class=\"sk-toggleable__content\"><pre>OrdinalEncoder(categories=[[&#x27;STEM&#x27;, &#x27;Humanities&#x27;, &#x27;Business Degree&#x27;, &#x27;Arts&#x27;,\n",
       "                            &#x27;Other&#x27;, &#x27;No Major&#x27;]],\n",
       "               handle_unknown=&#x27;use_encoded_value&#x27;, unknown_value=-1)</pre></div></div></div></div></div></div><div class=\"sk-parallel-item\"><div class=\"sk-item\"><div class=\"sk-label-container\"><div class=\"sk-label sk-toggleable\"><input class=\"sk-toggleable__control sk-hidden--visually\" id=\"02b66437-2694-4336-b0cb-73665787e0bc\" type=\"checkbox\" ><label for=\"02b66437-2694-4336-b0cb-73665787e0bc\" class=\"sk-toggleable__label sk-toggleable__label-arrow\">company_size</label><div class=\"sk-toggleable__content\"><pre>[8]</pre></div></div></div><div class=\"sk-serial\"><div class=\"sk-item\"><div class=\"sk-estimator sk-toggleable\"><input class=\"sk-toggleable__control sk-hidden--visually\" id=\"90f95227-a33e-4f5e-880e-84a118e822b0\" type=\"checkbox\" ><label for=\"90f95227-a33e-4f5e-880e-84a118e822b0\" class=\"sk-toggleable__label sk-toggleable__label-arrow\">OrdinalEncoder</label><div class=\"sk-toggleable__content\"><pre>OrdinalEncoder(categories=[[&#x27;&lt;10&#x27;, &#x27;10/49&#x27;, &#x27;50-99&#x27;, &#x27;100-500&#x27;, &#x27;500-999&#x27;,\n",
       "                            &#x27;1000-4999&#x27;, &#x27;5000-9999&#x27;, &#x27;10000+&#x27;]],\n",
       "               handle_unknown=&#x27;use_encoded_value&#x27;, unknown_value=-1)</pre></div></div></div></div></div></div><div class=\"sk-parallel-item\"><div class=\"sk-item\"><div class=\"sk-label-container\"><div class=\"sk-label sk-toggleable\"><input class=\"sk-toggleable__control sk-hidden--visually\" id=\"876e2bd8-ae68-4b37-bb8a-7e871aecf748\" type=\"checkbox\" ><label for=\"876e2bd8-ae68-4b37-bb8a-7e871aecf748\" class=\"sk-toggleable__label sk-toggleable__label-arrow\">company_type</label><div class=\"sk-toggleable__content\"><pre>[9]</pre></div></div></div><div class=\"sk-serial\"><div class=\"sk-item\"><div class=\"sk-estimator sk-toggleable\"><input class=\"sk-toggleable__control sk-hidden--visually\" id=\"a303bcda-d977-479b-b198-08638e811d08\" type=\"checkbox\" ><label for=\"a303bcda-d977-479b-b198-08638e811d08\" class=\"sk-toggleable__label sk-toggleable__label-arrow\">OrdinalEncoder</label><div class=\"sk-toggleable__content\"><pre>OrdinalEncoder(categories=[[&#x27;Pvt Ltd&#x27;, &#x27;Public Sector&#x27;, &#x27;Funded Startup&#x27;,\n",
       "                            &#x27;Early Stage Startup&#x27;, &#x27;NGO&quot;,&quot;Other&#x27;]],\n",
       "               handle_unknown=&#x27;use_encoded_value&#x27;, unknown_value=-1)</pre></div></div></div></div></div></div><div class=\"sk-parallel-item\"><div class=\"sk-item\"><div class=\"sk-label-container\"><div class=\"sk-label sk-toggleable\"><input class=\"sk-toggleable__control sk-hidden--visually\" id=\"512a97b4-72c1-44bb-9a65-bfac4df78d18\" type=\"checkbox\" ><label for=\"512a97b4-72c1-44bb-9a65-bfac4df78d18\" class=\"sk-toggleable__label sk-toggleable__label-arrow\">relevent_experience</label><div class=\"sk-toggleable__content\"><pre>[3]</pre></div></div></div><div class=\"sk-serial\"><div class=\"sk-item\"><div class=\"sk-estimator sk-toggleable\"><input class=\"sk-toggleable__control sk-hidden--visually\" id=\"1069ef34-822b-4c93-b31a-d46ba42ba577\" type=\"checkbox\" ><label for=\"1069ef34-822b-4c93-b31a-d46ba42ba577\" class=\"sk-toggleable__label sk-toggleable__label-arrow\">OrdinalEncoder</label><div class=\"sk-toggleable__content\"><pre>OrdinalEncoder(categories=[[&#x27;No relevent experience&#x27;,\n",
       "                            &#x27;Has relevent experience&#x27;]],\n",
       "               handle_unknown=&#x27;use_encoded_value&#x27;, unknown_value=-1)</pre></div></div></div></div></div></div><div class=\"sk-parallel-item\"><div class=\"sk-item\"><div class=\"sk-label-container\"><div class=\"sk-label sk-toggleable\"><input class=\"sk-toggleable__control sk-hidden--visually\" id=\"9b0b3cd2-bfc1-466a-bba5-8c617ca25750\" type=\"checkbox\" ><label for=\"9b0b3cd2-bfc1-466a-bba5-8c617ca25750\" class=\"sk-toggleable__label sk-toggleable__label-arrow\">enrolled_university</label><div class=\"sk-toggleable__content\"><pre>[4]</pre></div></div></div><div class=\"sk-serial\"><div class=\"sk-item\"><div class=\"sk-estimator sk-toggleable\"><input class=\"sk-toggleable__control sk-hidden--visually\" id=\"001d3960-c644-4dd7-9f40-4688f1728f10\" type=\"checkbox\" ><label for=\"001d3960-c644-4dd7-9f40-4688f1728f10\" class=\"sk-toggleable__label sk-toggleable__label-arrow\">OrdinalEncoder</label><div class=\"sk-toggleable__content\"><pre>OrdinalEncoder(categories=[[&#x27;no_enrollment&#x27;, &#x27;Part time course&#x27;,\n",
       "                            &#x27;Full time course&#x27;]],\n",
       "               handle_unknown=&#x27;use_encoded_value&#x27;, unknown_value=-1)</pre></div></div></div></div></div></div><div class=\"sk-parallel-item\"><div class=\"sk-item\"><div class=\"sk-label-container\"><div class=\"sk-label sk-toggleable\"><input class=\"sk-toggleable__control sk-hidden--visually\" id=\"66bf6654-95b5-4173-a722-786647752f3b\" type=\"checkbox\" ><label for=\"66bf6654-95b5-4173-a722-786647752f3b\" class=\"sk-toggleable__label sk-toggleable__label-arrow\">education_level</label><div class=\"sk-toggleable__content\"><pre>[5]</pre></div></div></div><div class=\"sk-serial\"><div class=\"sk-item\"><div class=\"sk-estimator sk-toggleable\"><input class=\"sk-toggleable__control sk-hidden--visually\" id=\"2c437e4e-adb6-492a-a2a4-d11d703c7bd8\" type=\"checkbox\" ><label for=\"2c437e4e-adb6-492a-a2a4-d11d703c7bd8\" class=\"sk-toggleable__label sk-toggleable__label-arrow\">OrdinalEncoder</label><div class=\"sk-toggleable__content\"><pre>OrdinalEncoder(categories=[[&#x27;Primary School&#x27;, &#x27;High School&#x27;, &#x27;Graduate&#x27;,\n",
       "                            &#x27;Masters&#x27;, &#x27;Phd&#x27;]],\n",
       "               handle_unknown=&#x27;use_encoded_value&#x27;, unknown_value=-1)</pre></div></div></div></div></div></div><div class=\"sk-parallel-item\"><div class=\"sk-item\"><div class=\"sk-label-container\"><div class=\"sk-label sk-toggleable\"><input class=\"sk-toggleable__control sk-hidden--visually\" id=\"9f6b9ce8-2a92-4889-b79b-0a5b72806437\" type=\"checkbox\" ><label for=\"9f6b9ce8-2a92-4889-b79b-0a5b72806437\" class=\"sk-toggleable__label sk-toggleable__label-arrow\">remainder</label><div class=\"sk-toggleable__content\"><pre>[0, 1, 7, 10]</pre></div></div></div><div class=\"sk-serial\"><div class=\"sk-item\"><div class=\"sk-estimator sk-toggleable\"><input class=\"sk-toggleable__control sk-hidden--visually\" id=\"199bda3a-2a12-4d21-a21e-26f9e4964921\" type=\"checkbox\" ><label for=\"199bda3a-2a12-4d21-a21e-26f9e4964921\" class=\"sk-toggleable__label sk-toggleable__label-arrow\">passthrough</label><div class=\"sk-toggleable__content\"><pre>passthrough</pre></div></div></div></div></div></div></div></div><div class=\"sk-item sk-dashed-wrapped\"><div class=\"sk-label-container\"><div class=\"sk-label sk-toggleable\"><input class=\"sk-toggleable__control sk-hidden--visually\" id=\"8fa3521e-3cca-42fd-a89a-35f3e9332ebd\" type=\"checkbox\" ><label for=\"8fa3521e-3cca-42fd-a89a-35f3e9332ebd\" class=\"sk-toggleable__label sk-toggleable__label-arrow\">trf3: ColumnTransformer</label><div class=\"sk-toggleable__content\"><pre>ColumnTransformer(transformers=[(&#x27;scale&#x27;, MinMaxScaler(), slice(0, 13, None))])</pre></div></div></div><div class=\"sk-parallel\"><div class=\"sk-parallel-item\"><div class=\"sk-item\"><div class=\"sk-label-container\"><div class=\"sk-label sk-toggleable\"><input class=\"sk-toggleable__control sk-hidden--visually\" id=\"1add2d3f-cfbc-4ea1-9d1f-13426e2496b2\" type=\"checkbox\" ><label for=\"1add2d3f-cfbc-4ea1-9d1f-13426e2496b2\" class=\"sk-toggleable__label sk-toggleable__label-arrow\">scale</label><div class=\"sk-toggleable__content\"><pre>slice(0, 13, None)</pre></div></div></div><div class=\"sk-serial\"><div class=\"sk-item\"><div class=\"sk-estimator sk-toggleable\"><input class=\"sk-toggleable__control sk-hidden--visually\" id=\"c807f3f6-cb7c-4124-a839-38d7a39f598c\" type=\"checkbox\" ><label for=\"c807f3f6-cb7c-4124-a839-38d7a39f598c\" class=\"sk-toggleable__label sk-toggleable__label-arrow\">MinMaxScaler</label><div class=\"sk-toggleable__content\"><pre>MinMaxScaler()</pre></div></div></div></div></div></div></div></div><div class=\"sk-item\"><div class=\"sk-estimator sk-toggleable\"><input class=\"sk-toggleable__control sk-hidden--visually\" id=\"ae55cbde-6cd1-43f4-98d7-519892b31d25\" type=\"checkbox\" ><label for=\"ae55cbde-6cd1-43f4-98d7-519892b31d25\" class=\"sk-toggleable__label sk-toggleable__label-arrow\">SelectKBest</label><div class=\"sk-toggleable__content\"><pre>SelectKBest(k=5, score_func=&lt;function chi2 at 0x7f8d7297b670&gt;)</pre></div></div></div><div class=\"sk-item\"><div class=\"sk-estimator sk-toggleable\"><input class=\"sk-toggleable__control sk-hidden--visually\" id=\"181865f2-b6fe-4f19-9842-2dd8c405d877\" type=\"checkbox\" ><label for=\"181865f2-b6fe-4f19-9842-2dd8c405d877\" class=\"sk-toggleable__label sk-toggleable__label-arrow\">DecisionTreeClassifier</label><div class=\"sk-toggleable__content\"><pre>DecisionTreeClassifier()</pre></div></div></div></div></div></div></div></div></div></div></div></div>"
      ],
      "text/plain": [
       "GridSearchCV(cv=5,\n",
       "             estimator=Pipeline(steps=[('trf1',\n",
       "                                        ColumnTransformer(remainder='passthrough',\n",
       "                                                          transformers=[('impute',\n",
       "                                                                         SimpleImputer(strategy='most_frequent'),\n",
       "                                                                         [2, 6,\n",
       "                                                                          8,\n",
       "                                                                          9])])),\n",
       "                                       ('trf2',\n",
       "                                        ColumnTransformer(remainder='passthrough',\n",
       "                                                          transformers=[('gender',\n",
       "                                                                         OneHotEncoder(handle_unknown='ignore',\n",
       "                                                                                       sparse=False),\n",
       "                                                                         [2]),\n",
       "                                                                        ('major_discipline',\n",
       "                                                                         OrdinalEncoder(categories=[...\n",
       "                                                                                                     'School',\n",
       "                                                                                                     'Graduate',\n",
       "                                                                                                     'Masters',\n",
       "                                                                                                     'Phd']],\n",
       "                                                                                        handle_unknown='use_encoded_value',\n",
       "                                                                                        unknown_value=-1),\n",
       "                                                                         [5])])),\n",
       "                                       ('trf3',\n",
       "                                        ColumnTransformer(transformers=[('scale',\n",
       "                                                                         MinMaxScaler(),\n",
       "                                                                         slice(0, 13, None))])),\n",
       "                                       ('trf4',\n",
       "                                        SelectKBest(k=5,\n",
       "                                                    score_func=<function chi2 at 0x7f8d7297b670>)),\n",
       "                                       ('trf5', DecisionTreeClassifier())]),\n",
       "             param_grid={'trf5__max_depth': [1, 2, 3, 4, 5, None]},\n",
       "             scoring='accuracy')"
      ]
     },
     "execution_count": 665,
     "metadata": {},
     "output_type": "execute_result"
    }
   ],
   "source": [
    "from sklearn.model_selection import GridSearchCV\n",
    "grid=GridSearchCV(pipe,params,cv=5,scoring='accuracy')\n",
    "grid.fit(X_train,y_train)"
   ]
  },
  {
   "cell_type": "code",
   "execution_count": 666,
   "id": "c16760c4",
   "metadata": {},
   "outputs": [
    {
     "data": {
      "text/plain": [
       "0.7505820270200705"
      ]
     },
     "execution_count": 666,
     "metadata": {},
     "output_type": "execute_result"
    }
   ],
   "source": [
    "grid.best_score_"
   ]
  },
  {
   "cell_type": "code",
   "execution_count": 667,
   "id": "f688231a",
   "metadata": {},
   "outputs": [
    {
     "data": {
      "text/plain": [
       "{'trf5__max_depth': 1}"
      ]
     },
     "execution_count": 667,
     "metadata": {},
     "output_type": "execute_result"
    }
   ],
   "source": [
    "grid.best_params_"
   ]
  }
 ],
 "metadata": {
  "kernelspec": {
   "display_name": "Python 3 (ipykernel)",
   "language": "python",
   "name": "python3"
  },
  "language_info": {
   "codemirror_mode": {
    "name": "ipython",
    "version": 3
   },
   "file_extension": ".py",
   "mimetype": "text/x-python",
   "name": "python",
   "nbconvert_exporter": "python",
   "pygments_lexer": "ipython3",
   "version": "3.9.12"
  }
 },
 "nbformat": 4,
 "nbformat_minor": 5
}
