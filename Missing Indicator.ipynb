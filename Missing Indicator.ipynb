{
 "cells": [
  {
   "cell_type": "code",
   "execution_count": 291,
   "id": "a2f137c3",
   "metadata": {},
   "outputs": [],
   "source": [
    "import numpy as np\n",
    "import pandas as pd\n",
    "from sklearn.impute import SimpleImputer\n",
    "from sklearn.model_selection import train_test_split\n",
    "from sklearn.compose import ColumnTransformer\n",
    "from sklearn.preprocessing import OneHotEncoder, MinMaxScaler, OrdinalEncoder\n",
    "from sklearn import set_config \n",
    "from sklearn.feature_selection import SelectKBest,chi2\n",
    "from sklearn.tree import DecisionTreeClassifier\n",
    "from sklearn.pipeline import Pipeline\n",
    "from sklearn.model_selection import cross_val_score\n",
    "from sklearn.metrics import accuracy_score\n",
    "from sklearn.linear_model import LinearRegression, LogisticRegression"
   ]
  },
  {
   "cell_type": "code",
   "execution_count": 292,
   "id": "9b01959a",
   "metadata": {},
   "outputs": [],
   "source": [
    "set_config(display='diagram')"
   ]
  },
  {
   "cell_type": "code",
   "execution_count": 293,
   "id": "16816871",
   "metadata": {},
   "outputs": [],
   "source": [
    "df=pd.read_csv(\"./datasets/train.csv\")"
   ]
  },
  {
   "cell_type": "code",
   "execution_count": 294,
   "id": "d9b98525",
   "metadata": {},
   "outputs": [
    {
     "data": {
      "text/html": [
       "<div>\n",
       "<style scoped>\n",
       "    .dataframe tbody tr th:only-of-type {\n",
       "        vertical-align: middle;\n",
       "    }\n",
       "\n",
       "    .dataframe tbody tr th {\n",
       "        vertical-align: top;\n",
       "    }\n",
       "\n",
       "    .dataframe thead th {\n",
       "        text-align: right;\n",
       "    }\n",
       "</style>\n",
       "<table border=\"1\" class=\"dataframe\">\n",
       "  <thead>\n",
       "    <tr style=\"text-align: right;\">\n",
       "      <th></th>\n",
       "      <th>PassengerId</th>\n",
       "      <th>Survived</th>\n",
       "      <th>Pclass</th>\n",
       "      <th>Name</th>\n",
       "      <th>Sex</th>\n",
       "      <th>Age</th>\n",
       "      <th>SibSp</th>\n",
       "      <th>Parch</th>\n",
       "      <th>Ticket</th>\n",
       "      <th>Fare</th>\n",
       "      <th>Cabin</th>\n",
       "      <th>Embarked</th>\n",
       "    </tr>\n",
       "  </thead>\n",
       "  <tbody>\n",
       "    <tr>\n",
       "      <th>0</th>\n",
       "      <td>1</td>\n",
       "      <td>0</td>\n",
       "      <td>3</td>\n",
       "      <td>Braund, Mr. Owen Harris</td>\n",
       "      <td>male</td>\n",
       "      <td>22.0</td>\n",
       "      <td>1</td>\n",
       "      <td>0</td>\n",
       "      <td>A/5 21171</td>\n",
       "      <td>7.2500</td>\n",
       "      <td>NaN</td>\n",
       "      <td>S</td>\n",
       "    </tr>\n",
       "    <tr>\n",
       "      <th>1</th>\n",
       "      <td>2</td>\n",
       "      <td>1</td>\n",
       "      <td>1</td>\n",
       "      <td>Cumings, Mrs. John Bradley (Florence Briggs Th...</td>\n",
       "      <td>female</td>\n",
       "      <td>38.0</td>\n",
       "      <td>1</td>\n",
       "      <td>0</td>\n",
       "      <td>PC 17599</td>\n",
       "      <td>71.2833</td>\n",
       "      <td>C85</td>\n",
       "      <td>C</td>\n",
       "    </tr>\n",
       "    <tr>\n",
       "      <th>2</th>\n",
       "      <td>3</td>\n",
       "      <td>1</td>\n",
       "      <td>3</td>\n",
       "      <td>Heikkinen, Miss. Laina</td>\n",
       "      <td>female</td>\n",
       "      <td>26.0</td>\n",
       "      <td>0</td>\n",
       "      <td>0</td>\n",
       "      <td>STON/O2. 3101282</td>\n",
       "      <td>7.9250</td>\n",
       "      <td>NaN</td>\n",
       "      <td>S</td>\n",
       "    </tr>\n",
       "  </tbody>\n",
       "</table>\n",
       "</div>"
      ],
      "text/plain": [
       "   PassengerId  Survived  Pclass  \\\n",
       "0            1         0       3   \n",
       "1            2         1       1   \n",
       "2            3         1       3   \n",
       "\n",
       "                                                Name     Sex   Age  SibSp  \\\n",
       "0                            Braund, Mr. Owen Harris    male  22.0      1   \n",
       "1  Cumings, Mrs. John Bradley (Florence Briggs Th...  female  38.0      1   \n",
       "2                             Heikkinen, Miss. Laina  female  26.0      0   \n",
       "\n",
       "   Parch            Ticket     Fare Cabin Embarked  \n",
       "0      0         A/5 21171   7.2500   NaN        S  \n",
       "1      0          PC 17599  71.2833   C85        C  \n",
       "2      0  STON/O2. 3101282   7.9250   NaN        S  "
      ]
     },
     "execution_count": 294,
     "metadata": {},
     "output_type": "execute_result"
    }
   ],
   "source": [
    "df.head(3)"
   ]
  },
  {
   "cell_type": "code",
   "execution_count": 295,
   "id": "94b59b0a",
   "metadata": {},
   "outputs": [
    {
     "data": {
      "text/plain": [
       "PassengerId     0.000000\n",
       "Survived        0.000000\n",
       "Pclass          0.000000\n",
       "Name            0.000000\n",
       "Sex             0.000000\n",
       "Age            19.865320\n",
       "SibSp           0.000000\n",
       "Parch           0.000000\n",
       "Ticket          0.000000\n",
       "Fare            0.000000\n",
       "Cabin          77.104377\n",
       "Embarked        0.224467\n",
       "dtype: float64"
      ]
     },
     "execution_count": 295,
     "metadata": {},
     "output_type": "execute_result"
    }
   ],
   "source": [
    "df.isnull().mean()*100"
   ]
  },
  {
   "cell_type": "code",
   "execution_count": 296,
   "id": "fea0f435",
   "metadata": {},
   "outputs": [],
   "source": [
    "df=df[[\"Age\",\"Fare\",\"Embarked\",\"Survived\"]]"
   ]
  },
  {
   "cell_type": "code",
   "execution_count": 297,
   "id": "99a151d6",
   "metadata": {},
   "outputs": [
    {
     "data": {
      "text/html": [
       "<div>\n",
       "<style scoped>\n",
       "    .dataframe tbody tr th:only-of-type {\n",
       "        vertical-align: middle;\n",
       "    }\n",
       "\n",
       "    .dataframe tbody tr th {\n",
       "        vertical-align: top;\n",
       "    }\n",
       "\n",
       "    .dataframe thead th {\n",
       "        text-align: right;\n",
       "    }\n",
       "</style>\n",
       "<table border=\"1\" class=\"dataframe\">\n",
       "  <thead>\n",
       "    <tr style=\"text-align: right;\">\n",
       "      <th></th>\n",
       "      <th>Age</th>\n",
       "      <th>Fare</th>\n",
       "      <th>Embarked</th>\n",
       "      <th>Survived</th>\n",
       "    </tr>\n",
       "  </thead>\n",
       "  <tbody>\n",
       "    <tr>\n",
       "      <th>0</th>\n",
       "      <td>22.0</td>\n",
       "      <td>7.2500</td>\n",
       "      <td>S</td>\n",
       "      <td>0</td>\n",
       "    </tr>\n",
       "    <tr>\n",
       "      <th>1</th>\n",
       "      <td>38.0</td>\n",
       "      <td>71.2833</td>\n",
       "      <td>C</td>\n",
       "      <td>1</td>\n",
       "    </tr>\n",
       "    <tr>\n",
       "      <th>2</th>\n",
       "      <td>26.0</td>\n",
       "      <td>7.9250</td>\n",
       "      <td>S</td>\n",
       "      <td>1</td>\n",
       "    </tr>\n",
       "    <tr>\n",
       "      <th>3</th>\n",
       "      <td>35.0</td>\n",
       "      <td>53.1000</td>\n",
       "      <td>S</td>\n",
       "      <td>1</td>\n",
       "    </tr>\n",
       "  </tbody>\n",
       "</table>\n",
       "</div>"
      ],
      "text/plain": [
       "    Age     Fare Embarked  Survived\n",
       "0  22.0   7.2500        S         0\n",
       "1  38.0  71.2833        C         1\n",
       "2  26.0   7.9250        S         1\n",
       "3  35.0  53.1000        S         1"
      ]
     },
     "execution_count": 297,
     "metadata": {},
     "output_type": "execute_result"
    }
   ],
   "source": [
    "df.head(4)"
   ]
  },
  {
   "cell_type": "code",
   "execution_count": 298,
   "id": "7d376ba1",
   "metadata": {},
   "outputs": [
    {
     "data": {
      "text/plain": [
       "2"
      ]
     },
     "execution_count": 298,
     "metadata": {},
     "output_type": "execute_result"
    }
   ],
   "source": [
    "df[\"Embarked\"].isnull().sum()"
   ]
  },
  {
   "cell_type": "markdown",
   "id": "fb9c9af3",
   "metadata": {},
   "source": [
    "# Train_test_split"
   ]
  },
  {
   "cell_type": "code",
   "execution_count": 299,
   "id": "7ed8366e",
   "metadata": {},
   "outputs": [],
   "source": [
    "X_train,X_test,y_train,y_test=train_test_split(df.iloc[:,:3],df.iloc[:,3:4])"
   ]
  },
  {
   "cell_type": "code",
   "execution_count": 300,
   "id": "21bb3ae7",
   "metadata": {},
   "outputs": [
    {
     "data": {
      "text/plain": [
       "((668, 3), (223, 3), (668, 1), (223, 1))"
      ]
     },
     "execution_count": 300,
     "metadata": {},
     "output_type": "execute_result"
    }
   ],
   "source": [
    "X_train.shape,X_test.shape,y_train.shape,y_test.shape"
   ]
  },
  {
   "cell_type": "code",
   "execution_count": 301,
   "id": "25bbeec1",
   "metadata": {},
   "outputs": [
    {
     "data": {
      "text/plain": [
       "Index(['Age', 'Fare', 'Embarked'], dtype='object')"
      ]
     },
     "execution_count": 301,
     "metadata": {},
     "output_type": "execute_result"
    }
   ],
   "source": [
    "X_train.columns"
   ]
  },
  {
   "cell_type": "code",
   "execution_count": 302,
   "id": "0e58ef43",
   "metadata": {},
   "outputs": [
    {
     "data": {
      "text/plain": [
       "S    486\n",
       "C    121\n",
       "Q     59\n",
       "Name: Embarked, dtype: int64"
      ]
     },
     "execution_count": 302,
     "metadata": {},
     "output_type": "execute_result"
    }
   ],
   "source": [
    "X_train[\"Embarked\"].value_counts()"
   ]
  },
  {
   "cell_type": "markdown",
   "id": "10c9978d",
   "metadata": {},
   "source": [
    "# Pipeline with Missing Indicator"
   ]
  },
  {
   "cell_type": "code",
   "execution_count": 303,
   "id": "929a2cfa",
   "metadata": {},
   "outputs": [],
   "source": [
    "trf1=ColumnTransformer(transformers=[\n",
    "    ('Age',SimpleImputer(strategy=\"mean\",add_indicator=True),[0]),\n",
    "    (\"Embarked\",SimpleImputer(strategy=\"most_frequent\",add_indicator=True),[2])\n",
    "],\n",
    "remainder=\"passthrough\")"
   ]
  },
  {
   "cell_type": "code",
   "execution_count": 304,
   "id": "a941b97d",
   "metadata": {},
   "outputs": [],
   "source": [
    "trf2=ColumnTransformer(transformers=[\n",
    "    (\"Embarked1\",OneHotEncoder(sparse=False,handle_unknown=\"ignore\"),[2])\n",
    "],\n",
    "remainder=\"passthrough\")"
   ]
  },
  {
   "cell_type": "code",
   "execution_count": 305,
   "id": "e291d92c",
   "metadata": {},
   "outputs": [],
   "source": [
    "trf3=ColumnTransformer(transformers=[\n",
    "    ('scale',MinMaxScaler(),slice(0,5))\n",
    "])"
   ]
  },
  {
   "cell_type": "code",
   "execution_count": 306,
   "id": "78767971",
   "metadata": {},
   "outputs": [],
   "source": [
    "trf4=SelectKBest(score_func=chi2,k=5)"
   ]
  },
  {
   "cell_type": "code",
   "execution_count": 307,
   "id": "664a923e",
   "metadata": {},
   "outputs": [],
   "source": [
    "trf5=DecisionTreeClassifier()\n",
    "#trf5=LogisticRegression()"
   ]
  },
  {
   "cell_type": "code",
   "execution_count": 308,
   "id": "e6f8c12a",
   "metadata": {},
   "outputs": [],
   "source": [
    "pipe=Pipeline([('trf1',trf1),('trf2',trf2),('trf3',trf3),('trf4',trf4),('trf5',trf5)])"
   ]
  },
  {
   "cell_type": "code",
   "execution_count": 309,
   "id": "ead8a599",
   "metadata": {},
   "outputs": [
    {
     "data": {
      "text/html": [
       "<style>#sk-03e6de2e-ff48-4511-b7ca-6794fac1a552 {color: black;background-color: white;}#sk-03e6de2e-ff48-4511-b7ca-6794fac1a552 pre{padding: 0;}#sk-03e6de2e-ff48-4511-b7ca-6794fac1a552 div.sk-toggleable {background-color: white;}#sk-03e6de2e-ff48-4511-b7ca-6794fac1a552 label.sk-toggleable__label {cursor: pointer;display: block;width: 100%;margin-bottom: 0;padding: 0.3em;box-sizing: border-box;text-align: center;}#sk-03e6de2e-ff48-4511-b7ca-6794fac1a552 label.sk-toggleable__label-arrow:before {content: \"▸\";float: left;margin-right: 0.25em;color: #696969;}#sk-03e6de2e-ff48-4511-b7ca-6794fac1a552 label.sk-toggleable__label-arrow:hover:before {color: black;}#sk-03e6de2e-ff48-4511-b7ca-6794fac1a552 div.sk-estimator:hover label.sk-toggleable__label-arrow:before {color: black;}#sk-03e6de2e-ff48-4511-b7ca-6794fac1a552 div.sk-toggleable__content {max-height: 0;max-width: 0;overflow: hidden;text-align: left;background-color: #f0f8ff;}#sk-03e6de2e-ff48-4511-b7ca-6794fac1a552 div.sk-toggleable__content pre {margin: 0.2em;color: black;border-radius: 0.25em;background-color: #f0f8ff;}#sk-03e6de2e-ff48-4511-b7ca-6794fac1a552 input.sk-toggleable__control:checked~div.sk-toggleable__content {max-height: 200px;max-width: 100%;overflow: auto;}#sk-03e6de2e-ff48-4511-b7ca-6794fac1a552 input.sk-toggleable__control:checked~label.sk-toggleable__label-arrow:before {content: \"▾\";}#sk-03e6de2e-ff48-4511-b7ca-6794fac1a552 div.sk-estimator input.sk-toggleable__control:checked~label.sk-toggleable__label {background-color: #d4ebff;}#sk-03e6de2e-ff48-4511-b7ca-6794fac1a552 div.sk-label input.sk-toggleable__control:checked~label.sk-toggleable__label {background-color: #d4ebff;}#sk-03e6de2e-ff48-4511-b7ca-6794fac1a552 input.sk-hidden--visually {border: 0;clip: rect(1px 1px 1px 1px);clip: rect(1px, 1px, 1px, 1px);height: 1px;margin: -1px;overflow: hidden;padding: 0;position: absolute;width: 1px;}#sk-03e6de2e-ff48-4511-b7ca-6794fac1a552 div.sk-estimator {font-family: monospace;background-color: #f0f8ff;border: 1px dotted black;border-radius: 0.25em;box-sizing: border-box;margin-bottom: 0.5em;}#sk-03e6de2e-ff48-4511-b7ca-6794fac1a552 div.sk-estimator:hover {background-color: #d4ebff;}#sk-03e6de2e-ff48-4511-b7ca-6794fac1a552 div.sk-parallel-item::after {content: \"\";width: 100%;border-bottom: 1px solid gray;flex-grow: 1;}#sk-03e6de2e-ff48-4511-b7ca-6794fac1a552 div.sk-label:hover label.sk-toggleable__label {background-color: #d4ebff;}#sk-03e6de2e-ff48-4511-b7ca-6794fac1a552 div.sk-serial::before {content: \"\";position: absolute;border-left: 1px solid gray;box-sizing: border-box;top: 2em;bottom: 0;left: 50%;}#sk-03e6de2e-ff48-4511-b7ca-6794fac1a552 div.sk-serial {display: flex;flex-direction: column;align-items: center;background-color: white;padding-right: 0.2em;padding-left: 0.2em;}#sk-03e6de2e-ff48-4511-b7ca-6794fac1a552 div.sk-item {z-index: 1;}#sk-03e6de2e-ff48-4511-b7ca-6794fac1a552 div.sk-parallel {display: flex;align-items: stretch;justify-content: center;background-color: white;}#sk-03e6de2e-ff48-4511-b7ca-6794fac1a552 div.sk-parallel::before {content: \"\";position: absolute;border-left: 1px solid gray;box-sizing: border-box;top: 2em;bottom: 0;left: 50%;}#sk-03e6de2e-ff48-4511-b7ca-6794fac1a552 div.sk-parallel-item {display: flex;flex-direction: column;position: relative;background-color: white;}#sk-03e6de2e-ff48-4511-b7ca-6794fac1a552 div.sk-parallel-item:first-child::after {align-self: flex-end;width: 50%;}#sk-03e6de2e-ff48-4511-b7ca-6794fac1a552 div.sk-parallel-item:last-child::after {align-self: flex-start;width: 50%;}#sk-03e6de2e-ff48-4511-b7ca-6794fac1a552 div.sk-parallel-item:only-child::after {width: 0;}#sk-03e6de2e-ff48-4511-b7ca-6794fac1a552 div.sk-dashed-wrapped {border: 1px dashed gray;margin: 0 0.4em 0.5em 0.4em;box-sizing: border-box;padding-bottom: 0.4em;background-color: white;position: relative;}#sk-03e6de2e-ff48-4511-b7ca-6794fac1a552 div.sk-label label {font-family: monospace;font-weight: bold;background-color: white;display: inline-block;line-height: 1.2em;}#sk-03e6de2e-ff48-4511-b7ca-6794fac1a552 div.sk-label-container {position: relative;z-index: 2;text-align: center;}#sk-03e6de2e-ff48-4511-b7ca-6794fac1a552 div.sk-container {/* jupyter's `normalize.less` sets `[hidden] { display: none; }` but bootstrap.min.css set `[hidden] { display: none !important; }` so we also need the `!important` here to be able to override the default hidden behavior on the sphinx rendered scikit-learn.org. See: https://github.com/scikit-learn/scikit-learn/issues/21755 */display: inline-block !important;position: relative;}#sk-03e6de2e-ff48-4511-b7ca-6794fac1a552 div.sk-text-repr-fallback {display: none;}</style><div id=\"sk-03e6de2e-ff48-4511-b7ca-6794fac1a552\" class=\"sk-top-container\"><div class=\"sk-text-repr-fallback\"><pre>Pipeline(steps=[(&#x27;trf1&#x27;,\n",
       "                 ColumnTransformer(remainder=&#x27;passthrough&#x27;,\n",
       "                                   transformers=[(&#x27;Age&#x27;,\n",
       "                                                  SimpleImputer(add_indicator=True),\n",
       "                                                  [0]),\n",
       "                                                 (&#x27;Embarked&#x27;,\n",
       "                                                  SimpleImputer(add_indicator=True,\n",
       "                                                                strategy=&#x27;most_frequent&#x27;),\n",
       "                                                  [2])])),\n",
       "                (&#x27;trf2&#x27;,\n",
       "                 ColumnTransformer(remainder=&#x27;passthrough&#x27;,\n",
       "                                   transformers=[(&#x27;Embarked1&#x27;,\n",
       "                                                  OneHotEncoder(handle_unknown=&#x27;ignore&#x27;,\n",
       "                                                                sparse=False),\n",
       "                                                  [2])])),\n",
       "                (&#x27;trf3&#x27;,\n",
       "                 ColumnTransformer(transformers=[(&#x27;scale&#x27;, MinMaxScaler(),\n",
       "                                                  slice(0, 5, None))])),\n",
       "                (&#x27;trf4&#x27;,\n",
       "                 SelectKBest(k=5,\n",
       "                             score_func=&lt;function chi2 at 0x7f1138859ca0&gt;)),\n",
       "                (&#x27;trf5&#x27;, DecisionTreeClassifier())])</pre><b>Please rerun this cell to show the HTML repr or trust the notebook.</b></div><div class=\"sk-container\" hidden><div class=\"sk-item sk-dashed-wrapped\"><div class=\"sk-label-container\"><div class=\"sk-label sk-toggleable\"><input class=\"sk-toggleable__control sk-hidden--visually\" id=\"99b85ff8-2ed3-4a72-8e31-f4cd218d43b4\" type=\"checkbox\" ><label for=\"99b85ff8-2ed3-4a72-8e31-f4cd218d43b4\" class=\"sk-toggleable__label sk-toggleable__label-arrow\">Pipeline</label><div class=\"sk-toggleable__content\"><pre>Pipeline(steps=[(&#x27;trf1&#x27;,\n",
       "                 ColumnTransformer(remainder=&#x27;passthrough&#x27;,\n",
       "                                   transformers=[(&#x27;Age&#x27;,\n",
       "                                                  SimpleImputer(add_indicator=True),\n",
       "                                                  [0]),\n",
       "                                                 (&#x27;Embarked&#x27;,\n",
       "                                                  SimpleImputer(add_indicator=True,\n",
       "                                                                strategy=&#x27;most_frequent&#x27;),\n",
       "                                                  [2])])),\n",
       "                (&#x27;trf2&#x27;,\n",
       "                 ColumnTransformer(remainder=&#x27;passthrough&#x27;,\n",
       "                                   transformers=[(&#x27;Embarked1&#x27;,\n",
       "                                                  OneHotEncoder(handle_unknown=&#x27;ignore&#x27;,\n",
       "                                                                sparse=False),\n",
       "                                                  [2])])),\n",
       "                (&#x27;trf3&#x27;,\n",
       "                 ColumnTransformer(transformers=[(&#x27;scale&#x27;, MinMaxScaler(),\n",
       "                                                  slice(0, 5, None))])),\n",
       "                (&#x27;trf4&#x27;,\n",
       "                 SelectKBest(k=5,\n",
       "                             score_func=&lt;function chi2 at 0x7f1138859ca0&gt;)),\n",
       "                (&#x27;trf5&#x27;, DecisionTreeClassifier())])</pre></div></div></div><div class=\"sk-serial\"><div class=\"sk-item sk-dashed-wrapped\"><div class=\"sk-label-container\"><div class=\"sk-label sk-toggleable\"><input class=\"sk-toggleable__control sk-hidden--visually\" id=\"04c8f091-115b-4cd0-9662-f5f9c71f331d\" type=\"checkbox\" ><label for=\"04c8f091-115b-4cd0-9662-f5f9c71f331d\" class=\"sk-toggleable__label sk-toggleable__label-arrow\">trf1: ColumnTransformer</label><div class=\"sk-toggleable__content\"><pre>ColumnTransformer(remainder=&#x27;passthrough&#x27;,\n",
       "                  transformers=[(&#x27;Age&#x27;, SimpleImputer(add_indicator=True), [0]),\n",
       "                                (&#x27;Embarked&#x27;,\n",
       "                                 SimpleImputer(add_indicator=True,\n",
       "                                               strategy=&#x27;most_frequent&#x27;),\n",
       "                                 [2])])</pre></div></div></div><div class=\"sk-parallel\"><div class=\"sk-parallel-item\"><div class=\"sk-item\"><div class=\"sk-label-container\"><div class=\"sk-label sk-toggleable\"><input class=\"sk-toggleable__control sk-hidden--visually\" id=\"34139188-3db4-4c4f-8ae9-4441c54bfc1c\" type=\"checkbox\" ><label for=\"34139188-3db4-4c4f-8ae9-4441c54bfc1c\" class=\"sk-toggleable__label sk-toggleable__label-arrow\">Age</label><div class=\"sk-toggleable__content\"><pre>[0]</pre></div></div></div><div class=\"sk-serial\"><div class=\"sk-item\"><div class=\"sk-estimator sk-toggleable\"><input class=\"sk-toggleable__control sk-hidden--visually\" id=\"5ebe0770-5cfa-4708-816f-2041860e23a5\" type=\"checkbox\" ><label for=\"5ebe0770-5cfa-4708-816f-2041860e23a5\" class=\"sk-toggleable__label sk-toggleable__label-arrow\">SimpleImputer</label><div class=\"sk-toggleable__content\"><pre>SimpleImputer(add_indicator=True)</pre></div></div></div></div></div></div><div class=\"sk-parallel-item\"><div class=\"sk-item\"><div class=\"sk-label-container\"><div class=\"sk-label sk-toggleable\"><input class=\"sk-toggleable__control sk-hidden--visually\" id=\"1f12b693-160d-40a5-ba95-5c222694d631\" type=\"checkbox\" ><label for=\"1f12b693-160d-40a5-ba95-5c222694d631\" class=\"sk-toggleable__label sk-toggleable__label-arrow\">Embarked</label><div class=\"sk-toggleable__content\"><pre>[2]</pre></div></div></div><div class=\"sk-serial\"><div class=\"sk-item\"><div class=\"sk-estimator sk-toggleable\"><input class=\"sk-toggleable__control sk-hidden--visually\" id=\"dd0394e1-d371-4775-b3cd-9639f9c02e9c\" type=\"checkbox\" ><label for=\"dd0394e1-d371-4775-b3cd-9639f9c02e9c\" class=\"sk-toggleable__label sk-toggleable__label-arrow\">SimpleImputer</label><div class=\"sk-toggleable__content\"><pre>SimpleImputer(add_indicator=True, strategy=&#x27;most_frequent&#x27;)</pre></div></div></div></div></div></div><div class=\"sk-parallel-item\"><div class=\"sk-item\"><div class=\"sk-label-container\"><div class=\"sk-label sk-toggleable\"><input class=\"sk-toggleable__control sk-hidden--visually\" id=\"21248b30-40d1-4cb8-a0bd-5e162bd9ec28\" type=\"checkbox\" ><label for=\"21248b30-40d1-4cb8-a0bd-5e162bd9ec28\" class=\"sk-toggleable__label sk-toggleable__label-arrow\">remainder</label><div class=\"sk-toggleable__content\"><pre>[&#x27;Fare&#x27;]</pre></div></div></div><div class=\"sk-serial\"><div class=\"sk-item\"><div class=\"sk-estimator sk-toggleable\"><input class=\"sk-toggleable__control sk-hidden--visually\" id=\"4ff789c3-5225-4e9b-8061-8525255e403b\" type=\"checkbox\" ><label for=\"4ff789c3-5225-4e9b-8061-8525255e403b\" class=\"sk-toggleable__label sk-toggleable__label-arrow\">passthrough</label><div class=\"sk-toggleable__content\"><pre>passthrough</pre></div></div></div></div></div></div></div></div><div class=\"sk-item sk-dashed-wrapped\"><div class=\"sk-label-container\"><div class=\"sk-label sk-toggleable\"><input class=\"sk-toggleable__control sk-hidden--visually\" id=\"bb2d5dcb-ae9f-416e-9dc1-a27701c5f903\" type=\"checkbox\" ><label for=\"bb2d5dcb-ae9f-416e-9dc1-a27701c5f903\" class=\"sk-toggleable__label sk-toggleable__label-arrow\">trf2: ColumnTransformer</label><div class=\"sk-toggleable__content\"><pre>ColumnTransformer(remainder=&#x27;passthrough&#x27;,\n",
       "                  transformers=[(&#x27;Embarked1&#x27;,\n",
       "                                 OneHotEncoder(handle_unknown=&#x27;ignore&#x27;,\n",
       "                                               sparse=False),\n",
       "                                 [2])])</pre></div></div></div><div class=\"sk-parallel\"><div class=\"sk-parallel-item\"><div class=\"sk-item\"><div class=\"sk-label-container\"><div class=\"sk-label sk-toggleable\"><input class=\"sk-toggleable__control sk-hidden--visually\" id=\"6db5cfee-1f7d-417d-9941-1915cae70678\" type=\"checkbox\" ><label for=\"6db5cfee-1f7d-417d-9941-1915cae70678\" class=\"sk-toggleable__label sk-toggleable__label-arrow\">Embarked1</label><div class=\"sk-toggleable__content\"><pre>[2]</pre></div></div></div><div class=\"sk-serial\"><div class=\"sk-item\"><div class=\"sk-estimator sk-toggleable\"><input class=\"sk-toggleable__control sk-hidden--visually\" id=\"bd30eaef-8d61-4557-9aad-db5e3c6efde4\" type=\"checkbox\" ><label for=\"bd30eaef-8d61-4557-9aad-db5e3c6efde4\" class=\"sk-toggleable__label sk-toggleable__label-arrow\">OneHotEncoder</label><div class=\"sk-toggleable__content\"><pre>OneHotEncoder(handle_unknown=&#x27;ignore&#x27;, sparse=False)</pre></div></div></div></div></div></div><div class=\"sk-parallel-item\"><div class=\"sk-item\"><div class=\"sk-label-container\"><div class=\"sk-label sk-toggleable\"><input class=\"sk-toggleable__control sk-hidden--visually\" id=\"e3b2df0e-45c5-4a68-bedc-4901fdccc71c\" type=\"checkbox\" ><label for=\"e3b2df0e-45c5-4a68-bedc-4901fdccc71c\" class=\"sk-toggleable__label sk-toggleable__label-arrow\">remainder</label><div class=\"sk-toggleable__content\"><pre>[0, 1, 3, 4]</pre></div></div></div><div class=\"sk-serial\"><div class=\"sk-item\"><div class=\"sk-estimator sk-toggleable\"><input class=\"sk-toggleable__control sk-hidden--visually\" id=\"21f90aa1-53c7-48bb-8d93-8e19e430d60b\" type=\"checkbox\" ><label for=\"21f90aa1-53c7-48bb-8d93-8e19e430d60b\" class=\"sk-toggleable__label sk-toggleable__label-arrow\">passthrough</label><div class=\"sk-toggleable__content\"><pre>passthrough</pre></div></div></div></div></div></div></div></div><div class=\"sk-item sk-dashed-wrapped\"><div class=\"sk-label-container\"><div class=\"sk-label sk-toggleable\"><input class=\"sk-toggleable__control sk-hidden--visually\" id=\"8a469c70-92a2-447a-9c85-ff37c51d4e54\" type=\"checkbox\" ><label for=\"8a469c70-92a2-447a-9c85-ff37c51d4e54\" class=\"sk-toggleable__label sk-toggleable__label-arrow\">trf3: ColumnTransformer</label><div class=\"sk-toggleable__content\"><pre>ColumnTransformer(transformers=[(&#x27;scale&#x27;, MinMaxScaler(), slice(0, 5, None))])</pre></div></div></div><div class=\"sk-parallel\"><div class=\"sk-parallel-item\"><div class=\"sk-item\"><div class=\"sk-label-container\"><div class=\"sk-label sk-toggleable\"><input class=\"sk-toggleable__control sk-hidden--visually\" id=\"37d4af8d-7037-4940-b3ce-039ca9f47bcd\" type=\"checkbox\" ><label for=\"37d4af8d-7037-4940-b3ce-039ca9f47bcd\" class=\"sk-toggleable__label sk-toggleable__label-arrow\">scale</label><div class=\"sk-toggleable__content\"><pre>slice(0, 5, None)</pre></div></div></div><div class=\"sk-serial\"><div class=\"sk-item\"><div class=\"sk-estimator sk-toggleable\"><input class=\"sk-toggleable__control sk-hidden--visually\" id=\"3b7b63ed-a625-468b-8ff3-f7971a1260ef\" type=\"checkbox\" ><label for=\"3b7b63ed-a625-468b-8ff3-f7971a1260ef\" class=\"sk-toggleable__label sk-toggleable__label-arrow\">MinMaxScaler</label><div class=\"sk-toggleable__content\"><pre>MinMaxScaler()</pre></div></div></div></div></div></div></div></div><div class=\"sk-item\"><div class=\"sk-estimator sk-toggleable\"><input class=\"sk-toggleable__control sk-hidden--visually\" id=\"c4fe4089-ee0e-49fc-a846-0acdbfe0c727\" type=\"checkbox\" ><label for=\"c4fe4089-ee0e-49fc-a846-0acdbfe0c727\" class=\"sk-toggleable__label sk-toggleable__label-arrow\">SelectKBest</label><div class=\"sk-toggleable__content\"><pre>SelectKBest(k=5, score_func=&lt;function chi2 at 0x7f1138859ca0&gt;)</pre></div></div></div><div class=\"sk-item\"><div class=\"sk-estimator sk-toggleable\"><input class=\"sk-toggleable__control sk-hidden--visually\" id=\"f7bed30f-e5c2-4194-8995-1e7d89301b73\" type=\"checkbox\" ><label for=\"f7bed30f-e5c2-4194-8995-1e7d89301b73\" class=\"sk-toggleable__label sk-toggleable__label-arrow\">DecisionTreeClassifier</label><div class=\"sk-toggleable__content\"><pre>DecisionTreeClassifier()</pre></div></div></div></div></div></div></div>"
      ],
      "text/plain": [
       "Pipeline(steps=[('trf1',\n",
       "                 ColumnTransformer(remainder='passthrough',\n",
       "                                   transformers=[('Age',\n",
       "                                                  SimpleImputer(add_indicator=True),\n",
       "                                                  [0]),\n",
       "                                                 ('Embarked',\n",
       "                                                  SimpleImputer(add_indicator=True,\n",
       "                                                                strategy='most_frequent'),\n",
       "                                                  [2])])),\n",
       "                ('trf2',\n",
       "                 ColumnTransformer(remainder='passthrough',\n",
       "                                   transformers=[('Embarked1',\n",
       "                                                  OneHotEncoder(handle_unknown='ignore',\n",
       "                                                                sparse=False),\n",
       "                                                  [2])])),\n",
       "                ('trf3',\n",
       "                 ColumnTransformer(transformers=[('scale', MinMaxScaler(),\n",
       "                                                  slice(0, 5, None))])),\n",
       "                ('trf4',\n",
       "                 SelectKBest(k=5,\n",
       "                             score_func=<function chi2 at 0x7f1138859ca0>)),\n",
       "                ('trf5', DecisionTreeClassifier())])"
      ]
     },
     "execution_count": 309,
     "metadata": {},
     "output_type": "execute_result"
    }
   ],
   "source": [
    "pipe.fit(X_train,y_train)"
   ]
  },
  {
   "cell_type": "code",
   "execution_count": 310,
   "id": "da0a0a62",
   "metadata": {},
   "outputs": [
    {
     "data": {
      "text/plain": [
       "0.6348109078666816"
      ]
     },
     "execution_count": 310,
     "metadata": {},
     "output_type": "execute_result"
    }
   ],
   "source": [
    "cross_val_score(pipe,X_train,y_train,cv=5,scoring=\"accuracy\").mean()"
   ]
  },
  {
   "cell_type": "code",
   "execution_count": 311,
   "id": "ce2378a6",
   "metadata": {},
   "outputs": [],
   "source": [
    "y_pred=pipe.predict(X_test)"
   ]
  },
  {
   "cell_type": "code",
   "execution_count": 312,
   "id": "f6731e2d",
   "metadata": {},
   "outputs": [
    {
     "data": {
      "text/plain": [
       "0.57847533632287"
      ]
     },
     "execution_count": 312,
     "metadata": {},
     "output_type": "execute_result"
    }
   ],
   "source": [
    "accuracy_score(y_pred,y_test)"
   ]
  },
  {
   "cell_type": "markdown",
   "id": "3172e7e2",
   "metadata": {},
   "source": [
    "# Pipeline without Missing Indicator"
   ]
  },
  {
   "cell_type": "code",
   "execution_count": 313,
   "id": "11e53472",
   "metadata": {},
   "outputs": [],
   "source": [
    "X_train,X_test,y_train,y_test=train_test_split(df.iloc[:,:3],df.iloc[:,3:4])"
   ]
  },
  {
   "cell_type": "code",
   "execution_count": 314,
   "id": "13c5e0ee",
   "metadata": {},
   "outputs": [],
   "source": [
    "trf1=ColumnTransformer(transformers=[\n",
    "    ('Age',SimpleImputer(strategy=\"mean\",add_indicator=False),[0]),\n",
    "    (\"Embarked\",SimpleImputer(strategy=\"most_frequent\",add_indicator=False),[2])\n",
    "],\n",
    "remainder=\"passthrough\")"
   ]
  },
  {
   "cell_type": "code",
   "execution_count": 315,
   "id": "41cb9397",
   "metadata": {},
   "outputs": [],
   "source": [
    "trf2=ColumnTransformer(transformers=[\n",
    "    (\"Embarked1\",OneHotEncoder(sparse=False,handle_unknown=\"ignore\"),[2])\n",
    "],\n",
    "remainder=\"passthrough\")"
   ]
  },
  {
   "cell_type": "code",
   "execution_count": 316,
   "id": "7cb70bd4",
   "metadata": {},
   "outputs": [],
   "source": [
    "trf3=ColumnTransformer(transformers=[\n",
    "    ('scale',MinMaxScaler(),slice(0,5))\n",
    "])"
   ]
  },
  {
   "cell_type": "code",
   "execution_count": 317,
   "id": "3a2db4f8",
   "metadata": {},
   "outputs": [],
   "source": [
    "trf4=SelectKBest(score_func=chi2,k=5)"
   ]
  },
  {
   "cell_type": "code",
   "execution_count": 318,
   "id": "78c8f217",
   "metadata": {},
   "outputs": [],
   "source": [
    "trf5=DecisionTreeClassifier()"
   ]
  },
  {
   "cell_type": "code",
   "execution_count": 319,
   "id": "341d6ca0",
   "metadata": {},
   "outputs": [],
   "source": [
    "pipe=Pipeline([('trf1',trf1),('trf2',trf2),('trf3',trf3),('trf4',trf4),('trf5',trf5)])"
   ]
  },
  {
   "cell_type": "code",
   "execution_count": 320,
   "id": "2321ea5c",
   "metadata": {},
   "outputs": [
    {
     "data": {
      "text/html": [
       "<style>#sk-5b272e63-34c6-45b3-a72a-89c1df69dacd {color: black;background-color: white;}#sk-5b272e63-34c6-45b3-a72a-89c1df69dacd pre{padding: 0;}#sk-5b272e63-34c6-45b3-a72a-89c1df69dacd div.sk-toggleable {background-color: white;}#sk-5b272e63-34c6-45b3-a72a-89c1df69dacd label.sk-toggleable__label {cursor: pointer;display: block;width: 100%;margin-bottom: 0;padding: 0.3em;box-sizing: border-box;text-align: center;}#sk-5b272e63-34c6-45b3-a72a-89c1df69dacd label.sk-toggleable__label-arrow:before {content: \"▸\";float: left;margin-right: 0.25em;color: #696969;}#sk-5b272e63-34c6-45b3-a72a-89c1df69dacd label.sk-toggleable__label-arrow:hover:before {color: black;}#sk-5b272e63-34c6-45b3-a72a-89c1df69dacd div.sk-estimator:hover label.sk-toggleable__label-arrow:before {color: black;}#sk-5b272e63-34c6-45b3-a72a-89c1df69dacd div.sk-toggleable__content {max-height: 0;max-width: 0;overflow: hidden;text-align: left;background-color: #f0f8ff;}#sk-5b272e63-34c6-45b3-a72a-89c1df69dacd div.sk-toggleable__content pre {margin: 0.2em;color: black;border-radius: 0.25em;background-color: #f0f8ff;}#sk-5b272e63-34c6-45b3-a72a-89c1df69dacd input.sk-toggleable__control:checked~div.sk-toggleable__content {max-height: 200px;max-width: 100%;overflow: auto;}#sk-5b272e63-34c6-45b3-a72a-89c1df69dacd input.sk-toggleable__control:checked~label.sk-toggleable__label-arrow:before {content: \"▾\";}#sk-5b272e63-34c6-45b3-a72a-89c1df69dacd div.sk-estimator input.sk-toggleable__control:checked~label.sk-toggleable__label {background-color: #d4ebff;}#sk-5b272e63-34c6-45b3-a72a-89c1df69dacd div.sk-label input.sk-toggleable__control:checked~label.sk-toggleable__label {background-color: #d4ebff;}#sk-5b272e63-34c6-45b3-a72a-89c1df69dacd input.sk-hidden--visually {border: 0;clip: rect(1px 1px 1px 1px);clip: rect(1px, 1px, 1px, 1px);height: 1px;margin: -1px;overflow: hidden;padding: 0;position: absolute;width: 1px;}#sk-5b272e63-34c6-45b3-a72a-89c1df69dacd div.sk-estimator {font-family: monospace;background-color: #f0f8ff;border: 1px dotted black;border-radius: 0.25em;box-sizing: border-box;margin-bottom: 0.5em;}#sk-5b272e63-34c6-45b3-a72a-89c1df69dacd div.sk-estimator:hover {background-color: #d4ebff;}#sk-5b272e63-34c6-45b3-a72a-89c1df69dacd div.sk-parallel-item::after {content: \"\";width: 100%;border-bottom: 1px solid gray;flex-grow: 1;}#sk-5b272e63-34c6-45b3-a72a-89c1df69dacd div.sk-label:hover label.sk-toggleable__label {background-color: #d4ebff;}#sk-5b272e63-34c6-45b3-a72a-89c1df69dacd div.sk-serial::before {content: \"\";position: absolute;border-left: 1px solid gray;box-sizing: border-box;top: 2em;bottom: 0;left: 50%;}#sk-5b272e63-34c6-45b3-a72a-89c1df69dacd div.sk-serial {display: flex;flex-direction: column;align-items: center;background-color: white;padding-right: 0.2em;padding-left: 0.2em;}#sk-5b272e63-34c6-45b3-a72a-89c1df69dacd div.sk-item {z-index: 1;}#sk-5b272e63-34c6-45b3-a72a-89c1df69dacd div.sk-parallel {display: flex;align-items: stretch;justify-content: center;background-color: white;}#sk-5b272e63-34c6-45b3-a72a-89c1df69dacd div.sk-parallel::before {content: \"\";position: absolute;border-left: 1px solid gray;box-sizing: border-box;top: 2em;bottom: 0;left: 50%;}#sk-5b272e63-34c6-45b3-a72a-89c1df69dacd div.sk-parallel-item {display: flex;flex-direction: column;position: relative;background-color: white;}#sk-5b272e63-34c6-45b3-a72a-89c1df69dacd div.sk-parallel-item:first-child::after {align-self: flex-end;width: 50%;}#sk-5b272e63-34c6-45b3-a72a-89c1df69dacd div.sk-parallel-item:last-child::after {align-self: flex-start;width: 50%;}#sk-5b272e63-34c6-45b3-a72a-89c1df69dacd div.sk-parallel-item:only-child::after {width: 0;}#sk-5b272e63-34c6-45b3-a72a-89c1df69dacd div.sk-dashed-wrapped {border: 1px dashed gray;margin: 0 0.4em 0.5em 0.4em;box-sizing: border-box;padding-bottom: 0.4em;background-color: white;position: relative;}#sk-5b272e63-34c6-45b3-a72a-89c1df69dacd div.sk-label label {font-family: monospace;font-weight: bold;background-color: white;display: inline-block;line-height: 1.2em;}#sk-5b272e63-34c6-45b3-a72a-89c1df69dacd div.sk-label-container {position: relative;z-index: 2;text-align: center;}#sk-5b272e63-34c6-45b3-a72a-89c1df69dacd div.sk-container {/* jupyter's `normalize.less` sets `[hidden] { display: none; }` but bootstrap.min.css set `[hidden] { display: none !important; }` so we also need the `!important` here to be able to override the default hidden behavior on the sphinx rendered scikit-learn.org. See: https://github.com/scikit-learn/scikit-learn/issues/21755 */display: inline-block !important;position: relative;}#sk-5b272e63-34c6-45b3-a72a-89c1df69dacd div.sk-text-repr-fallback {display: none;}</style><div id=\"sk-5b272e63-34c6-45b3-a72a-89c1df69dacd\" class=\"sk-top-container\"><div class=\"sk-text-repr-fallback\"><pre>Pipeline(steps=[(&#x27;trf1&#x27;,\n",
       "                 ColumnTransformer(remainder=&#x27;passthrough&#x27;,\n",
       "                                   transformers=[(&#x27;Age&#x27;, SimpleImputer(), [0]),\n",
       "                                                 (&#x27;Embarked&#x27;,\n",
       "                                                  SimpleImputer(strategy=&#x27;most_frequent&#x27;),\n",
       "                                                  [2])])),\n",
       "                (&#x27;trf2&#x27;,\n",
       "                 ColumnTransformer(remainder=&#x27;passthrough&#x27;,\n",
       "                                   transformers=[(&#x27;Embarked1&#x27;,\n",
       "                                                  OneHotEncoder(handle_unknown=&#x27;ignore&#x27;,\n",
       "                                                                sparse=False),\n",
       "                                                  [2])])),\n",
       "                (&#x27;trf3&#x27;,\n",
       "                 ColumnTransformer(transformers=[(&#x27;scale&#x27;, MinMaxScaler(),\n",
       "                                                  slice(0, 5, None))])),\n",
       "                (&#x27;trf4&#x27;,\n",
       "                 SelectKBest(k=5,\n",
       "                             score_func=&lt;function chi2 at 0x7f1138859ca0&gt;)),\n",
       "                (&#x27;trf5&#x27;, DecisionTreeClassifier())])</pre><b>Please rerun this cell to show the HTML repr or trust the notebook.</b></div><div class=\"sk-container\" hidden><div class=\"sk-item sk-dashed-wrapped\"><div class=\"sk-label-container\"><div class=\"sk-label sk-toggleable\"><input class=\"sk-toggleable__control sk-hidden--visually\" id=\"b7152b36-bdd4-4136-8e8a-7178ee2bc8e4\" type=\"checkbox\" ><label for=\"b7152b36-bdd4-4136-8e8a-7178ee2bc8e4\" class=\"sk-toggleable__label sk-toggleable__label-arrow\">Pipeline</label><div class=\"sk-toggleable__content\"><pre>Pipeline(steps=[(&#x27;trf1&#x27;,\n",
       "                 ColumnTransformer(remainder=&#x27;passthrough&#x27;,\n",
       "                                   transformers=[(&#x27;Age&#x27;, SimpleImputer(), [0]),\n",
       "                                                 (&#x27;Embarked&#x27;,\n",
       "                                                  SimpleImputer(strategy=&#x27;most_frequent&#x27;),\n",
       "                                                  [2])])),\n",
       "                (&#x27;trf2&#x27;,\n",
       "                 ColumnTransformer(remainder=&#x27;passthrough&#x27;,\n",
       "                                   transformers=[(&#x27;Embarked1&#x27;,\n",
       "                                                  OneHotEncoder(handle_unknown=&#x27;ignore&#x27;,\n",
       "                                                                sparse=False),\n",
       "                                                  [2])])),\n",
       "                (&#x27;trf3&#x27;,\n",
       "                 ColumnTransformer(transformers=[(&#x27;scale&#x27;, MinMaxScaler(),\n",
       "                                                  slice(0, 5, None))])),\n",
       "                (&#x27;trf4&#x27;,\n",
       "                 SelectKBest(k=5,\n",
       "                             score_func=&lt;function chi2 at 0x7f1138859ca0&gt;)),\n",
       "                (&#x27;trf5&#x27;, DecisionTreeClassifier())])</pre></div></div></div><div class=\"sk-serial\"><div class=\"sk-item sk-dashed-wrapped\"><div class=\"sk-label-container\"><div class=\"sk-label sk-toggleable\"><input class=\"sk-toggleable__control sk-hidden--visually\" id=\"2c8d2157-0e6b-4124-b0db-a853b75ac8fc\" type=\"checkbox\" ><label for=\"2c8d2157-0e6b-4124-b0db-a853b75ac8fc\" class=\"sk-toggleable__label sk-toggleable__label-arrow\">trf1: ColumnTransformer</label><div class=\"sk-toggleable__content\"><pre>ColumnTransformer(remainder=&#x27;passthrough&#x27;,\n",
       "                  transformers=[(&#x27;Age&#x27;, SimpleImputer(), [0]),\n",
       "                                (&#x27;Embarked&#x27;,\n",
       "                                 SimpleImputer(strategy=&#x27;most_frequent&#x27;),\n",
       "                                 [2])])</pre></div></div></div><div class=\"sk-parallel\"><div class=\"sk-parallel-item\"><div class=\"sk-item\"><div class=\"sk-label-container\"><div class=\"sk-label sk-toggleable\"><input class=\"sk-toggleable__control sk-hidden--visually\" id=\"46d8721e-8217-4faa-8adc-8b0bb80c3134\" type=\"checkbox\" ><label for=\"46d8721e-8217-4faa-8adc-8b0bb80c3134\" class=\"sk-toggleable__label sk-toggleable__label-arrow\">Age</label><div class=\"sk-toggleable__content\"><pre>[0]</pre></div></div></div><div class=\"sk-serial\"><div class=\"sk-item\"><div class=\"sk-estimator sk-toggleable\"><input class=\"sk-toggleable__control sk-hidden--visually\" id=\"487542f4-3b47-4082-bc19-15f12f7b6dd0\" type=\"checkbox\" ><label for=\"487542f4-3b47-4082-bc19-15f12f7b6dd0\" class=\"sk-toggleable__label sk-toggleable__label-arrow\">SimpleImputer</label><div class=\"sk-toggleable__content\"><pre>SimpleImputer()</pre></div></div></div></div></div></div><div class=\"sk-parallel-item\"><div class=\"sk-item\"><div class=\"sk-label-container\"><div class=\"sk-label sk-toggleable\"><input class=\"sk-toggleable__control sk-hidden--visually\" id=\"8ca546e3-8e68-45a0-b4e9-5672ded34537\" type=\"checkbox\" ><label for=\"8ca546e3-8e68-45a0-b4e9-5672ded34537\" class=\"sk-toggleable__label sk-toggleable__label-arrow\">Embarked</label><div class=\"sk-toggleable__content\"><pre>[2]</pre></div></div></div><div class=\"sk-serial\"><div class=\"sk-item\"><div class=\"sk-estimator sk-toggleable\"><input class=\"sk-toggleable__control sk-hidden--visually\" id=\"c88ac13f-8e99-4b80-bd21-4880ef8596b4\" type=\"checkbox\" ><label for=\"c88ac13f-8e99-4b80-bd21-4880ef8596b4\" class=\"sk-toggleable__label sk-toggleable__label-arrow\">SimpleImputer</label><div class=\"sk-toggleable__content\"><pre>SimpleImputer(strategy=&#x27;most_frequent&#x27;)</pre></div></div></div></div></div></div><div class=\"sk-parallel-item\"><div class=\"sk-item\"><div class=\"sk-label-container\"><div class=\"sk-label sk-toggleable\"><input class=\"sk-toggleable__control sk-hidden--visually\" id=\"9fb25536-980e-44b7-bcaf-c56b6ed32c03\" type=\"checkbox\" ><label for=\"9fb25536-980e-44b7-bcaf-c56b6ed32c03\" class=\"sk-toggleable__label sk-toggleable__label-arrow\">remainder</label><div class=\"sk-toggleable__content\"><pre>[&#x27;Fare&#x27;]</pre></div></div></div><div class=\"sk-serial\"><div class=\"sk-item\"><div class=\"sk-estimator sk-toggleable\"><input class=\"sk-toggleable__control sk-hidden--visually\" id=\"f9a28bd1-6175-49a4-a31d-8acd47eee81f\" type=\"checkbox\" ><label for=\"f9a28bd1-6175-49a4-a31d-8acd47eee81f\" class=\"sk-toggleable__label sk-toggleable__label-arrow\">passthrough</label><div class=\"sk-toggleable__content\"><pre>passthrough</pre></div></div></div></div></div></div></div></div><div class=\"sk-item sk-dashed-wrapped\"><div class=\"sk-label-container\"><div class=\"sk-label sk-toggleable\"><input class=\"sk-toggleable__control sk-hidden--visually\" id=\"20a57e81-40b2-4704-ab5c-8ab2161c67c7\" type=\"checkbox\" ><label for=\"20a57e81-40b2-4704-ab5c-8ab2161c67c7\" class=\"sk-toggleable__label sk-toggleable__label-arrow\">trf2: ColumnTransformer</label><div class=\"sk-toggleable__content\"><pre>ColumnTransformer(remainder=&#x27;passthrough&#x27;,\n",
       "                  transformers=[(&#x27;Embarked1&#x27;,\n",
       "                                 OneHotEncoder(handle_unknown=&#x27;ignore&#x27;,\n",
       "                                               sparse=False),\n",
       "                                 [2])])</pre></div></div></div><div class=\"sk-parallel\"><div class=\"sk-parallel-item\"><div class=\"sk-item\"><div class=\"sk-label-container\"><div class=\"sk-label sk-toggleable\"><input class=\"sk-toggleable__control sk-hidden--visually\" id=\"e842788b-76fc-44c3-9b8b-c8bcc7967b9b\" type=\"checkbox\" ><label for=\"e842788b-76fc-44c3-9b8b-c8bcc7967b9b\" class=\"sk-toggleable__label sk-toggleable__label-arrow\">Embarked1</label><div class=\"sk-toggleable__content\"><pre>[2]</pre></div></div></div><div class=\"sk-serial\"><div class=\"sk-item\"><div class=\"sk-estimator sk-toggleable\"><input class=\"sk-toggleable__control sk-hidden--visually\" id=\"6f3474fc-56c7-44f8-9a09-f4c9c70f38ac\" type=\"checkbox\" ><label for=\"6f3474fc-56c7-44f8-9a09-f4c9c70f38ac\" class=\"sk-toggleable__label sk-toggleable__label-arrow\">OneHotEncoder</label><div class=\"sk-toggleable__content\"><pre>OneHotEncoder(handle_unknown=&#x27;ignore&#x27;, sparse=False)</pre></div></div></div></div></div></div><div class=\"sk-parallel-item\"><div class=\"sk-item\"><div class=\"sk-label-container\"><div class=\"sk-label sk-toggleable\"><input class=\"sk-toggleable__control sk-hidden--visually\" id=\"38957c40-baaf-4d3f-9fdd-24f15ab16a91\" type=\"checkbox\" ><label for=\"38957c40-baaf-4d3f-9fdd-24f15ab16a91\" class=\"sk-toggleable__label sk-toggleable__label-arrow\">remainder</label><div class=\"sk-toggleable__content\"><pre>[0, 1]</pre></div></div></div><div class=\"sk-serial\"><div class=\"sk-item\"><div class=\"sk-estimator sk-toggleable\"><input class=\"sk-toggleable__control sk-hidden--visually\" id=\"54fc77f7-da75-49a6-8e6b-b7e8378d2fcf\" type=\"checkbox\" ><label for=\"54fc77f7-da75-49a6-8e6b-b7e8378d2fcf\" class=\"sk-toggleable__label sk-toggleable__label-arrow\">passthrough</label><div class=\"sk-toggleable__content\"><pre>passthrough</pre></div></div></div></div></div></div></div></div><div class=\"sk-item sk-dashed-wrapped\"><div class=\"sk-label-container\"><div class=\"sk-label sk-toggleable\"><input class=\"sk-toggleable__control sk-hidden--visually\" id=\"3aa5c07b-e5fb-4d45-8921-0c0f59164c31\" type=\"checkbox\" ><label for=\"3aa5c07b-e5fb-4d45-8921-0c0f59164c31\" class=\"sk-toggleable__label sk-toggleable__label-arrow\">trf3: ColumnTransformer</label><div class=\"sk-toggleable__content\"><pre>ColumnTransformer(transformers=[(&#x27;scale&#x27;, MinMaxScaler(), slice(0, 5, None))])</pre></div></div></div><div class=\"sk-parallel\"><div class=\"sk-parallel-item\"><div class=\"sk-item\"><div class=\"sk-label-container\"><div class=\"sk-label sk-toggleable\"><input class=\"sk-toggleable__control sk-hidden--visually\" id=\"b29d270a-fc15-4e1a-b4ef-4059bf4b897b\" type=\"checkbox\" ><label for=\"b29d270a-fc15-4e1a-b4ef-4059bf4b897b\" class=\"sk-toggleable__label sk-toggleable__label-arrow\">scale</label><div class=\"sk-toggleable__content\"><pre>slice(0, 5, None)</pre></div></div></div><div class=\"sk-serial\"><div class=\"sk-item\"><div class=\"sk-estimator sk-toggleable\"><input class=\"sk-toggleable__control sk-hidden--visually\" id=\"7ee2e3d1-4ffe-48bf-bc69-5a2b021d2b62\" type=\"checkbox\" ><label for=\"7ee2e3d1-4ffe-48bf-bc69-5a2b021d2b62\" class=\"sk-toggleable__label sk-toggleable__label-arrow\">MinMaxScaler</label><div class=\"sk-toggleable__content\"><pre>MinMaxScaler()</pre></div></div></div></div></div></div></div></div><div class=\"sk-item\"><div class=\"sk-estimator sk-toggleable\"><input class=\"sk-toggleable__control sk-hidden--visually\" id=\"776a5dfc-d29b-4269-b4bf-811161b20555\" type=\"checkbox\" ><label for=\"776a5dfc-d29b-4269-b4bf-811161b20555\" class=\"sk-toggleable__label sk-toggleable__label-arrow\">SelectKBest</label><div class=\"sk-toggleable__content\"><pre>SelectKBest(k=5, score_func=&lt;function chi2 at 0x7f1138859ca0&gt;)</pre></div></div></div><div class=\"sk-item\"><div class=\"sk-estimator sk-toggleable\"><input class=\"sk-toggleable__control sk-hidden--visually\" id=\"b1dca318-e5b5-4e81-9919-719535d1eade\" type=\"checkbox\" ><label for=\"b1dca318-e5b5-4e81-9919-719535d1eade\" class=\"sk-toggleable__label sk-toggleable__label-arrow\">DecisionTreeClassifier</label><div class=\"sk-toggleable__content\"><pre>DecisionTreeClassifier()</pre></div></div></div></div></div></div></div>"
      ],
      "text/plain": [
       "Pipeline(steps=[('trf1',\n",
       "                 ColumnTransformer(remainder='passthrough',\n",
       "                                   transformers=[('Age', SimpleImputer(), [0]),\n",
       "                                                 ('Embarked',\n",
       "                                                  SimpleImputer(strategy='most_frequent'),\n",
       "                                                  [2])])),\n",
       "                ('trf2',\n",
       "                 ColumnTransformer(remainder='passthrough',\n",
       "                                   transformers=[('Embarked1',\n",
       "                                                  OneHotEncoder(handle_unknown='ignore',\n",
       "                                                                sparse=False),\n",
       "                                                  [2])])),\n",
       "                ('trf3',\n",
       "                 ColumnTransformer(transformers=[('scale', MinMaxScaler(),\n",
       "                                                  slice(0, 5, None))])),\n",
       "                ('trf4',\n",
       "                 SelectKBest(k=5,\n",
       "                             score_func=<function chi2 at 0x7f1138859ca0>)),\n",
       "                ('trf5', DecisionTreeClassifier())])"
      ]
     },
     "execution_count": 320,
     "metadata": {},
     "output_type": "execute_result"
    }
   ],
   "source": [
    "pipe.fit(X_train,y_train)"
   ]
  },
  {
   "cell_type": "code",
   "execution_count": 321,
   "id": "93451486",
   "metadata": {},
   "outputs": [
    {
     "data": {
      "text/plain": [
       "0.6077792853912257"
      ]
     },
     "execution_count": 321,
     "metadata": {},
     "output_type": "execute_result"
    }
   ],
   "source": [
    "cross_val_score(pipe,X_train,y_train,cv=10,scoring=\"accuracy\").mean()"
   ]
  },
  {
   "cell_type": "code",
   "execution_count": 322,
   "id": "06560d12",
   "metadata": {},
   "outputs": [],
   "source": [
    "y_pred=pipe.predict(X_test)"
   ]
  },
  {
   "cell_type": "code",
   "execution_count": 323,
   "id": "605ff41a",
   "metadata": {},
   "outputs": [
    {
     "data": {
      "text/plain": [
       "0.6412556053811659"
      ]
     },
     "execution_count": 323,
     "metadata": {},
     "output_type": "execute_result"
    }
   ],
   "source": [
    "accuracy_score(y_pred,y_test)"
   ]
  },
  {
   "cell_type": "code",
   "execution_count": null,
   "id": "01deee92",
   "metadata": {},
   "outputs": [],
   "source": []
  }
 ],
 "metadata": {
  "kernelspec": {
   "display_name": "Python 3 (ipykernel)",
   "language": "python",
   "name": "python3"
  },
  "language_info": {
   "codemirror_mode": {
    "name": "ipython",
    "version": 3
   },
   "file_extension": ".py",
   "mimetype": "text/x-python",
   "name": "python",
   "nbconvert_exporter": "python",
   "pygments_lexer": "ipython3",
   "version": "3.9.12"
  }
 },
 "nbformat": 4,
 "nbformat_minor": 5
}
