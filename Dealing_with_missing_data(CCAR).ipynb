{
 "cells": [
  {
   "cell_type": "code",
   "execution_count": 46,
   "id": "a3d93e0e",
   "metadata": {},
   "outputs": [],
   "source": [
    "import numpy as np\n",
    "import pandas as pd\n",
    "from sklearn.model_selection import train_test_split, cross_val_score\n",
    "from sklearn.impute import SimpleImputer\n",
    "from sklearn.compose import ColumnTransformer\n",
    "from sklearn.pipeline import Pipeline\n",
    "from sklearn.tree import DecisionTreeClassifier\n",
    "from sklearn.linear_model import LogisticRegression\n",
    "from sklearn.preprocessing import OneHotEncoder, OrdinalEncoder, MinMaxScaler\n",
    "from sklearn.metrics import accuracy_score\n",
    "from sklearn.feature_selection import SelectKBest,chi2\n",
    "from sklearn import set_config\n",
    "import seaborn as sns \n",
    "import matplotlib.pyplot as plt"
   ]
  },
  {
   "cell_type": "code",
   "execution_count": 47,
   "id": "e712ef66",
   "metadata": {},
   "outputs": [],
   "source": [
    "set_config(display='diagram')"
   ]
  },
  {
   "cell_type": "code",
   "execution_count": 48,
   "id": "85c96061",
   "metadata": {},
   "outputs": [],
   "source": [
    "df=pd.read_csv(\"./datasets/data_science_job.csv\")"
   ]
  },
  {
   "cell_type": "code",
   "execution_count": 49,
   "id": "efa17a49",
   "metadata": {},
   "outputs": [
    {
     "data": {
      "text/html": [
       "<div>\n",
       "<style scoped>\n",
       "    .dataframe tbody tr th:only-of-type {\n",
       "        vertical-align: middle;\n",
       "    }\n",
       "\n",
       "    .dataframe tbody tr th {\n",
       "        vertical-align: top;\n",
       "    }\n",
       "\n",
       "    .dataframe thead th {\n",
       "        text-align: right;\n",
       "    }\n",
       "</style>\n",
       "<table border=\"1\" class=\"dataframe\">\n",
       "  <thead>\n",
       "    <tr style=\"text-align: right;\">\n",
       "      <th></th>\n",
       "      <th>enrollee_id</th>\n",
       "      <th>city</th>\n",
       "      <th>city_development_index</th>\n",
       "      <th>gender</th>\n",
       "      <th>relevent_experience</th>\n",
       "      <th>enrolled_university</th>\n",
       "      <th>education_level</th>\n",
       "      <th>major_discipline</th>\n",
       "      <th>experience</th>\n",
       "      <th>company_size</th>\n",
       "      <th>company_type</th>\n",
       "      <th>training_hours</th>\n",
       "      <th>target</th>\n",
       "    </tr>\n",
       "  </thead>\n",
       "  <tbody>\n",
       "    <tr>\n",
       "      <th>15494</th>\n",
       "      <td>29680</td>\n",
       "      <td>city_103</td>\n",
       "      <td>0.920</td>\n",
       "      <td>Male</td>\n",
       "      <td>No relevent experience</td>\n",
       "      <td>Full time course</td>\n",
       "      <td>High School</td>\n",
       "      <td>NaN</td>\n",
       "      <td>2.0</td>\n",
       "      <td>500-999</td>\n",
       "      <td>Pvt Ltd</td>\n",
       "      <td>28.0</td>\n",
       "      <td>1.0</td>\n",
       "    </tr>\n",
       "    <tr>\n",
       "      <th>10483</th>\n",
       "      <td>2992</td>\n",
       "      <td>city_173</td>\n",
       "      <td>0.878</td>\n",
       "      <td>Male</td>\n",
       "      <td>Has relevent experience</td>\n",
       "      <td>Full time course</td>\n",
       "      <td>Masters</td>\n",
       "      <td>STEM</td>\n",
       "      <td>5.0</td>\n",
       "      <td>100-500</td>\n",
       "      <td>NGO</td>\n",
       "      <td>26.0</td>\n",
       "      <td>0.0</td>\n",
       "    </tr>\n",
       "    <tr>\n",
       "      <th>1886</th>\n",
       "      <td>27875</td>\n",
       "      <td>city_16</td>\n",
       "      <td>0.910</td>\n",
       "      <td>Male</td>\n",
       "      <td>Has relevent experience</td>\n",
       "      <td>no_enrollment</td>\n",
       "      <td>Graduate</td>\n",
       "      <td>STEM</td>\n",
       "      <td>20.0</td>\n",
       "      <td>&lt;10</td>\n",
       "      <td>Early Stage Startup</td>\n",
       "      <td>89.0</td>\n",
       "      <td>0.0</td>\n",
       "    </tr>\n",
       "    <tr>\n",
       "      <th>7667</th>\n",
       "      <td>18088</td>\n",
       "      <td>city_103</td>\n",
       "      <td>0.920</td>\n",
       "      <td>Male</td>\n",
       "      <td>No relevent experience</td>\n",
       "      <td>no_enrollment</td>\n",
       "      <td>Graduate</td>\n",
       "      <td>Arts</td>\n",
       "      <td>1.0</td>\n",
       "      <td>&lt;10</td>\n",
       "      <td>Early Stage Startup</td>\n",
       "      <td>5.0</td>\n",
       "      <td>0.0</td>\n",
       "    </tr>\n",
       "    <tr>\n",
       "      <th>2118</th>\n",
       "      <td>13121</td>\n",
       "      <td>city_160</td>\n",
       "      <td>NaN</td>\n",
       "      <td>NaN</td>\n",
       "      <td>Has relevent experience</td>\n",
       "      <td>no_enrollment</td>\n",
       "      <td>Graduate</td>\n",
       "      <td>STEM</td>\n",
       "      <td>14.0</td>\n",
       "      <td>&lt;10</td>\n",
       "      <td>Pvt Ltd</td>\n",
       "      <td>90.0</td>\n",
       "      <td>0.0</td>\n",
       "    </tr>\n",
       "    <tr>\n",
       "      <th>5966</th>\n",
       "      <td>15249</td>\n",
       "      <td>city_149</td>\n",
       "      <td>0.689</td>\n",
       "      <td>Male</td>\n",
       "      <td>No relevent experience</td>\n",
       "      <td>Full time course</td>\n",
       "      <td>Graduate</td>\n",
       "      <td>Other</td>\n",
       "      <td>3.0</td>\n",
       "      <td>50-99</td>\n",
       "      <td>Pvt Ltd</td>\n",
       "      <td>34.0</td>\n",
       "      <td>0.0</td>\n",
       "    </tr>\n",
       "    <tr>\n",
       "      <th>15253</th>\n",
       "      <td>14680</td>\n",
       "      <td>city_21</td>\n",
       "      <td>0.624</td>\n",
       "      <td>Male</td>\n",
       "      <td>No relevent experience</td>\n",
       "      <td>no_enrollment</td>\n",
       "      <td>NaN</td>\n",
       "      <td>NaN</td>\n",
       "      <td>3.0</td>\n",
       "      <td>NaN</td>\n",
       "      <td>NaN</td>\n",
       "      <td>NaN</td>\n",
       "      <td>0.0</td>\n",
       "    </tr>\n",
       "    <tr>\n",
       "      <th>1174</th>\n",
       "      <td>31579</td>\n",
       "      <td>city_103</td>\n",
       "      <td>0.920</td>\n",
       "      <td>Male</td>\n",
       "      <td>Has relevent experience</td>\n",
       "      <td>no_enrollment</td>\n",
       "      <td>Graduate</td>\n",
       "      <td>Other</td>\n",
       "      <td>20.0</td>\n",
       "      <td>500-999</td>\n",
       "      <td>Pvt Ltd</td>\n",
       "      <td>61.0</td>\n",
       "      <td>0.0</td>\n",
       "    </tr>\n",
       "    <tr>\n",
       "      <th>4200</th>\n",
       "      <td>6042</td>\n",
       "      <td>city_103</td>\n",
       "      <td>0.920</td>\n",
       "      <td>Male</td>\n",
       "      <td>Has relevent experience</td>\n",
       "      <td>no_enrollment</td>\n",
       "      <td>Graduate</td>\n",
       "      <td>No Major</td>\n",
       "      <td>20.0</td>\n",
       "      <td>1000-4999</td>\n",
       "      <td>NGO</td>\n",
       "      <td>83.0</td>\n",
       "      <td>0.0</td>\n",
       "    </tr>\n",
       "    <tr>\n",
       "      <th>10183</th>\n",
       "      <td>2884</td>\n",
       "      <td>city_40</td>\n",
       "      <td>0.776</td>\n",
       "      <td>NaN</td>\n",
       "      <td>Has relevent experience</td>\n",
       "      <td>Full time course</td>\n",
       "      <td>Graduate</td>\n",
       "      <td>STEM</td>\n",
       "      <td>10.0</td>\n",
       "      <td>50-99</td>\n",
       "      <td>Pvt Ltd</td>\n",
       "      <td>33.0</td>\n",
       "      <td>1.0</td>\n",
       "    </tr>\n",
       "  </tbody>\n",
       "</table>\n",
       "</div>"
      ],
      "text/plain": [
       "       enrollee_id      city  city_development_index gender  \\\n",
       "15494        29680  city_103                   0.920   Male   \n",
       "10483         2992  city_173                   0.878   Male   \n",
       "1886         27875   city_16                   0.910   Male   \n",
       "7667         18088  city_103                   0.920   Male   \n",
       "2118         13121  city_160                     NaN    NaN   \n",
       "5966         15249  city_149                   0.689   Male   \n",
       "15253        14680   city_21                   0.624   Male   \n",
       "1174         31579  city_103                   0.920   Male   \n",
       "4200          6042  city_103                   0.920   Male   \n",
       "10183         2884   city_40                   0.776    NaN   \n",
       "\n",
       "           relevent_experience enrolled_university education_level  \\\n",
       "15494   No relevent experience    Full time course     High School   \n",
       "10483  Has relevent experience    Full time course         Masters   \n",
       "1886   Has relevent experience       no_enrollment        Graduate   \n",
       "7667    No relevent experience       no_enrollment        Graduate   \n",
       "2118   Has relevent experience       no_enrollment        Graduate   \n",
       "5966    No relevent experience    Full time course        Graduate   \n",
       "15253   No relevent experience       no_enrollment             NaN   \n",
       "1174   Has relevent experience       no_enrollment        Graduate   \n",
       "4200   Has relevent experience       no_enrollment        Graduate   \n",
       "10183  Has relevent experience    Full time course        Graduate   \n",
       "\n",
       "      major_discipline  experience company_size         company_type  \\\n",
       "15494              NaN         2.0      500-999              Pvt Ltd   \n",
       "10483             STEM         5.0      100-500                  NGO   \n",
       "1886              STEM        20.0          <10  Early Stage Startup   \n",
       "7667              Arts         1.0          <10  Early Stage Startup   \n",
       "2118              STEM        14.0          <10              Pvt Ltd   \n",
       "5966             Other         3.0        50-99              Pvt Ltd   \n",
       "15253              NaN         3.0          NaN                  NaN   \n",
       "1174             Other        20.0      500-999              Pvt Ltd   \n",
       "4200          No Major        20.0    1000-4999                  NGO   \n",
       "10183             STEM        10.0        50-99              Pvt Ltd   \n",
       "\n",
       "       training_hours  target  \n",
       "15494            28.0     1.0  \n",
       "10483            26.0     0.0  \n",
       "1886             89.0     0.0  \n",
       "7667              5.0     0.0  \n",
       "2118             90.0     0.0  \n",
       "5966             34.0     0.0  \n",
       "15253             NaN     0.0  \n",
       "1174             61.0     0.0  \n",
       "4200             83.0     0.0  \n",
       "10183            33.0     1.0  "
      ]
     },
     "execution_count": 49,
     "metadata": {},
     "output_type": "execute_result"
    }
   ],
   "source": [
    "df.sample(10)"
   ]
  },
  {
   "cell_type": "code",
   "execution_count": 50,
   "id": "ba995206",
   "metadata": {},
   "outputs": [],
   "source": [
    "df = df.drop('city', axis=1)\n"
   ]
  },
  {
   "cell_type": "code",
   "execution_count": 51,
   "id": "4b6ef82e",
   "metadata": {},
   "outputs": [
    {
     "name": "stdout",
     "output_type": "stream",
     "text": [
      "<class 'pandas.core.frame.DataFrame'>\n",
      "RangeIndex: 19158 entries, 0 to 19157\n",
      "Data columns (total 12 columns):\n",
      " #   Column                  Non-Null Count  Dtype  \n",
      "---  ------                  --------------  -----  \n",
      " 0   enrollee_id             19158 non-null  int64  \n",
      " 1   city_development_index  18679 non-null  float64\n",
      " 2   gender                  14650 non-null  object \n",
      " 3   relevent_experience     19158 non-null  object \n",
      " 4   enrolled_university     18772 non-null  object \n",
      " 5   education_level         18698 non-null  object \n",
      " 6   major_discipline        16345 non-null  object \n",
      " 7   experience              19093 non-null  float64\n",
      " 8   company_size            13220 non-null  object \n",
      " 9   company_type            13018 non-null  object \n",
      " 10  training_hours          18392 non-null  float64\n",
      " 11  target                  19158 non-null  float64\n",
      "dtypes: float64(4), int64(1), object(7)\n",
      "memory usage: 1.8+ MB\n"
     ]
    }
   ],
   "source": [
    "df.info()"
   ]
  },
  {
   "cell_type": "code",
   "execution_count": 52,
   "id": "b9e23678",
   "metadata": {},
   "outputs": [
    {
     "data": {
      "text/plain": [
       "0        Male\n",
       "1        Male\n",
       "2         NaN\n",
       "3         NaN\n",
       "4        Male\n",
       "         ... \n",
       "19153    Male\n",
       "19154    Male\n",
       "19155    Male\n",
       "19156    Male\n",
       "19157     NaN\n",
       "Name: gender, Length: 19158, dtype: object"
      ]
     },
     "execution_count": 52,
     "metadata": {},
     "output_type": "execute_result"
    }
   ],
   "source": [
    "df[\"gender\"]"
   ]
  },
  {
   "cell_type": "code",
   "execution_count": 53,
   "id": "b655a74c",
   "metadata": {},
   "outputs": [],
   "source": [
    "col=[]\n",
    "for c in df.columns:\n",
    "    if df[c].isnull().mean()<0.05 and df[c].isnull().mean()>0:\n",
    "        col.append(c)"
   ]
  },
  {
   "cell_type": "code",
   "execution_count": 54,
   "id": "bae88dd8",
   "metadata": {},
   "outputs": [
    {
     "data": {
      "text/plain": [
       "['city_development_index',\n",
       " 'enrolled_university',\n",
       " 'education_level',\n",
       " 'experience',\n",
       " 'training_hours']"
      ]
     },
     "execution_count": 54,
     "metadata": {},
     "output_type": "execute_result"
    }
   ],
   "source": [
    "col"
   ]
  },
  {
   "cell_type": "code",
   "execution_count": 55,
   "id": "05076559",
   "metadata": {},
   "outputs": [],
   "source": [
    "new_df=df.dropna(subset=col)\n"
   ]
  },
  {
   "cell_type": "code",
   "execution_count": 56,
   "id": "32114b8c",
   "metadata": {},
   "outputs": [
    {
     "data": {
      "text/plain": [
       "((19158, 12), (17182, 12))"
      ]
     },
     "execution_count": 56,
     "metadata": {},
     "output_type": "execute_result"
    }
   ],
   "source": [
    "df.shape,new_df.shape"
   ]
  },
  {
   "cell_type": "code",
   "execution_count": 57,
   "id": "e89fa017",
   "metadata": {},
   "outputs": [
    {
     "data": {
      "text/html": [
       "<div>\n",
       "<style scoped>\n",
       "    .dataframe tbody tr th:only-of-type {\n",
       "        vertical-align: middle;\n",
       "    }\n",
       "\n",
       "    .dataframe tbody tr th {\n",
       "        vertical-align: top;\n",
       "    }\n",
       "\n",
       "    .dataframe thead th {\n",
       "        text-align: right;\n",
       "    }\n",
       "</style>\n",
       "<table border=\"1\" class=\"dataframe\">\n",
       "  <thead>\n",
       "    <tr style=\"text-align: right;\">\n",
       "      <th></th>\n",
       "      <th>enrollee_id</th>\n",
       "      <th>city_development_index</th>\n",
       "      <th>gender</th>\n",
       "      <th>relevent_experience</th>\n",
       "      <th>enrolled_university</th>\n",
       "      <th>education_level</th>\n",
       "      <th>major_discipline</th>\n",
       "      <th>experience</th>\n",
       "      <th>company_size</th>\n",
       "      <th>company_type</th>\n",
       "      <th>training_hours</th>\n",
       "      <th>target</th>\n",
       "    </tr>\n",
       "  </thead>\n",
       "  <tbody>\n",
       "    <tr>\n",
       "      <th>0</th>\n",
       "      <td>8949</td>\n",
       "      <td>0.920</td>\n",
       "      <td>Male</td>\n",
       "      <td>Has relevent experience</td>\n",
       "      <td>no_enrollment</td>\n",
       "      <td>Graduate</td>\n",
       "      <td>STEM</td>\n",
       "      <td>20.0</td>\n",
       "      <td>NaN</td>\n",
       "      <td>NaN</td>\n",
       "      <td>36.0</td>\n",
       "      <td>1.0</td>\n",
       "    </tr>\n",
       "    <tr>\n",
       "      <th>1</th>\n",
       "      <td>29725</td>\n",
       "      <td>0.776</td>\n",
       "      <td>Male</td>\n",
       "      <td>No relevent experience</td>\n",
       "      <td>no_enrollment</td>\n",
       "      <td>Graduate</td>\n",
       "      <td>STEM</td>\n",
       "      <td>15.0</td>\n",
       "      <td>50-99</td>\n",
       "      <td>Pvt Ltd</td>\n",
       "      <td>47.0</td>\n",
       "      <td>0.0</td>\n",
       "    </tr>\n",
       "    <tr>\n",
       "      <th>2</th>\n",
       "      <td>11561</td>\n",
       "      <td>0.624</td>\n",
       "      <td>NaN</td>\n",
       "      <td>No relevent experience</td>\n",
       "      <td>Full time course</td>\n",
       "      <td>Graduate</td>\n",
       "      <td>STEM</td>\n",
       "      <td>5.0</td>\n",
       "      <td>NaN</td>\n",
       "      <td>NaN</td>\n",
       "      <td>83.0</td>\n",
       "      <td>0.0</td>\n",
       "    </tr>\n",
       "    <tr>\n",
       "      <th>4</th>\n",
       "      <td>666</td>\n",
       "      <td>0.767</td>\n",
       "      <td>Male</td>\n",
       "      <td>Has relevent experience</td>\n",
       "      <td>no_enrollment</td>\n",
       "      <td>Masters</td>\n",
       "      <td>STEM</td>\n",
       "      <td>20.0</td>\n",
       "      <td>50-99</td>\n",
       "      <td>Funded Startup</td>\n",
       "      <td>8.0</td>\n",
       "      <td>0.0</td>\n",
       "    </tr>\n",
       "    <tr>\n",
       "      <th>5</th>\n",
       "      <td>21651</td>\n",
       "      <td>0.764</td>\n",
       "      <td>NaN</td>\n",
       "      <td>Has relevent experience</td>\n",
       "      <td>Part time course</td>\n",
       "      <td>Graduate</td>\n",
       "      <td>STEM</td>\n",
       "      <td>11.0</td>\n",
       "      <td>NaN</td>\n",
       "      <td>NaN</td>\n",
       "      <td>24.0</td>\n",
       "      <td>1.0</td>\n",
       "    </tr>\n",
       "  </tbody>\n",
       "</table>\n",
       "</div>"
      ],
      "text/plain": [
       "   enrollee_id  city_development_index gender      relevent_experience  \\\n",
       "0         8949                   0.920   Male  Has relevent experience   \n",
       "1        29725                   0.776   Male   No relevent experience   \n",
       "2        11561                   0.624    NaN   No relevent experience   \n",
       "4          666                   0.767   Male  Has relevent experience   \n",
       "5        21651                   0.764    NaN  Has relevent experience   \n",
       "\n",
       "  enrolled_university education_level major_discipline  experience  \\\n",
       "0       no_enrollment        Graduate             STEM        20.0   \n",
       "1       no_enrollment        Graduate             STEM        15.0   \n",
       "2    Full time course        Graduate             STEM         5.0   \n",
       "4       no_enrollment         Masters             STEM        20.0   \n",
       "5    Part time course        Graduate             STEM        11.0   \n",
       "\n",
       "  company_size    company_type  training_hours  target  \n",
       "0          NaN             NaN            36.0     1.0  \n",
       "1        50-99         Pvt Ltd            47.0     0.0  \n",
       "2          NaN             NaN            83.0     0.0  \n",
       "4        50-99  Funded Startup             8.0     0.0  \n",
       "5          NaN             NaN            24.0     1.0  "
      ]
     },
     "execution_count": 57,
     "metadata": {},
     "output_type": "execute_result"
    }
   ],
   "source": [
    "new_df.head()"
   ]
  },
  {
   "cell_type": "markdown",
   "id": "247810fe",
   "metadata": {},
   "source": [
    "# Data analysis in case of CCAR"
   ]
  },
  {
   "cell_type": "code",
   "execution_count": 58,
   "id": "3f6a7f9b",
   "metadata": {},
   "outputs": [
    {
     "name": "stdout",
     "output_type": "stream",
     "text": [
      "<class 'pandas.core.frame.DataFrame'>\n",
      "Int64Index: 17182 entries, 0 to 19157\n",
      "Data columns (total 12 columns):\n",
      " #   Column                  Non-Null Count  Dtype  \n",
      "---  ------                  --------------  -----  \n",
      " 0   enrollee_id             17182 non-null  int64  \n",
      " 1   city_development_index  17182 non-null  float64\n",
      " 2   gender                  13309 non-null  object \n",
      " 3   relevent_experience     17182 non-null  object \n",
      " 4   enrolled_university     17182 non-null  object \n",
      " 5   education_level         17182 non-null  object \n",
      " 6   major_discipline        15029 non-null  object \n",
      " 7   experience              17182 non-null  float64\n",
      " 8   company_size            12064 non-null  object \n",
      " 9   company_type            11890 non-null  object \n",
      " 10  training_hours          17182 non-null  float64\n",
      " 11  target                  17182 non-null  float64\n",
      "dtypes: float64(4), int64(1), object(7)\n",
      "memory usage: 1.7+ MB\n"
     ]
    }
   ],
   "source": [
    "new_df.info()"
   ]
  },
  {
   "cell_type": "code",
   "execution_count": 59,
   "id": "c15f00e9",
   "metadata": {},
   "outputs": [
    {
     "data": {
      "text/plain": [
       "enrollee_id                  0\n",
       "city_development_index       0\n",
       "gender                    3873\n",
       "relevent_experience          0\n",
       "enrolled_university          0\n",
       "education_level              0\n",
       "major_discipline          2153\n",
       "experience                   0\n",
       "company_size              5118\n",
       "company_type              5292\n",
       "training_hours               0\n",
       "target                       0\n",
       "dtype: int64"
      ]
     },
     "execution_count": 59,
     "metadata": {},
     "output_type": "execute_result"
    }
   ],
   "source": [
    "new_df.isnull().sum()\n",
    "# city ,relevent_experience,enrolled_university,education_level"
   ]
  },
  {
   "cell_type": "code",
   "execution_count": 60,
   "id": "0c349340",
   "metadata": {},
   "outputs": [
    {
     "data": {
      "text/plain": [
       "(Has relevent experience    13792\n",
       " No relevent experience      5366\n",
       " Name: relevent_experience, dtype: int64,\n",
       " 2)"
      ]
     },
     "execution_count": 60,
     "metadata": {},
     "output_type": "execute_result"
    }
   ],
   "source": [
    "df[\"relevent_experience\"].value_counts(),df[\"relevent_experience\"].nunique()\n",
    "# [\"No relevent experience\",\"Has relevent experience\"],4"
   ]
  },
  {
   "cell_type": "code",
   "execution_count": 61,
   "id": "b2a95528",
   "metadata": {},
   "outputs": [
    {
     "data": {
      "text/plain": [
       "(no_enrollment       13817\n",
       " Full time course     3757\n",
       " Part time course     1198\n",
       " Name: enrolled_university, dtype: int64,\n",
       " 3)"
      ]
     },
     "execution_count": 61,
     "metadata": {},
     "output_type": "execute_result"
    }
   ],
   "source": [
    "df[\"enrolled_university\"].value_counts(),df[\"enrolled_university\"].nunique()\n",
    "# [\"no_enrollment,Part time course\",\"Full time course\"],5"
   ]
  },
  {
   "cell_type": "code",
   "execution_count": 62,
   "id": "f0a21737",
   "metadata": {},
   "outputs": [
    {
     "data": {
      "text/plain": [
       "(Graduate          11598\n",
       " Masters            4361\n",
       " High School        2017\n",
       " Phd                 414\n",
       " Primary School      308\n",
       " Name: education_level, dtype: int64,\n",
       " 5)"
      ]
     },
     "execution_count": 62,
     "metadata": {},
     "output_type": "execute_result"
    }
   ],
   "source": [
    "df[\"education_level\"].value_counts(),df[\"education_level\"].nunique()\n",
    "# [\"Primary School\",\"High School\",\"Graduate\",\"Masters\",\"Phd\"], 6"
   ]
  },
  {
   "cell_type": "markdown",
   "id": "b2aee472",
   "metadata": {},
   "source": [
    "\"gender\"  --> one_hot_coding\n",
    "\n",
    "\"major_discipline\"  -->ordinal encoding\n",
    "\n",
    "\"company_size\"   -->  ordinal encoding\n",
    "\n",
    "\"company_type\"  ---> ordinal_encoding\n",
    "\n",
    "\"relevent_experience\" -->ordinal_encoding\n",
    "\n",
    "\"enrolled_university\"  -->ordinal encoding\n",
    "\"education_level\"      --> ordinal encoding\n",
    "\n"
   ]
  },
  {
   "cell_type": "code",
   "execution_count": 63,
   "id": "dad47e99",
   "metadata": {},
   "outputs": [
    {
     "data": {
      "text/plain": [
       "(Male      12006\n",
       " Female     1142\n",
       " Other       161\n",
       " Name: gender, dtype: int64,\n",
       " 3)"
      ]
     },
     "execution_count": 63,
     "metadata": {},
     "output_type": "execute_result"
    }
   ],
   "source": [
    "new_df[\"gender\"].value_counts(), df[\"gender\"].nunique()"
   ]
  },
  {
   "cell_type": "code",
   "execution_count": 64,
   "id": "1540e215",
   "metadata": {},
   "outputs": [
    {
     "data": {
      "text/plain": [
       "(STEM               13314\n",
       " Humanities           617\n",
       " Other                347\n",
       " Business Degree      308\n",
       " Arts                 234\n",
       " No Major             209\n",
       " Name: major_discipline, dtype: int64,\n",
       " 6)"
      ]
     },
     "execution_count": 64,
     "metadata": {},
     "output_type": "execute_result"
    }
   ],
   "source": [
    "new_df[\"major_discipline\"].value_counts(),df[\"major_discipline\"].nunique()\n",
    "# \"STEM\",\"Humanities\",\"Business Degree\",\"Arts\",\"Other\",\"No Major\""
   ]
  },
  {
   "cell_type": "code",
   "execution_count": 65,
   "id": "b70794a8",
   "metadata": {},
   "outputs": [
    {
     "data": {
      "text/plain": [
       "(50-99        2802\n",
       " 100-500      2330\n",
       " 10000+       1863\n",
       " 10/49        1342\n",
       " 1000-4999    1215\n",
       " <10          1185\n",
       " 500-999       807\n",
       " 5000-9999     520\n",
       " Name: company_size, dtype: int64,\n",
       " 8)"
      ]
     },
     "execution_count": 65,
     "metadata": {},
     "output_type": "execute_result"
    }
   ],
   "source": [
    "new_df[\"company_size\"].value_counts(), df[\"company_size\"].nunique()\n",
    "# \"<10\",\"10/49\",\"50-99\",\"100-500\",\"500-999\",\"1000-4999\",\"5000-9999\",\"10000+\""
   ]
  },
  {
   "cell_type": "code",
   "execution_count": 66,
   "id": "8abe11e4",
   "metadata": {},
   "outputs": [
    {
     "data": {
      "text/plain": [
       "(Pvt Ltd                8970\n",
       " Funded Startup          922\n",
       " Public Sector           867\n",
       " Early Stage Startup     552\n",
       " NGO                     470\n",
       " Other                   109\n",
       " Name: company_type, dtype: int64,\n",
       " 6)"
      ]
     },
     "execution_count": 66,
     "metadata": {},
     "output_type": "execute_result"
    }
   ],
   "source": [
    "new_df[\"company_type\"].value_counts(), df[\"company_type\"].nunique()\n",
    "# \"Pvt Ltd\",\"Public Sector\",\"Funded Startup\",\"Early Stage Startup\",\"NGO\",\"Other\""
   ]
  },
  {
   "cell_type": "markdown",
   "id": "312d3ba7",
   "metadata": {},
   "source": [
    "# Comparision between Dataset after removing of \"NULL value\" and Without removing of the NULL value"
   ]
  },
  {
   "cell_type": "markdown",
   "id": "63c94f1a",
   "metadata": {},
   "source": [
    "##### Here we will show pdf for the numerical data and for categorical data, we will show ratio after the deletion and before the deletion"
   ]
  },
  {
   "cell_type": "code",
   "execution_count": 67,
   "id": "7ddbcfba",
   "metadata": {},
   "outputs": [
    {
     "data": {
      "text/plain": [
       "['city_development_index',\n",
       " 'enrolled_university',\n",
       " 'education_level',\n",
       " 'experience',\n",
       " 'training_hours']"
      ]
     },
     "execution_count": 67,
     "metadata": {},
     "output_type": "execute_result"
    }
   ],
   "source": [
    "col"
   ]
  },
  {
   "cell_type": "markdown",
   "id": "dc39e58e",
   "metadata": {},
   "source": [
    "city_development_index --> numerical (PDF)\n",
    "enrolled_university    -->Categorical(Ratio)\n",
    "education_level        -->Categorical(Ratio)\n",
    "experience             -->Numerical (PDF)\n",
    "training_hours         -->Numerical (PDF)"
   ]
  },
  {
   "cell_type": "code",
   "execution_count": 68,
   "id": "1e36ff02",
   "metadata": {},
   "outputs": [
    {
     "data": {
      "image/png": "[encoded data removed]",
      "text/plain": [
       "<Figure size 432x288 with 1 Axes>"
      ]
     },
     "metadata": {
      "needs_background": "light"
     },
     "output_type": "display_data"
    }
   ],
   "source": [
    "sns.kdeplot(df[\"city_development_index\"],label=\"city_development_index\")\n",
    "sns.kdeplot(new_df[\"city_development_index\"],label=\"city_development_index\")\n",
    "plt.legend()\n",
    "plt.show()"
   ]
  },
  {
   "cell_type": "code",
   "execution_count": 69,
   "id": "f4068d3a",
   "metadata": {},
   "outputs": [
    {
     "data": {
      "image/png": "[encoded data removed]",
      "text/plain": [
       "<Figure size 432x288 with 1 Axes>"
      ]
     },
     "metadata": {
      "needs_background": "light"
     },
     "output_type": "display_data"
    }
   ],
   "source": [
    "sns.kdeplot(df[\"experience\"],label=\"experience\")\n",
    "sns.kdeplot(new_df[\"experience\"],label=\"experience\")\n",
    "plt.legend()\n",
    "plt.show()"
   ]
  },
  {
   "cell_type": "code",
   "execution_count": 70,
   "id": "8e71ec15",
   "metadata": {},
   "outputs": [
    {
     "data": {
      "image/png": "[encoded data removed]",
      "text/plain": [
       "<Figure size 432x288 with 1 Axes>"
      ]
     },
     "metadata": {
      "needs_background": "light"
     },
     "output_type": "display_data"
    }
   ],
   "source": [
    "sns.kdeplot(df[\"training_hours\"],label=\"training_hours\")\n",
    "sns.kdeplot(new_df[\"training_hours\"],label=\"training_hours\")\n",
    "plt.legend()\n",
    "plt.show()"
   ]
  },
  {
   "cell_type": "code",
   "execution_count": 71,
   "id": "6c9c4dbf",
   "metadata": {},
   "outputs": [
    {
     "data": {
      "text/html": [
       "<div>\n",
       "<style scoped>\n",
       "    .dataframe tbody tr th:only-of-type {\n",
       "        vertical-align: middle;\n",
       "    }\n",
       "\n",
       "    .dataframe tbody tr th {\n",
       "        vertical-align: top;\n",
       "    }\n",
       "\n",
       "    .dataframe thead th {\n",
       "        text-align: right;\n",
       "    }\n",
       "</style>\n",
       "<table border=\"1\" class=\"dataframe\">\n",
       "  <thead>\n",
       "    <tr style=\"text-align: right;\">\n",
       "      <th></th>\n",
       "      <th>enrolled_university</th>\n",
       "      <th>enrolled_university</th>\n",
       "    </tr>\n",
       "  </thead>\n",
       "  <tbody>\n",
       "    <tr>\n",
       "      <th>no_enrollment</th>\n",
       "      <td>0.721213</td>\n",
       "      <td>0.735188</td>\n",
       "    </tr>\n",
       "    <tr>\n",
       "      <th>Full time course</th>\n",
       "      <td>0.196106</td>\n",
       "      <td>0.200733</td>\n",
       "    </tr>\n",
       "    <tr>\n",
       "      <th>Part time course</th>\n",
       "      <td>0.062533</td>\n",
       "      <td>0.064079</td>\n",
       "    </tr>\n",
       "  </tbody>\n",
       "</table>\n",
       "</div>"
      ],
      "text/plain": [
       "                  enrolled_university  enrolled_university\n",
       "no_enrollment                0.721213             0.735188\n",
       "Full time course             0.196106             0.200733\n",
       "Part time course             0.062533             0.064079"
      ]
     },
     "execution_count": 71,
     "metadata": {},
     "output_type": "execute_result"
    }
   ],
   "source": [
    "temp=pd.concat(\n",
    "    [df[\"enrolled_university\"].value_counts()/len(df),\n",
    "    new_df[\"enrolled_university\"].value_counts()/len(new_df)], axis=1\n",
    "    \n",
    ")\n",
    "temp"
   ]
  },
  {
   "cell_type": "code",
   "execution_count": 72,
   "id": "311ff6cf",
   "metadata": {},
   "outputs": [
    {
     "data": {
      "text/html": [
       "<div>\n",
       "<style scoped>\n",
       "    .dataframe tbody tr th:only-of-type {\n",
       "        vertical-align: middle;\n",
       "    }\n",
       "\n",
       "    .dataframe tbody tr th {\n",
       "        vertical-align: top;\n",
       "    }\n",
       "\n",
       "    .dataframe thead th {\n",
       "        text-align: right;\n",
       "    }\n",
       "</style>\n",
       "<table border=\"1\" class=\"dataframe\">\n",
       "  <thead>\n",
       "    <tr style=\"text-align: right;\">\n",
       "      <th></th>\n",
       "      <th>education_level</th>\n",
       "      <th>education_level</th>\n",
       "    </tr>\n",
       "  </thead>\n",
       "  <tbody>\n",
       "    <tr>\n",
       "      <th>Graduate</th>\n",
       "      <td>0.605387</td>\n",
       "      <td>0.619835</td>\n",
       "    </tr>\n",
       "    <tr>\n",
       "      <th>Masters</th>\n",
       "      <td>0.227633</td>\n",
       "      <td>0.234082</td>\n",
       "    </tr>\n",
       "    <tr>\n",
       "      <th>High School</th>\n",
       "      <td>0.105282</td>\n",
       "      <td>0.107380</td>\n",
       "    </tr>\n",
       "    <tr>\n",
       "      <th>Phd</th>\n",
       "      <td>0.021610</td>\n",
       "      <td>0.022116</td>\n",
       "    </tr>\n",
       "    <tr>\n",
       "      <th>Primary School</th>\n",
       "      <td>0.016077</td>\n",
       "      <td>0.016587</td>\n",
       "    </tr>\n",
       "  </tbody>\n",
       "</table>\n",
       "</div>"
      ],
      "text/plain": [
       "                education_level  education_level\n",
       "Graduate               0.605387         0.619835\n",
       "Masters                0.227633         0.234082\n",
       "High School            0.105282         0.107380\n",
       "Phd                    0.021610         0.022116\n",
       "Primary School         0.016077         0.016587"
      ]
     },
     "execution_count": 72,
     "metadata": {},
     "output_type": "execute_result"
    }
   ],
   "source": [
    "temp=pd.concat(\n",
    "    [df[\"education_level\"].value_counts()/len(df),\n",
    "    new_df[\"education_level\"].value_counts()/len(new_df)], axis=1\n",
    "    \n",
    ")\n",
    "temp"
   ]
  },
  {
   "cell_type": "markdown",
   "id": "5a2f2761",
   "metadata": {},
   "source": [
    "# Train with Complete Case At Random(CCAR)"
   ]
  },
  {
   "cell_type": "code",
   "execution_count": 73,
   "id": "44c23999",
   "metadata": {},
   "outputs": [],
   "source": [
    "X_train,X_test,y_train,y_test=train_test_split(new_df.iloc[:,:11],new_df.iloc[:,11:12])"
   ]
  },
  {
   "cell_type": "code",
   "execution_count": 74,
   "id": "345524ae",
   "metadata": {},
   "outputs": [
    {
     "data": {
      "text/plain": [
       "((12886, 11), (4296, 11), (12886, 1), (4296, 1))"
      ]
     },
     "execution_count": 74,
     "metadata": {},
     "output_type": "execute_result"
    }
   ],
   "source": [
    "X_train.shape,X_test.shape,y_train.shape,y_test.shape"
   ]
  },
  {
   "cell_type": "code",
   "execution_count": 75,
   "id": "00905e49",
   "metadata": {},
   "outputs": [
    {
     "data": {
      "text/plain": [
       "Index(['enrollee_id', 'city_development_index', 'gender',\n",
       "       'relevent_experience', 'enrolled_university', 'education_level',\n",
       "       'major_discipline', 'experience', 'company_size', 'company_type',\n",
       "       'training_hours'],\n",
       "      dtype='object')"
      ]
     },
     "execution_count": 75,
     "metadata": {},
     "output_type": "execute_result"
    }
   ],
   "source": [
    "X_train.columns"
   ]
  },
  {
   "cell_type": "code",
   "execution_count": 76,
   "id": "5ad4a5bb",
   "metadata": {},
   "outputs": [
    {
     "data": {
      "text/plain": [
       "enrollee_id                  0\n",
       "city_development_index       0\n",
       "gender                    2879\n",
       "relevent_experience          0\n",
       "enrolled_university          0\n",
       "education_level              0\n",
       "major_discipline          1629\n",
       "experience                   0\n",
       "company_size              3827\n",
       "company_type              3960\n",
       "training_hours               0\n",
       "dtype: int64"
      ]
     },
     "execution_count": 76,
     "metadata": {},
     "output_type": "execute_result"
    }
   ],
   "source": [
    "X_train.isnull().sum()"
   ]
  },
  {
   "cell_type": "code",
   "execution_count": 77,
   "id": "010202a3",
   "metadata": {},
   "outputs": [
    {
     "name": "stdout",
     "output_type": "stream",
     "text": [
      "<class 'pandas.core.frame.DataFrame'>\n",
      "Int64Index: 12886 entries, 17918 to 5804\n",
      "Data columns (total 11 columns):\n",
      " #   Column                  Non-Null Count  Dtype  \n",
      "---  ------                  --------------  -----  \n",
      " 0   enrollee_id             12886 non-null  int64  \n",
      " 1   city_development_index  12886 non-null  float64\n",
      " 2   gender                  10007 non-null  object \n",
      " 3   relevent_experience     12886 non-null  object \n",
      " 4   enrolled_university     12886 non-null  object \n",
      " 5   education_level         12886 non-null  object \n",
      " 6   major_discipline        11257 non-null  object \n",
      " 7   experience              12886 non-null  float64\n",
      " 8   company_size            9059 non-null   object \n",
      " 9   company_type            8926 non-null   object \n",
      " 10  training_hours          12886 non-null  float64\n",
      "dtypes: float64(3), int64(1), object(7)\n",
      "memory usage: 1.2+ MB\n"
     ]
    }
   ],
   "source": [
    "X_train.info()"
   ]
  },
  {
   "cell_type": "code",
   "execution_count": 78,
   "id": "790251e2",
   "metadata": {},
   "outputs": [
    {
     "data": {
      "text/plain": [
       "12886"
      ]
     },
     "execution_count": 78,
     "metadata": {},
     "output_type": "execute_result"
    }
   ],
   "source": [
    "X_train[\"enrollee_id\"].nunique()"
   ]
  },
  {
   "cell_type": "code",
   "execution_count": 79,
   "id": "bf1dfd73",
   "metadata": {},
   "outputs": [
    {
     "data": {
      "text/html": [
       "<div>\n",
       "<style scoped>\n",
       "    .dataframe tbody tr th:only-of-type {\n",
       "        vertical-align: middle;\n",
       "    }\n",
       "\n",
       "    .dataframe tbody tr th {\n",
       "        vertical-align: top;\n",
       "    }\n",
       "\n",
       "    .dataframe thead th {\n",
       "        text-align: right;\n",
       "    }\n",
       "</style>\n",
       "<table border=\"1\" class=\"dataframe\">\n",
       "  <thead>\n",
       "    <tr style=\"text-align: right;\">\n",
       "      <th></th>\n",
       "      <th>enrollee_id</th>\n",
       "      <th>city_development_index</th>\n",
       "      <th>experience</th>\n",
       "      <th>training_hours</th>\n",
       "    </tr>\n",
       "  </thead>\n",
       "  <tbody>\n",
       "    <tr>\n",
       "      <th>count</th>\n",
       "      <td>12886.000000</td>\n",
       "      <td>12886.000000</td>\n",
       "      <td>12886.000000</td>\n",
       "      <td>12886.000000</td>\n",
       "    </tr>\n",
       "    <tr>\n",
       "      <th>mean</th>\n",
       "      <td>16864.820658</td>\n",
       "      <td>0.831614</td>\n",
       "      <td>10.038026</td>\n",
       "      <td>65.261990</td>\n",
       "    </tr>\n",
       "    <tr>\n",
       "      <th>std</th>\n",
       "      <td>9639.122214</td>\n",
       "      <td>0.122116</td>\n",
       "      <td>6.507721</td>\n",
       "      <td>59.770728</td>\n",
       "    </tr>\n",
       "    <tr>\n",
       "      <th>min</th>\n",
       "      <td>2.000000</td>\n",
       "      <td>0.448000</td>\n",
       "      <td>0.000000</td>\n",
       "      <td>1.000000</td>\n",
       "    </tr>\n",
       "    <tr>\n",
       "      <th>25%</th>\n",
       "      <td>8504.250000</td>\n",
       "      <td>0.743000</td>\n",
       "      <td>4.000000</td>\n",
       "      <td>23.000000</td>\n",
       "    </tr>\n",
       "    <tr>\n",
       "      <th>50%</th>\n",
       "      <td>16996.000000</td>\n",
       "      <td>0.910000</td>\n",
       "      <td>9.000000</td>\n",
       "      <td>47.000000</td>\n",
       "    </tr>\n",
       "    <tr>\n",
       "      <th>75%</th>\n",
       "      <td>25227.500000</td>\n",
       "      <td>0.920000</td>\n",
       "      <td>16.000000</td>\n",
       "      <td>88.000000</td>\n",
       "    </tr>\n",
       "    <tr>\n",
       "      <th>max</th>\n",
       "      <td>33380.000000</td>\n",
       "      <td>0.949000</td>\n",
       "      <td>20.000000</td>\n",
       "      <td>336.000000</td>\n",
       "    </tr>\n",
       "  </tbody>\n",
       "</table>\n",
       "</div>"
      ],
      "text/plain": [
       "        enrollee_id  city_development_index    experience  training_hours\n",
       "count  12886.000000            12886.000000  12886.000000    12886.000000\n",
       "mean   16864.820658                0.831614     10.038026       65.261990\n",
       "std     9639.122214                0.122116      6.507721       59.770728\n",
       "min        2.000000                0.448000      0.000000        1.000000\n",
       "25%     8504.250000                0.743000      4.000000       23.000000\n",
       "50%    16996.000000                0.910000      9.000000       47.000000\n",
       "75%    25227.500000                0.920000     16.000000       88.000000\n",
       "max    33380.000000                0.949000     20.000000      336.000000"
      ]
     },
     "execution_count": 79,
     "metadata": {},
     "output_type": "execute_result"
    }
   ],
   "source": [
    "X_train.describe()"
   ]
  },
  {
   "cell_type": "code",
   "execution_count": 80,
   "id": "cfbc511a",
   "metadata": {},
   "outputs": [
    {
     "data": {
      "text/plain": [
       "target    0\n",
       "dtype: int64"
      ]
     },
     "execution_count": 80,
     "metadata": {},
     "output_type": "execute_result"
    }
   ],
   "source": [
    "y_train.isnull().sum()"
   ]
  },
  {
   "cell_type": "code",
   "execution_count": 81,
   "id": "2c73de6d",
   "metadata": {},
   "outputs": [],
   "source": [
    "trf1=ColumnTransformer(transformers=[\n",
    "    ('impute',SimpleImputer(strategy=\"most_frequent\"),[2,6,8,9])\n",
    "]\n",
    ",remainder=\"passthrough\")"
   ]
  },
  {
   "cell_type": "code",
   "execution_count": 82,
   "id": "3a079930",
   "metadata": {},
   "outputs": [],
   "source": [
    "trf2=ColumnTransformer(transformers=[\n",
    "    ('gender',OneHotEncoder(sparse=False,handle_unknown=\"ignore\"),[2]),\n",
    "#     ('major_discipline_company_size_company_type', OrdinalEncoder(categories=[[\"STEM\",\"Humanities\",\"Business Degree\",\"Arts\",\"Other\",\"No Major\"],\n",
    "#                                                                               [\"<10\",\"10/49\",\"50-99\",\"100-500\",\"500-999\",\"1000-4999\",\"5000-9999\",\"10000+\"],\n",
    "#                                                                               [\"Pvt Ltd\",\"Public Sector\",\"Funded Startup\",\"Early Stage Startup\",\"NGO\",\"Other\"],\n",
    "#                                                                               [\"No relevent experience\",\"Has relevent experience\"],\n",
    "#                                                                               [\"no_enrollment\",\"Part time course\",\"Full time course\"],\n",
    "#                                                                               [\"Primary School\",\"High School\",\"Graduate\",\"Masters\",\"Phd\"]],handle_unknown=\"use_encoded_value\",unknown_value=-1)\n",
    "#                                                                                 ,[6,8,9,3,4,5])\n",
    "    ('major_discipline', OrdinalEncoder(categories=[[\"STEM\",\"Humanities\",\"Business Degree\",\"Arts\",\"Other\",\"No Major\"]],handle_unknown='use_encoded_value', unknown_value=-1),[6]),\n",
    "    ('company_size', OrdinalEncoder(categories=[[\"<10\",\"10/49\",\"50-99\",\"100-500\",\"500-999\",\"1000-4999\",\"5000-9999\",\"10000+\"]],handle_unknown='use_encoded_value', unknown_value=-1),[8]),\n",
    "    ('company_type', OrdinalEncoder(categories=[['Pvt Ltd','Public Sector','Funded Startup','Early Stage Startup','NGO\",\"Other']],handle_unknown='use_encoded_value', unknown_value=-1),[9]),\n",
    "    ('relevent_experience',OrdinalEncoder(categories=[[\"No relevent experience\",\"Has relevent experience\"]],handle_unknown='use_encoded_value', unknown_value=-1),[3]),\n",
    "    ('enrolled_university', OrdinalEncoder(categories=[[\"no_enrollment\",\"Part time course\",\"Full time course\"]],handle_unknown='use_encoded_value', unknown_value=-1),[4]),\n",
    "    ('education_level', OrdinalEncoder(categories=[[\"Primary School\",\"High School\",\"Graduate\",\"Masters\",\"Phd\"]],handle_unknown='use_encoded_value', unknown_value=-1),[5])\n",
    "],\n",
    "\n",
    "remainder=\"passthrough\")"
   ]
  },
  {
   "cell_type": "code",
   "execution_count": 83,
   "id": "2262fd40",
   "metadata": {},
   "outputs": [],
   "source": [
    "# trf2=ColumnTransformer(transformers=[\n",
    "#     ('gender',OneHotEncoder(sparse=False,handle_unknown=\"ignore\"),[2]),\n",
    "#     ('major_discipline_company_size_company_type', OrdinalEncoder(handle_unknown=\"use_encoded_value\",unknown_value=-1)\n",
    "#                                                                                 ,[6,8,9,3,4,5])\n",
    "# #     ('major_discipline', OrdinalEncoder(categories=[[\"STEM\",\"Humanities\",\"Business Degree\",\"Arts\",\"Other\",\"No Major\"]],handle_unknown='use_encoded_value', unknown_value=-1),[6]),\n",
    "# #     ('company_size', OrdinalEncoder(categories=[[\"<10\",\"10/49\",\"50-99\",\"100-500\",\"500-999\",\"1000-4999\",\"5000-9999\",\"10000+\"]],handle_unknown='use_encoded_value', unknown_value=-1),[8]),\n",
    "# #     ('company_type', OrdinalEncoder(categories=[['Pvt Ltd','Public Sector','Funded Startup','Early Stage Startup','NGO\",\"Other']],handle_unknown='use_encoded_value', unknown_value=-1),[9]),\n",
    "# #     ('relevent_experience',OrdinalEncoder(categories=[[\"No relevent experience\",\"Has relevent experience\"]],handle_unknown='use_encoded_value', unknown_value=-1),[3]),\n",
    "# #     ('enrolled_university', OrdinalEncoder(categories=[[\"no_enrollment\",\"Part time course\",\"Full time course\"]],handle_unknown='use_encoded_value', unknown_value=-1),[4]),\n",
    "# #     ('education_level', OrdinalEncoder(categories=[[\"Primary School\",\"High School\",\"Graduate\",\"Masters\",\"Phd\"]],handle_unknown='use_encoded_value', unknown_value=-1),[5])\n",
    "# ],\n",
    "\n",
    "# remainder=\"passthrough\")"
   ]
  },
  {
   "cell_type": "code",
   "execution_count": 84,
   "id": "152889c5",
   "metadata": {},
   "outputs": [],
   "source": [
    "trf3=ColumnTransformer(transformers=[\n",
    "    ('scale',MinMaxScaler(),slice(0,13))\n",
    "])"
   ]
  },
  {
   "cell_type": "code",
   "execution_count": 85,
   "id": "abe6d98a",
   "metadata": {},
   "outputs": [],
   "source": [
    "trf4=SelectKBest(score_func=chi2,k=5)"
   ]
  },
  {
   "cell_type": "code",
   "execution_count": 86,
   "id": "82b86add",
   "metadata": {},
   "outputs": [],
   "source": [
    "trf5=DecisionTreeClassifier()"
   ]
  },
  {
   "cell_type": "code",
   "execution_count": 87,
   "id": "6e1c538a",
   "metadata": {},
   "outputs": [],
   "source": [
    "pipe=Pipeline([('trf1',trf1),('trf2',trf2),('trf3',trf3),('trf4',trf4),('trf5',trf5)])"
   ]
  },
  {
   "cell_type": "code",
   "execution_count": 88,
   "id": "dbdf1a64",
   "metadata": {},
   "outputs": [
    {
     "data": {
      "text/html": [
       "<style>#sk-cbc754fb-e231-4c32-96f2-6c4839169d1b {color: black;background-color: white;}#sk-cbc754fb-e231-4c32-96f2-6c4839169d1b pre{padding: 0;}#sk-cbc754fb-e231-4c32-96f2-6c4839169d1b div.sk-toggleable {background-color: white;}#sk-cbc754fb-e231-4c32-96f2-6c4839169d1b label.sk-toggleable__label {cursor: pointer;display: block;width: 100%;margin-bottom: 0;padding: 0.3em;box-sizing: border-box;text-align: center;}#sk-cbc754fb-e231-4c32-96f2-6c4839169d1b label.sk-toggleable__label-arrow:before {content: \"▸\";float: left;margin-right: 0.25em;color: #696969;}#sk-cbc754fb-e231-4c32-96f2-6c4839169d1b label.sk-toggleable__label-arrow:hover:before {color: black;}#sk-cbc754fb-e231-4c32-96f2-6c4839169d1b div.sk-estimator:hover label.sk-toggleable__label-arrow:before {color: black;}#sk-cbc754fb-e231-4c32-96f2-6c4839169d1b div.sk-toggleable__content {max-height: 0;max-width: 0;overflow: hidden;text-align: left;background-color: #f0f8ff;}#sk-cbc754fb-e231-4c32-96f2-6c4839169d1b div.sk-toggleable__content pre {margin: 0.2em;color: black;border-radius: 0.25em;background-color: #f0f8ff;}#sk-cbc754fb-e231-4c32-96f2-6c4839169d1b input.sk-toggleable__control:checked~div.sk-toggleable__content {max-height: 200px;max-width: 100%;overflow: auto;}#sk-cbc754fb-e231-4c32-96f2-6c4839169d1b input.sk-toggleable__control:checked~label.sk-toggleable__label-arrow:before {content: \"▾\";}#sk-cbc754fb-e231-4c32-96f2-6c4839169d1b div.sk-estimator input.sk-toggleable__control:checked~label.sk-toggleable__label {background-color: #d4ebff;}#sk-cbc754fb-e231-4c32-96f2-6c4839169d1b div.sk-label input.sk-toggleable__control:checked~label.sk-toggleable__label {background-color: #d4ebff;}#sk-cbc754fb-e231-4c32-96f2-6c4839169d1b input.sk-hidden--visually {border: 0;clip: rect(1px 1px 1px 1px);clip: rect(1px, 1px, 1px, 1px);height: 1px;margin: -1px;overflow: hidden;padding: 0;position: absolute;width: 1px;}#sk-cbc754fb-e231-4c32-96f2-6c4839169d1b div.sk-estimator {font-family: monospace;background-color: #f0f8ff;border: 1px dotted black;border-radius: 0.25em;box-sizing: border-box;margin-bottom: 0.5em;}#sk-cbc754fb-e231-4c32-96f2-6c4839169d1b div.sk-estimator:hover {background-color: #d4ebff;}#sk-cbc754fb-e231-4c32-96f2-6c4839169d1b div.sk-parallel-item::after {content: \"\";width: 100%;border-bottom: 1px solid gray;flex-grow: 1;}#sk-cbc754fb-e231-4c32-96f2-6c4839169d1b div.sk-label:hover label.sk-toggleable__label {background-color: #d4ebff;}#sk-cbc754fb-e231-4c32-96f2-6c4839169d1b div.sk-serial::before {content: \"\";position: absolute;border-left: 1px solid gray;box-sizing: border-box;top: 2em;bottom: 0;left: 50%;}#sk-cbc754fb-e231-4c32-96f2-6c4839169d1b div.sk-serial {display: flex;flex-direction: column;align-items: center;background-color: white;padding-right: 0.2em;padding-left: 0.2em;}#sk-cbc754fb-e231-4c32-96f2-6c4839169d1b div.sk-item {z-index: 1;}#sk-cbc754fb-e231-4c32-96f2-6c4839169d1b div.sk-parallel {display: flex;align-items: stretch;justify-content: center;background-color: white;}#sk-cbc754fb-e231-4c32-96f2-6c4839169d1b div.sk-parallel::before {content: \"\";position: absolute;border-left: 1px solid gray;box-sizing: border-box;top: 2em;bottom: 0;left: 50%;}#sk-cbc754fb-e231-4c32-96f2-6c4839169d1b div.sk-parallel-item {display: flex;flex-direction: column;position: relative;background-color: white;}#sk-cbc754fb-e231-4c32-96f2-6c4839169d1b div.sk-parallel-item:first-child::after {align-self: flex-end;width: 50%;}#sk-cbc754fb-e231-4c32-96f2-6c4839169d1b div.sk-parallel-item:last-child::after {align-self: flex-start;width: 50%;}#sk-cbc754fb-e231-4c32-96f2-6c4839169d1b div.sk-parallel-item:only-child::after {width: 0;}#sk-cbc754fb-e231-4c32-96f2-6c4839169d1b div.sk-dashed-wrapped {border: 1px dashed gray;margin: 0 0.4em 0.5em 0.4em;box-sizing: border-box;padding-bottom: 0.4em;background-color: white;position: relative;}#sk-cbc754fb-e231-4c32-96f2-6c4839169d1b div.sk-label label {font-family: monospace;font-weight: bold;background-color: white;display: inline-block;line-height: 1.2em;}#sk-cbc754fb-e231-4c32-96f2-6c4839169d1b div.sk-label-container {position: relative;z-index: 2;text-align: center;}#sk-cbc754fb-e231-4c32-96f2-6c4839169d1b div.sk-container {/* jupyter's `normalize.less` sets `[hidden] { display: none; }` but bootstrap.min.css set `[hidden] { display: none !important; }` so we also need the `!important` here to be able to override the default hidden behavior on the sphinx rendered scikit-learn.org. See: https://github.com/scikit-learn/scikit-learn/issues/21755 */display: inline-block !important;position: relative;}#sk-cbc754fb-e231-4c32-96f2-6c4839169d1b div.sk-text-repr-fallback {display: none;}</style><div id=\"sk-cbc754fb-e231-4c32-96f2-6c4839169d1b\" class=\"sk-top-container\"><div class=\"sk-text-repr-fallback\"><pre>Pipeline(steps=[(&#x27;trf1&#x27;,\n",
       "                 ColumnTransformer(remainder=&#x27;passthrough&#x27;,\n",
       "                                   transformers=[(&#x27;impute&#x27;,\n",
       "                                                  SimpleImputer(strategy=&#x27;most_frequent&#x27;),\n",
       "                                                  [2, 6, 8, 9])])),\n",
       "                (&#x27;trf2&#x27;,\n",
       "                 ColumnTransformer(remainder=&#x27;passthrough&#x27;,\n",
       "                                   transformers=[(&#x27;gender&#x27;,\n",
       "                                                  OneHotEncoder(handle_unknown=&#x27;ignore&#x27;,\n",
       "                                                                sparse=False),\n",
       "                                                  [2]),\n",
       "                                                 (&#x27;major_discipline&#x27;,\n",
       "                                                  OrdinalEncoder(categories=[[&#x27;STEM&#x27;,\n",
       "                                                                              &#x27;Humanities&#x27;,\n",
       "                                                                              &#x27;Busine...\n",
       "                                                 (&#x27;education_level&#x27;,\n",
       "                                                  OrdinalEncoder(categories=[[&#x27;Primary &#x27;\n",
       "                                                                              &#x27;School&#x27;,\n",
       "                                                                              &#x27;High &#x27;\n",
       "                                                                              &#x27;School&#x27;,\n",
       "                                                                              &#x27;Graduate&#x27;,\n",
       "                                                                              &#x27;Masters&#x27;,\n",
       "                                                                              &#x27;Phd&#x27;]],\n",
       "                                                                 handle_unknown=&#x27;use_encoded_value&#x27;,\n",
       "                                                                 unknown_value=-1),\n",
       "                                                  [5])])),\n",
       "                (&#x27;trf3&#x27;,\n",
       "                 ColumnTransformer(transformers=[(&#x27;scale&#x27;, MinMaxScaler(),\n",
       "                                                  slice(0, 13, None))])),\n",
       "                (&#x27;trf4&#x27;,\n",
       "                 SelectKBest(k=5,\n",
       "                             score_func=&lt;function chi2 at 0x7f10cedb8e50&gt;)),\n",
       "                (&#x27;trf5&#x27;, DecisionTreeClassifier())])</pre><b>Please rerun this cell to show the HTML repr or trust the notebook.</b></div><div class=\"sk-container\" hidden><div class=\"sk-item sk-dashed-wrapped\"><div class=\"sk-label-container\"><div class=\"sk-label sk-toggleable\"><input class=\"sk-toggleable__control sk-hidden--visually\" id=\"004a01f5-4fe0-482e-9594-a1354eae0277\" type=\"checkbox\" ><label for=\"004a01f5-4fe0-482e-9594-a1354eae0277\" class=\"sk-toggleable__label sk-toggleable__label-arrow\">Pipeline</label><div class=\"sk-toggleable__content\"><pre>Pipeline(steps=[(&#x27;trf1&#x27;,\n",
       "                 ColumnTransformer(remainder=&#x27;passthrough&#x27;,\n",
       "                                   transformers=[(&#x27;impute&#x27;,\n",
       "                                                  SimpleImputer(strategy=&#x27;most_frequent&#x27;),\n",
       "                                                  [2, 6, 8, 9])])),\n",
       "                (&#x27;trf2&#x27;,\n",
       "                 ColumnTransformer(remainder=&#x27;passthrough&#x27;,\n",
       "                                   transformers=[(&#x27;gender&#x27;,\n",
       "                                                  OneHotEncoder(handle_unknown=&#x27;ignore&#x27;,\n",
       "                                                                sparse=False),\n",
       "                                                  [2]),\n",
       "                                                 (&#x27;major_discipline&#x27;,\n",
       "                                                  OrdinalEncoder(categories=[[&#x27;STEM&#x27;,\n",
       "                                                                              &#x27;Humanities&#x27;,\n",
       "                                                                              &#x27;Busine...\n",
       "                                                 (&#x27;education_level&#x27;,\n",
       "                                                  OrdinalEncoder(categories=[[&#x27;Primary &#x27;\n",
       "                                                                              &#x27;School&#x27;,\n",
       "                                                                              &#x27;High &#x27;\n",
       "                                                                              &#x27;School&#x27;,\n",
       "                                                                              &#x27;Graduate&#x27;,\n",
       "                                                                              &#x27;Masters&#x27;,\n",
       "                                                                              &#x27;Phd&#x27;]],\n",
       "                                                                 handle_unknown=&#x27;use_encoded_value&#x27;,\n",
       "                                                                 unknown_value=-1),\n",
       "                                                  [5])])),\n",
       "                (&#x27;trf3&#x27;,\n",
       "                 ColumnTransformer(transformers=[(&#x27;scale&#x27;, MinMaxScaler(),\n",
       "                                                  slice(0, 13, None))])),\n",
       "                (&#x27;trf4&#x27;,\n",
       "                 SelectKBest(k=5,\n",
       "                             score_func=&lt;function chi2 at 0x7f10cedb8e50&gt;)),\n",
       "                (&#x27;trf5&#x27;, DecisionTreeClassifier())])</pre></div></div></div><div class=\"sk-serial\"><div class=\"sk-item sk-dashed-wrapped\"><div class=\"sk-label-container\"><div class=\"sk-label sk-toggleable\"><input class=\"sk-toggleable__control sk-hidden--visually\" id=\"e56cfe31-8818-4770-a0a4-eb6c2f92530b\" type=\"checkbox\" ><label for=\"e56cfe31-8818-4770-a0a4-eb6c2f92530b\" class=\"sk-toggleable__label sk-toggleable__label-arrow\">trf1: ColumnTransformer</label><div class=\"sk-toggleable__content\"><pre>ColumnTransformer(remainder=&#x27;passthrough&#x27;,\n",
       "                  transformers=[(&#x27;impute&#x27;,\n",
       "                                 SimpleImputer(strategy=&#x27;most_frequent&#x27;),\n",
       "                                 [2, 6, 8, 9])])</pre></div></div></div><div class=\"sk-parallel\"><div class=\"sk-parallel-item\"><div class=\"sk-item\"><div class=\"sk-label-container\"><div class=\"sk-label sk-toggleable\"><input class=\"sk-toggleable__control sk-hidden--visually\" id=\"bbe5aa00-80e5-4892-afd6-64af779a5f86\" type=\"checkbox\" ><label for=\"bbe5aa00-80e5-4892-afd6-64af779a5f86\" class=\"sk-toggleable__label sk-toggleable__label-arrow\">impute</label><div class=\"sk-toggleable__content\"><pre>[2, 6, 8, 9]</pre></div></div></div><div class=\"sk-serial\"><div class=\"sk-item\"><div class=\"sk-estimator sk-toggleable\"><input class=\"sk-toggleable__control sk-hidden--visually\" id=\"22e40a6c-a609-4dce-85b0-a8509ec25a17\" type=\"checkbox\" ><label for=\"22e40a6c-a609-4dce-85b0-a8509ec25a17\" class=\"sk-toggleable__label sk-toggleable__label-arrow\">SimpleImputer</label><div class=\"sk-toggleable__content\"><pre>SimpleImputer(strategy=&#x27;most_frequent&#x27;)</pre></div></div></div></div></div></div><div class=\"sk-parallel-item\"><div class=\"sk-item\"><div class=\"sk-label-container\"><div class=\"sk-label sk-toggleable\"><input class=\"sk-toggleable__control sk-hidden--visually\" id=\"02193a06-170b-4558-8c79-58c3d3ab52c7\" type=\"checkbox\" ><label for=\"02193a06-170b-4558-8c79-58c3d3ab52c7\" class=\"sk-toggleable__label sk-toggleable__label-arrow\">remainder</label><div class=\"sk-toggleable__content\"><pre>[&#x27;enrollee_id&#x27;, &#x27;city_development_index&#x27;, &#x27;relevent_experience&#x27;, &#x27;enrolled_university&#x27;, &#x27;education_level&#x27;, &#x27;experience&#x27;, &#x27;training_hours&#x27;]</pre></div></div></div><div class=\"sk-serial\"><div class=\"sk-item\"><div class=\"sk-estimator sk-toggleable\"><input class=\"sk-toggleable__control sk-hidden--visually\" id=\"13e0e737-51e3-41a7-b9d8-7e1f336fe230\" type=\"checkbox\" ><label for=\"13e0e737-51e3-41a7-b9d8-7e1f336fe230\" class=\"sk-toggleable__label sk-toggleable__label-arrow\">passthrough</label><div class=\"sk-toggleable__content\"><pre>passthrough</pre></div></div></div></div></div></div></div></div><div class=\"sk-item sk-dashed-wrapped\"><div class=\"sk-label-container\"><div class=\"sk-label sk-toggleable\"><input class=\"sk-toggleable__control sk-hidden--visually\" id=\"04f8a6a3-e91b-4168-8f95-5562ea3cfd7e\" type=\"checkbox\" ><label for=\"04f8a6a3-e91b-4168-8f95-5562ea3cfd7e\" class=\"sk-toggleable__label sk-toggleable__label-arrow\">trf2: ColumnTransformer</label><div class=\"sk-toggleable__content\"><pre>ColumnTransformer(remainder=&#x27;passthrough&#x27;,\n",
       "                  transformers=[(&#x27;gender&#x27;,\n",
       "                                 OneHotEncoder(handle_unknown=&#x27;ignore&#x27;,\n",
       "                                               sparse=False),\n",
       "                                 [2]),\n",
       "                                (&#x27;major_discipline&#x27;,\n",
       "                                 OrdinalEncoder(categories=[[&#x27;STEM&#x27;,\n",
       "                                                             &#x27;Humanities&#x27;,\n",
       "                                                             &#x27;Business Degree&#x27;,\n",
       "                                                             &#x27;Arts&#x27;, &#x27;Other&#x27;,\n",
       "                                                             &#x27;No Major&#x27;]],\n",
       "                                                handle_unknown=&#x27;use_encoded_value&#x27;,\n",
       "                                                unknown_value=-1),\n",
       "                                 [6]),\n",
       "                                (&#x27;company_size&#x27;,\n",
       "                                 OrdinalEncoder(categories=[[&#x27;&lt;10&#x27;, &#x27;10/49&#x27;...\n",
       "                                                unknown_value=-1),\n",
       "                                 [3]),\n",
       "                                (&#x27;enrolled_university&#x27;,\n",
       "                                 OrdinalEncoder(categories=[[&#x27;no_enrollment&#x27;,\n",
       "                                                             &#x27;Part time course&#x27;,\n",
       "                                                             &#x27;Full time &#x27;\n",
       "                                                             &#x27;course&#x27;]],\n",
       "                                                handle_unknown=&#x27;use_encoded_value&#x27;,\n",
       "                                                unknown_value=-1),\n",
       "                                 [4]),\n",
       "                                (&#x27;education_level&#x27;,\n",
       "                                 OrdinalEncoder(categories=[[&#x27;Primary School&#x27;,\n",
       "                                                             &#x27;High School&#x27;,\n",
       "                                                             &#x27;Graduate&#x27;,\n",
       "                                                             &#x27;Masters&#x27;,\n",
       "                                                             &#x27;Phd&#x27;]],\n",
       "                                                handle_unknown=&#x27;use_encoded_value&#x27;,\n",
       "                                                unknown_value=-1),\n",
       "                                 [5])])</pre></div></div></div><div class=\"sk-parallel\"><div class=\"sk-parallel-item\"><div class=\"sk-item\"><div class=\"sk-label-container\"><div class=\"sk-label sk-toggleable\"><input class=\"sk-toggleable__control sk-hidden--visually\" id=\"e813b964-5901-4b96-a603-c0716b28d204\" type=\"checkbox\" ><label for=\"e813b964-5901-4b96-a603-c0716b28d204\" class=\"sk-toggleable__label sk-toggleable__label-arrow\">gender</label><div class=\"sk-toggleable__content\"><pre>[2]</pre></div></div></div><div class=\"sk-serial\"><div class=\"sk-item\"><div class=\"sk-estimator sk-toggleable\"><input class=\"sk-toggleable__control sk-hidden--visually\" id=\"4130163f-fb7c-48a7-9410-c773e31c61c1\" type=\"checkbox\" ><label for=\"4130163f-fb7c-48a7-9410-c773e31c61c1\" class=\"sk-toggleable__label sk-toggleable__label-arrow\">OneHotEncoder</label><div class=\"sk-toggleable__content\"><pre>OneHotEncoder(handle_unknown=&#x27;ignore&#x27;, sparse=False)</pre></div></div></div></div></div></div><div class=\"sk-parallel-item\"><div class=\"sk-item\"><div class=\"sk-label-container\"><div class=\"sk-label sk-toggleable\"><input class=\"sk-toggleable__control sk-hidden--visually\" id=\"c8315fa5-6fbc-4ab5-820a-c1405d35075b\" type=\"checkbox\" ><label for=\"c8315fa5-6fbc-4ab5-820a-c1405d35075b\" class=\"sk-toggleable__label sk-toggleable__label-arrow\">major_discipline</label><div class=\"sk-toggleable__content\"><pre>[6]</pre></div></div></div><div class=\"sk-serial\"><div class=\"sk-item\"><div class=\"sk-estimator sk-toggleable\"><input class=\"sk-toggleable__control sk-hidden--visually\" id=\"afcb7972-e36e-4855-8b15-663ae06dd8f5\" type=\"checkbox\" ><label for=\"afcb7972-e36e-4855-8b15-663ae06dd8f5\" class=\"sk-toggleable__label sk-toggleable__label-arrow\">OrdinalEncoder</label><div class=\"sk-toggleable__content\"><pre>OrdinalEncoder(categories=[[&#x27;STEM&#x27;, &#x27;Humanities&#x27;, &#x27;Business Degree&#x27;, &#x27;Arts&#x27;,\n",
       "                            &#x27;Other&#x27;, &#x27;No Major&#x27;]],\n",
       "               handle_unknown=&#x27;use_encoded_value&#x27;, unknown_value=-1)</pre></div></div></div></div></div></div><div class=\"sk-parallel-item\"><div class=\"sk-item\"><div class=\"sk-label-container\"><div class=\"sk-label sk-toggleable\"><input class=\"sk-toggleable__control sk-hidden--visually\" id=\"48268b2b-8d21-4a00-aff3-61bd30945f41\" type=\"checkbox\" ><label for=\"48268b2b-8d21-4a00-aff3-61bd30945f41\" class=\"sk-toggleable__label sk-toggleable__label-arrow\">company_size</label><div class=\"sk-toggleable__content\"><pre>[8]</pre></div></div></div><div class=\"sk-serial\"><div class=\"sk-item\"><div class=\"sk-estimator sk-toggleable\"><input class=\"sk-toggleable__control sk-hidden--visually\" id=\"ff09f46a-0cb7-45a2-9c20-665aab92dbce\" type=\"checkbox\" ><label for=\"ff09f46a-0cb7-45a2-9c20-665aab92dbce\" class=\"sk-toggleable__label sk-toggleable__label-arrow\">OrdinalEncoder</label><div class=\"sk-toggleable__content\"><pre>OrdinalEncoder(categories=[[&#x27;&lt;10&#x27;, &#x27;10/49&#x27;, &#x27;50-99&#x27;, &#x27;100-500&#x27;, &#x27;500-999&#x27;,\n",
       "                            &#x27;1000-4999&#x27;, &#x27;5000-9999&#x27;, &#x27;10000+&#x27;]],\n",
       "               handle_unknown=&#x27;use_encoded_value&#x27;, unknown_value=-1)</pre></div></div></div></div></div></div><div class=\"sk-parallel-item\"><div class=\"sk-item\"><div class=\"sk-label-container\"><div class=\"sk-label sk-toggleable\"><input class=\"sk-toggleable__control sk-hidden--visually\" id=\"8c1ee13b-b6fc-414a-a32a-875e01a8e829\" type=\"checkbox\" ><label for=\"8c1ee13b-b6fc-414a-a32a-875e01a8e829\" class=\"sk-toggleable__label sk-toggleable__label-arrow\">company_type</label><div class=\"sk-toggleable__content\"><pre>[9]</pre></div></div></div><div class=\"sk-serial\"><div class=\"sk-item\"><div class=\"sk-estimator sk-toggleable\"><input class=\"sk-toggleable__control sk-hidden--visually\" id=\"dbcbe327-5ec5-43e4-8d29-3ee5310c7c2c\" type=\"checkbox\" ><label for=\"dbcbe327-5ec5-43e4-8d29-3ee5310c7c2c\" class=\"sk-toggleable__label sk-toggleable__label-arrow\">OrdinalEncoder</label><div class=\"sk-toggleable__content\"><pre>OrdinalEncoder(categories=[[&#x27;Pvt Ltd&#x27;, &#x27;Public Sector&#x27;, &#x27;Funded Startup&#x27;,\n",
       "                            &#x27;Early Stage Startup&#x27;, &#x27;NGO&quot;,&quot;Other&#x27;]],\n",
       "               handle_unknown=&#x27;use_encoded_value&#x27;, unknown_value=-1)</pre></div></div></div></div></div></div><div class=\"sk-parallel-item\"><div class=\"sk-item\"><div class=\"sk-label-container\"><div class=\"sk-label sk-toggleable\"><input class=\"sk-toggleable__control sk-hidden--visually\" id=\"86efd5f0-7afe-40df-96e0-c55cba462cda\" type=\"checkbox\" ><label for=\"86efd5f0-7afe-40df-96e0-c55cba462cda\" class=\"sk-toggleable__label sk-toggleable__label-arrow\">relevent_experience</label><div class=\"sk-toggleable__content\"><pre>[3]</pre></div></div></div><div class=\"sk-serial\"><div class=\"sk-item\"><div class=\"sk-estimator sk-toggleable\"><input class=\"sk-toggleable__control sk-hidden--visually\" id=\"d6fb7282-391a-46f2-8f64-9da1d761418c\" type=\"checkbox\" ><label for=\"d6fb7282-391a-46f2-8f64-9da1d761418c\" class=\"sk-toggleable__label sk-toggleable__label-arrow\">OrdinalEncoder</label><div class=\"sk-toggleable__content\"><pre>OrdinalEncoder(categories=[[&#x27;No relevent experience&#x27;,\n",
       "                            &#x27;Has relevent experience&#x27;]],\n",
       "               handle_unknown=&#x27;use_encoded_value&#x27;, unknown_value=-1)</pre></div></div></div></div></div></div><div class=\"sk-parallel-item\"><div class=\"sk-item\"><div class=\"sk-label-container\"><div class=\"sk-label sk-toggleable\"><input class=\"sk-toggleable__control sk-hidden--visually\" id=\"2c99bdbb-1b7e-4730-837f-545271cde775\" type=\"checkbox\" ><label for=\"2c99bdbb-1b7e-4730-837f-545271cde775\" class=\"sk-toggleable__label sk-toggleable__label-arrow\">enrolled_university</label><div class=\"sk-toggleable__content\"><pre>[4]</pre></div></div></div><div class=\"sk-serial\"><div class=\"sk-item\"><div class=\"sk-estimator sk-toggleable\"><input class=\"sk-toggleable__control sk-hidden--visually\" id=\"cc1efd83-23ba-4de7-9ee5-350f2c9f6618\" type=\"checkbox\" ><label for=\"cc1efd83-23ba-4de7-9ee5-350f2c9f6618\" class=\"sk-toggleable__label sk-toggleable__label-arrow\">OrdinalEncoder</label><div class=\"sk-toggleable__content\"><pre>OrdinalEncoder(categories=[[&#x27;no_enrollment&#x27;, &#x27;Part time course&#x27;,\n",
       "                            &#x27;Full time course&#x27;]],\n",
       "               handle_unknown=&#x27;use_encoded_value&#x27;, unknown_value=-1)</pre></div></div></div></div></div></div><div class=\"sk-parallel-item\"><div class=\"sk-item\"><div class=\"sk-label-container\"><div class=\"sk-label sk-toggleable\"><input class=\"sk-toggleable__control sk-hidden--visually\" id=\"1a2a04ce-d4ed-4885-8ed5-8f43086a1bda\" type=\"checkbox\" ><label for=\"1a2a04ce-d4ed-4885-8ed5-8f43086a1bda\" class=\"sk-toggleable__label sk-toggleable__label-arrow\">education_level</label><div class=\"sk-toggleable__content\"><pre>[5]</pre></div></div></div><div class=\"sk-serial\"><div class=\"sk-item\"><div class=\"sk-estimator sk-toggleable\"><input class=\"sk-toggleable__control sk-hidden--visually\" id=\"0ddfa3c1-b588-423a-8baa-d8c43721d826\" type=\"checkbox\" ><label for=\"0ddfa3c1-b588-423a-8baa-d8c43721d826\" class=\"sk-toggleable__label sk-toggleable__label-arrow\">OrdinalEncoder</label><div class=\"sk-toggleable__content\"><pre>OrdinalEncoder(categories=[[&#x27;Primary School&#x27;, &#x27;High School&#x27;, &#x27;Graduate&#x27;,\n",
       "                            &#x27;Masters&#x27;, &#x27;Phd&#x27;]],\n",
       "               handle_unknown=&#x27;use_encoded_value&#x27;, unknown_value=-1)</pre></div></div></div></div></div></div><div class=\"sk-parallel-item\"><div class=\"sk-item\"><div class=\"sk-label-container\"><div class=\"sk-label sk-toggleable\"><input class=\"sk-toggleable__control sk-hidden--visually\" id=\"21ee62bc-8343-4cef-8d25-bd676d3ed025\" type=\"checkbox\" ><label for=\"21ee62bc-8343-4cef-8d25-bd676d3ed025\" class=\"sk-toggleable__label sk-toggleable__label-arrow\">remainder</label><div class=\"sk-toggleable__content\"><pre>[0, 1, 7, 10]</pre></div></div></div><div class=\"sk-serial\"><div class=\"sk-item\"><div class=\"sk-estimator sk-toggleable\"><input class=\"sk-toggleable__control sk-hidden--visually\" id=\"1d05cee2-dba2-4b48-af13-db3c10973a3d\" type=\"checkbox\" ><label for=\"1d05cee2-dba2-4b48-af13-db3c10973a3d\" class=\"sk-toggleable__label sk-toggleable__label-arrow\">passthrough</label><div class=\"sk-toggleable__content\"><pre>passthrough</pre></div></div></div></div></div></div></div></div><div class=\"sk-item sk-dashed-wrapped\"><div class=\"sk-label-container\"><div class=\"sk-label sk-toggleable\"><input class=\"sk-toggleable__control sk-hidden--visually\" id=\"9433e5d0-e63c-4375-af56-8b3605815396\" type=\"checkbox\" ><label for=\"9433e5d0-e63c-4375-af56-8b3605815396\" class=\"sk-toggleable__label sk-toggleable__label-arrow\">trf3: ColumnTransformer</label><div class=\"sk-toggleable__content\"><pre>ColumnTransformer(transformers=[(&#x27;scale&#x27;, MinMaxScaler(), slice(0, 13, None))])</pre></div></div></div><div class=\"sk-parallel\"><div class=\"sk-parallel-item\"><div class=\"sk-item\"><div class=\"sk-label-container\"><div class=\"sk-label sk-toggleable\"><input class=\"sk-toggleable__control sk-hidden--visually\" id=\"8234cf1a-1b6d-4752-b8b4-3ea37db99e99\" type=\"checkbox\" ><label for=\"8234cf1a-1b6d-4752-b8b4-3ea37db99e99\" class=\"sk-toggleable__label sk-toggleable__label-arrow\">scale</label><div class=\"sk-toggleable__content\"><pre>slice(0, 13, None)</pre></div></div></div><div class=\"sk-serial\"><div class=\"sk-item\"><div class=\"sk-estimator sk-toggleable\"><input class=\"sk-toggleable__control sk-hidden--visually\" id=\"16a10a14-7f2c-4d0b-a612-f527808b84b7\" type=\"checkbox\" ><label for=\"16a10a14-7f2c-4d0b-a612-f527808b84b7\" class=\"sk-toggleable__label sk-toggleable__label-arrow\">MinMaxScaler</label><div class=\"sk-toggleable__content\"><pre>MinMaxScaler()</pre></div></div></div></div></div></div></div></div><div class=\"sk-item\"><div class=\"sk-estimator sk-toggleable\"><input class=\"sk-toggleable__control sk-hidden--visually\" id=\"8b232ef5-907e-458f-93db-48f06477bbab\" type=\"checkbox\" ><label for=\"8b232ef5-907e-458f-93db-48f06477bbab\" class=\"sk-toggleable__label sk-toggleable__label-arrow\">SelectKBest</label><div class=\"sk-toggleable__content\"><pre>SelectKBest(k=5, score_func=&lt;function chi2 at 0x7f10cedb8e50&gt;)</pre></div></div></div><div class=\"sk-item\"><div class=\"sk-estimator sk-toggleable\"><input class=\"sk-toggleable__control sk-hidden--visually\" id=\"de383a6d-0a62-4435-b77b-3b698eff1703\" type=\"checkbox\" ><label for=\"de383a6d-0a62-4435-b77b-3b698eff1703\" class=\"sk-toggleable__label sk-toggleable__label-arrow\">DecisionTreeClassifier</label><div class=\"sk-toggleable__content\"><pre>DecisionTreeClassifier()</pre></div></div></div></div></div></div></div>"
      ],
      "text/plain": [
       "Pipeline(steps=[('trf1',\n",
       "                 ColumnTransformer(remainder='passthrough',\n",
       "                                   transformers=[('impute',\n",
       "                                                  SimpleImputer(strategy='most_frequent'),\n",
       "                                                  [2, 6, 8, 9])])),\n",
       "                ('trf2',\n",
       "                 ColumnTransformer(remainder='passthrough',\n",
       "                                   transformers=[('gender',\n",
       "                                                  OneHotEncoder(handle_unknown='ignore',\n",
       "                                                                sparse=False),\n",
       "                                                  [2]),\n",
       "                                                 ('major_discipline',\n",
       "                                                  OrdinalEncoder(categories=[['STEM',\n",
       "                                                                              'Humanities',\n",
       "                                                                              'Busine...\n",
       "                                                 ('education_level',\n",
       "                                                  OrdinalEncoder(categories=[['Primary '\n",
       "                                                                              'School',\n",
       "                                                                              'High '\n",
       "                                                                              'School',\n",
       "                                                                              'Graduate',\n",
       "                                                                              'Masters',\n",
       "                                                                              'Phd']],\n",
       "                                                                 handle_unknown='use_encoded_value',\n",
       "                                                                 unknown_value=-1),\n",
       "                                                  [5])])),\n",
       "                ('trf3',\n",
       "                 ColumnTransformer(transformers=[('scale', MinMaxScaler(),\n",
       "                                                  slice(0, 13, None))])),\n",
       "                ('trf4',\n",
       "                 SelectKBest(k=5,\n",
       "                             score_func=<function chi2 at 0x7f10cedb8e50>)),\n",
       "                ('trf5', DecisionTreeClassifier())])"
      ]
     },
     "execution_count": 88,
     "metadata": {},
     "output_type": "execute_result"
    }
   ],
   "source": [
    "pipe.fit(X_train,y_train)"
   ]
  },
  {
   "cell_type": "code",
   "execution_count": 89,
   "id": "ed6f0609",
   "metadata": {},
   "outputs": [],
   "source": [
    "y_pred=pipe.predict(X_test)"
   ]
  },
  {
   "cell_type": "code",
   "execution_count": 90,
   "id": "efab8c8e",
   "metadata": {},
   "outputs": [
    {
     "data": {
      "text/plain": [
       "0.7441806331471136"
      ]
     },
     "execution_count": 90,
     "metadata": {},
     "output_type": "execute_result"
    }
   ],
   "source": [
    "accuracy_score(y_pred,y_test)"
   ]
  },
  {
   "cell_type": "markdown",
   "id": "4e091a36",
   "metadata": {},
   "source": [
    "# Cross_validation_score"
   ]
  },
  {
   "cell_type": "code",
   "execution_count": 91,
   "id": "0500f944",
   "metadata": {},
   "outputs": [
    {
     "data": {
      "text/plain": [
       "0.7543070180155023"
      ]
     },
     "execution_count": 91,
     "metadata": {},
     "output_type": "execute_result"
    }
   ],
   "source": [
    "cross_val_score(pipe,X_train,y_train,cv=4,scoring=\"accuracy\").mean()"
   ]
  },
  {
   "cell_type": "markdown",
   "id": "90b37e99",
   "metadata": {},
   "source": [
    "# GridSearch using pipeline"
   ]
  },
  {
   "cell_type": "code",
   "execution_count": 92,
   "id": "6887fbaa",
   "metadata": {},
   "outputs": [],
   "source": [
    "params={\n",
    "    'trf5__max_depth':[1,2,3,4,5,None]\n",
    "}"
   ]
  },
  {
   "cell_type": "code",
   "execution_count": 93,
   "id": "9d0a3435",
   "metadata": {},
   "outputs": [
    {
     "data": {
      "text/html": [
       "<style>#sk-4107b011-4469-4a9a-ac9c-e63211d94fe5 {color: black;background-color: white;}#sk-4107b011-4469-4a9a-ac9c-e63211d94fe5 pre{padding: 0;}#sk-4107b011-4469-4a9a-ac9c-e63211d94fe5 div.sk-toggleable {background-color: white;}#sk-4107b011-4469-4a9a-ac9c-e63211d94fe5 label.sk-toggleable__label {cursor: pointer;display: block;width: 100%;margin-bottom: 0;padding: 0.3em;box-sizing: border-box;text-align: center;}#sk-4107b011-4469-4a9a-ac9c-e63211d94fe5 label.sk-toggleable__label-arrow:before {content: \"▸\";float: left;margin-right: 0.25em;color: #696969;}#sk-4107b011-4469-4a9a-ac9c-e63211d94fe5 label.sk-toggleable__label-arrow:hover:before {color: black;}#sk-4107b011-4469-4a9a-ac9c-e63211d94fe5 div.sk-estimator:hover label.sk-toggleable__label-arrow:before {color: black;}#sk-4107b011-4469-4a9a-ac9c-e63211d94fe5 div.sk-toggleable__content {max-height: 0;max-width: 0;overflow: hidden;text-align: left;background-color: #f0f8ff;}#sk-4107b011-4469-4a9a-ac9c-e63211d94fe5 div.sk-toggleable__content pre {margin: 0.2em;color: black;border-radius: 0.25em;background-color: #f0f8ff;}#sk-4107b011-4469-4a9a-ac9c-e63211d94fe5 input.sk-toggleable__control:checked~div.sk-toggleable__content {max-height: 200px;max-width: 100%;overflow: auto;}#sk-4107b011-4469-4a9a-ac9c-e63211d94fe5 input.sk-toggleable__control:checked~label.sk-toggleable__label-arrow:before {content: \"▾\";}#sk-4107b011-4469-4a9a-ac9c-e63211d94fe5 div.sk-estimator input.sk-toggleable__control:checked~label.sk-toggleable__label {background-color: #d4ebff;}#sk-4107b011-4469-4a9a-ac9c-e63211d94fe5 div.sk-label input.sk-toggleable__control:checked~label.sk-toggleable__label {background-color: #d4ebff;}#sk-4107b011-4469-4a9a-ac9c-e63211d94fe5 input.sk-hidden--visually {border: 0;clip: rect(1px 1px 1px 1px);clip: rect(1px, 1px, 1px, 1px);height: 1px;margin: -1px;overflow: hidden;padding: 0;position: absolute;width: 1px;}#sk-4107b011-4469-4a9a-ac9c-e63211d94fe5 div.sk-estimator {font-family: monospace;background-color: #f0f8ff;border: 1px dotted black;border-radius: 0.25em;box-sizing: border-box;margin-bottom: 0.5em;}#sk-4107b011-4469-4a9a-ac9c-e63211d94fe5 div.sk-estimator:hover {background-color: #d4ebff;}#sk-4107b011-4469-4a9a-ac9c-e63211d94fe5 div.sk-parallel-item::after {content: \"\";width: 100%;border-bottom: 1px solid gray;flex-grow: 1;}#sk-4107b011-4469-4a9a-ac9c-e63211d94fe5 div.sk-label:hover label.sk-toggleable__label {background-color: #d4ebff;}#sk-4107b011-4469-4a9a-ac9c-e63211d94fe5 div.sk-serial::before {content: \"\";position: absolute;border-left: 1px solid gray;box-sizing: border-box;top: 2em;bottom: 0;left: 50%;}#sk-4107b011-4469-4a9a-ac9c-e63211d94fe5 div.sk-serial {display: flex;flex-direction: column;align-items: center;background-color: white;padding-right: 0.2em;padding-left: 0.2em;}#sk-4107b011-4469-4a9a-ac9c-e63211d94fe5 div.sk-item {z-index: 1;}#sk-4107b011-4469-4a9a-ac9c-e63211d94fe5 div.sk-parallel {display: flex;align-items: stretch;justify-content: center;background-color: white;}#sk-4107b011-4469-4a9a-ac9c-e63211d94fe5 div.sk-parallel::before {content: \"\";position: absolute;border-left: 1px solid gray;box-sizing: border-box;top: 2em;bottom: 0;left: 50%;}#sk-4107b011-4469-4a9a-ac9c-e63211d94fe5 div.sk-parallel-item {display: flex;flex-direction: column;position: relative;background-color: white;}#sk-4107b011-4469-4a9a-ac9c-e63211d94fe5 div.sk-parallel-item:first-child::after {align-self: flex-end;width: 50%;}#sk-4107b011-4469-4a9a-ac9c-e63211d94fe5 div.sk-parallel-item:last-child::after {align-self: flex-start;width: 50%;}#sk-4107b011-4469-4a9a-ac9c-e63211d94fe5 div.sk-parallel-item:only-child::after {width: 0;}#sk-4107b011-4469-4a9a-ac9c-e63211d94fe5 div.sk-dashed-wrapped {border: 1px dashed gray;margin: 0 0.4em 0.5em 0.4em;box-sizing: border-box;padding-bottom: 0.4em;background-color: white;position: relative;}#sk-4107b011-4469-4a9a-ac9c-e63211d94fe5 div.sk-label label {font-family: monospace;font-weight: bold;background-color: white;display: inline-block;line-height: 1.2em;}#sk-4107b011-4469-4a9a-ac9c-e63211d94fe5 div.sk-label-container {position: relative;z-index: 2;text-align: center;}#sk-4107b011-4469-4a9a-ac9c-e63211d94fe5 div.sk-container {/* jupyter's `normalize.less` sets `[hidden] { display: none; }` but bootstrap.min.css set `[hidden] { display: none !important; }` so we also need the `!important` here to be able to override the default hidden behavior on the sphinx rendered scikit-learn.org. See: https://github.com/scikit-learn/scikit-learn/issues/21755 */display: inline-block !important;position: relative;}#sk-4107b011-4469-4a9a-ac9c-e63211d94fe5 div.sk-text-repr-fallback {display: none;}</style><div id=\"sk-4107b011-4469-4a9a-ac9c-e63211d94fe5\" class=\"sk-top-container\"><div class=\"sk-text-repr-fallback\"><pre>GridSearchCV(cv=5,\n",
       "             estimator=Pipeline(steps=[(&#x27;trf1&#x27;,\n",
       "                                        ColumnTransformer(remainder=&#x27;passthrough&#x27;,\n",
       "                                                          transformers=[(&#x27;impute&#x27;,\n",
       "                                                                         SimpleImputer(strategy=&#x27;most_frequent&#x27;),\n",
       "                                                                         [2, 6,\n",
       "                                                                          8,\n",
       "                                                                          9])])),\n",
       "                                       (&#x27;trf2&#x27;,\n",
       "                                        ColumnTransformer(remainder=&#x27;passthrough&#x27;,\n",
       "                                                          transformers=[(&#x27;gender&#x27;,\n",
       "                                                                         OneHotEncoder(handle_unknown=&#x27;ignore&#x27;,\n",
       "                                                                                       sparse=False),\n",
       "                                                                         [2]),\n",
       "                                                                        (&#x27;major_discipline&#x27;,\n",
       "                                                                         OrdinalEncoder(categories=[...\n",
       "                                                                                                     &#x27;School&#x27;,\n",
       "                                                                                                     &#x27;Graduate&#x27;,\n",
       "                                                                                                     &#x27;Masters&#x27;,\n",
       "                                                                                                     &#x27;Phd&#x27;]],\n",
       "                                                                                        handle_unknown=&#x27;use_encoded_value&#x27;,\n",
       "                                                                                        unknown_value=-1),\n",
       "                                                                         [5])])),\n",
       "                                       (&#x27;trf3&#x27;,\n",
       "                                        ColumnTransformer(transformers=[(&#x27;scale&#x27;,\n",
       "                                                                         MinMaxScaler(),\n",
       "                                                                         slice(0, 13, None))])),\n",
       "                                       (&#x27;trf4&#x27;,\n",
       "                                        SelectKBest(k=5,\n",
       "                                                    score_func=&lt;function chi2 at 0x7f10cedb8e50&gt;)),\n",
       "                                       (&#x27;trf5&#x27;, DecisionTreeClassifier())]),\n",
       "             param_grid={&#x27;trf5__max_depth&#x27;: [1, 2, 3, 4, 5, None]},\n",
       "             scoring=&#x27;accuracy&#x27;)</pre><b>Please rerun this cell to show the HTML repr or trust the notebook.</b></div><div class=\"sk-container\" hidden><div class=\"sk-item sk-dashed-wrapped\"><div class=\"sk-label-container\"><div class=\"sk-label sk-toggleable\"><input class=\"sk-toggleable__control sk-hidden--visually\" id=\"018045fb-6a27-4440-b367-8e60817e63dd\" type=\"checkbox\" ><label for=\"018045fb-6a27-4440-b367-8e60817e63dd\" class=\"sk-toggleable__label sk-toggleable__label-arrow\">GridSearchCV</label><div class=\"sk-toggleable__content\"><pre>GridSearchCV(cv=5,\n",
       "             estimator=Pipeline(steps=[(&#x27;trf1&#x27;,\n",
       "                                        ColumnTransformer(remainder=&#x27;passthrough&#x27;,\n",
       "                                                          transformers=[(&#x27;impute&#x27;,\n",
       "                                                                         SimpleImputer(strategy=&#x27;most_frequent&#x27;),\n",
       "                                                                         [2, 6,\n",
       "                                                                          8,\n",
       "                                                                          9])])),\n",
       "                                       (&#x27;trf2&#x27;,\n",
       "                                        ColumnTransformer(remainder=&#x27;passthrough&#x27;,\n",
       "                                                          transformers=[(&#x27;gender&#x27;,\n",
       "                                                                         OneHotEncoder(handle_unknown=&#x27;ignore&#x27;,\n",
       "                                                                                       sparse=False),\n",
       "                                                                         [2]),\n",
       "                                                                        (&#x27;major_discipline&#x27;,\n",
       "                                                                         OrdinalEncoder(categories=[...\n",
       "                                                                                                     &#x27;School&#x27;,\n",
       "                                                                                                     &#x27;Graduate&#x27;,\n",
       "                                                                                                     &#x27;Masters&#x27;,\n",
       "                                                                                                     &#x27;Phd&#x27;]],\n",
       "                                                                                        handle_unknown=&#x27;use_encoded_value&#x27;,\n",
       "                                                                                        unknown_value=-1),\n",
       "                                                                         [5])])),\n",
       "                                       (&#x27;trf3&#x27;,\n",
       "                                        ColumnTransformer(transformers=[(&#x27;scale&#x27;,\n",
       "                                                                         MinMaxScaler(),\n",
       "                                                                         slice(0, 13, None))])),\n",
       "                                       (&#x27;trf4&#x27;,\n",
       "                                        SelectKBest(k=5,\n",
       "                                                    score_func=&lt;function chi2 at 0x7f10cedb8e50&gt;)),\n",
       "                                       (&#x27;trf5&#x27;, DecisionTreeClassifier())]),\n",
       "             param_grid={&#x27;trf5__max_depth&#x27;: [1, 2, 3, 4, 5, None]},\n",
       "             scoring=&#x27;accuracy&#x27;)</pre></div></div></div><div class=\"sk-parallel\"><div class=\"sk-parallel-item\"><div class=\"sk-item\"><div class=\"sk-serial\"><div class=\"sk-item\"><div class=\"sk-serial\"><div class=\"sk-item sk-dashed-wrapped\"><div class=\"sk-label-container\"><div class=\"sk-label sk-toggleable\"><input class=\"sk-toggleable__control sk-hidden--visually\" id=\"0a0e7236-cd78-4163-a3e3-dc61f3fcd85e\" type=\"checkbox\" ><label for=\"0a0e7236-cd78-4163-a3e3-dc61f3fcd85e\" class=\"sk-toggleable__label sk-toggleable__label-arrow\">trf1: ColumnTransformer</label><div class=\"sk-toggleable__content\"><pre>ColumnTransformer(remainder=&#x27;passthrough&#x27;,\n",
       "                  transformers=[(&#x27;impute&#x27;,\n",
       "                                 SimpleImputer(strategy=&#x27;most_frequent&#x27;),\n",
       "                                 [2, 6, 8, 9])])</pre></div></div></div><div class=\"sk-parallel\"><div class=\"sk-parallel-item\"><div class=\"sk-item\"><div class=\"sk-label-container\"><div class=\"sk-label sk-toggleable\"><input class=\"sk-toggleable__control sk-hidden--visually\" id=\"afaca85a-3047-4eb5-b7ee-8b6127887b57\" type=\"checkbox\" ><label for=\"afaca85a-3047-4eb5-b7ee-8b6127887b57\" class=\"sk-toggleable__label sk-toggleable__label-arrow\">impute</label><div class=\"sk-toggleable__content\"><pre>[2, 6, 8, 9]</pre></div></div></div><div class=\"sk-serial\"><div class=\"sk-item\"><div class=\"sk-estimator sk-toggleable\"><input class=\"sk-toggleable__control sk-hidden--visually\" id=\"96188a68-fa69-47f6-ba77-ac6227ca8000\" type=\"checkbox\" ><label for=\"96188a68-fa69-47f6-ba77-ac6227ca8000\" class=\"sk-toggleable__label sk-toggleable__label-arrow\">SimpleImputer</label><div class=\"sk-toggleable__content\"><pre>SimpleImputer(strategy=&#x27;most_frequent&#x27;)</pre></div></div></div></div></div></div><div class=\"sk-parallel-item\"><div class=\"sk-item\"><div class=\"sk-label-container\"><div class=\"sk-label sk-toggleable\"><input class=\"sk-toggleable__control sk-hidden--visually\" id=\"18c06f4b-edd2-46da-bf0f-9f9b4bde0925\" type=\"checkbox\" ><label for=\"18c06f4b-edd2-46da-bf0f-9f9b4bde0925\" class=\"sk-toggleable__label sk-toggleable__label-arrow\">remainder</label><div class=\"sk-toggleable__content\"><pre>[&#x27;enrollee_id&#x27;, &#x27;city_development_index&#x27;, &#x27;relevent_experience&#x27;, &#x27;enrolled_university&#x27;, &#x27;education_level&#x27;, &#x27;experience&#x27;, &#x27;training_hours&#x27;]</pre></div></div></div><div class=\"sk-serial\"><div class=\"sk-item\"><div class=\"sk-estimator sk-toggleable\"><input class=\"sk-toggleable__control sk-hidden--visually\" id=\"e98b4dc4-fa66-4f43-a9aa-5a863d76263b\" type=\"checkbox\" ><label for=\"e98b4dc4-fa66-4f43-a9aa-5a863d76263b\" class=\"sk-toggleable__label sk-toggleable__label-arrow\">passthrough</label><div class=\"sk-toggleable__content\"><pre>passthrough</pre></div></div></div></div></div></div></div></div><div class=\"sk-item sk-dashed-wrapped\"><div class=\"sk-label-container\"><div class=\"sk-label sk-toggleable\"><input class=\"sk-toggleable__control sk-hidden--visually\" id=\"1364e9ee-0081-49aa-9206-7f02927e1cd9\" type=\"checkbox\" ><label for=\"1364e9ee-0081-49aa-9206-7f02927e1cd9\" class=\"sk-toggleable__label sk-toggleable__label-arrow\">trf2: ColumnTransformer</label><div class=\"sk-toggleable__content\"><pre>ColumnTransformer(remainder=&#x27;passthrough&#x27;,\n",
       "                  transformers=[(&#x27;gender&#x27;,\n",
       "                                 OneHotEncoder(handle_unknown=&#x27;ignore&#x27;,\n",
       "                                               sparse=False),\n",
       "                                 [2]),\n",
       "                                (&#x27;major_discipline&#x27;,\n",
       "                                 OrdinalEncoder(categories=[[&#x27;STEM&#x27;,\n",
       "                                                             &#x27;Humanities&#x27;,\n",
       "                                                             &#x27;Business Degree&#x27;,\n",
       "                                                             &#x27;Arts&#x27;, &#x27;Other&#x27;,\n",
       "                                                             &#x27;No Major&#x27;]],\n",
       "                                                handle_unknown=&#x27;use_encoded_value&#x27;,\n",
       "                                                unknown_value=-1),\n",
       "                                 [6]),\n",
       "                                (&#x27;company_size&#x27;,\n",
       "                                 OrdinalEncoder(categories=[[&#x27;&lt;10&#x27;, &#x27;10/49&#x27;...\n",
       "                                                unknown_value=-1),\n",
       "                                 [3]),\n",
       "                                (&#x27;enrolled_university&#x27;,\n",
       "                                 OrdinalEncoder(categories=[[&#x27;no_enrollment&#x27;,\n",
       "                                                             &#x27;Part time course&#x27;,\n",
       "                                                             &#x27;Full time &#x27;\n",
       "                                                             &#x27;course&#x27;]],\n",
       "                                                handle_unknown=&#x27;use_encoded_value&#x27;,\n",
       "                                                unknown_value=-1),\n",
       "                                 [4]),\n",
       "                                (&#x27;education_level&#x27;,\n",
       "                                 OrdinalEncoder(categories=[[&#x27;Primary School&#x27;,\n",
       "                                                             &#x27;High School&#x27;,\n",
       "                                                             &#x27;Graduate&#x27;,\n",
       "                                                             &#x27;Masters&#x27;,\n",
       "                                                             &#x27;Phd&#x27;]],\n",
       "                                                handle_unknown=&#x27;use_encoded_value&#x27;,\n",
       "                                                unknown_value=-1),\n",
       "                                 [5])])</pre></div></div></div><div class=\"sk-parallel\"><div class=\"sk-parallel-item\"><div class=\"sk-item\"><div class=\"sk-label-container\"><div class=\"sk-label sk-toggleable\"><input class=\"sk-toggleable__control sk-hidden--visually\" id=\"73963039-885d-4d13-9148-9291488a6559\" type=\"checkbox\" ><label for=\"73963039-885d-4d13-9148-9291488a6559\" class=\"sk-toggleable__label sk-toggleable__label-arrow\">gender</label><div class=\"sk-toggleable__content\"><pre>[2]</pre></div></div></div><div class=\"sk-serial\"><div class=\"sk-item\"><div class=\"sk-estimator sk-toggleable\"><input class=\"sk-toggleable__control sk-hidden--visually\" id=\"593762a6-20a3-41be-be51-63443366ffce\" type=\"checkbox\" ><label for=\"593762a6-20a3-41be-be51-63443366ffce\" class=\"sk-toggleable__label sk-toggleable__label-arrow\">OneHotEncoder</label><div class=\"sk-toggleable__content\"><pre>OneHotEncoder(handle_unknown=&#x27;ignore&#x27;, sparse=False)</pre></div></div></div></div></div></div><div class=\"sk-parallel-item\"><div class=\"sk-item\"><div class=\"sk-label-container\"><div class=\"sk-label sk-toggleable\"><input class=\"sk-toggleable__control sk-hidden--visually\" id=\"c61f66a1-d10d-4475-96eb-f268da1e66a0\" type=\"checkbox\" ><label for=\"c61f66a1-d10d-4475-96eb-f268da1e66a0\" class=\"sk-toggleable__label sk-toggleable__label-arrow\">major_discipline</label><div class=\"sk-toggleable__content\"><pre>[6]</pre></div></div></div><div class=\"sk-serial\"><div class=\"sk-item\"><div class=\"sk-estimator sk-toggleable\"><input class=\"sk-toggleable__control sk-hidden--visually\" id=\"af57d1c6-8cd1-434d-a95e-4ff94f2c8deb\" type=\"checkbox\" ><label for=\"af57d1c6-8cd1-434d-a95e-4ff94f2c8deb\" class=\"sk-toggleable__label sk-toggleable__label-arrow\">OrdinalEncoder</label><div class=\"sk-toggleable__content\"><pre>OrdinalEncoder(categories=[[&#x27;STEM&#x27;, &#x27;Humanities&#x27;, &#x27;Business Degree&#x27;, &#x27;Arts&#x27;,\n",
       "                            &#x27;Other&#x27;, &#x27;No Major&#x27;]],\n",
       "               handle_unknown=&#x27;use_encoded_value&#x27;, unknown_value=-1)</pre></div></div></div></div></div></div><div class=\"sk-parallel-item\"><div class=\"sk-item\"><div class=\"sk-label-container\"><div class=\"sk-label sk-toggleable\"><input class=\"sk-toggleable__control sk-hidden--visually\" id=\"802dc6cd-2b93-4f13-9563-aff27d5c6b8a\" type=\"checkbox\" ><label for=\"802dc6cd-2b93-4f13-9563-aff27d5c6b8a\" class=\"sk-toggleable__label sk-toggleable__label-arrow\">company_size</label><div class=\"sk-toggleable__content\"><pre>[8]</pre></div></div></div><div class=\"sk-serial\"><div class=\"sk-item\"><div class=\"sk-estimator sk-toggleable\"><input class=\"sk-toggleable__control sk-hidden--visually\" id=\"3ce2f7ca-a3a1-4df2-9c8f-a63fce01d48c\" type=\"checkbox\" ><label for=\"3ce2f7ca-a3a1-4df2-9c8f-a63fce01d48c\" class=\"sk-toggleable__label sk-toggleable__label-arrow\">OrdinalEncoder</label><div class=\"sk-toggleable__content\"><pre>OrdinalEncoder(categories=[[&#x27;&lt;10&#x27;, &#x27;10/49&#x27;, &#x27;50-99&#x27;, &#x27;100-500&#x27;, &#x27;500-999&#x27;,\n",
       "                            &#x27;1000-4999&#x27;, &#x27;5000-9999&#x27;, &#x27;10000+&#x27;]],\n",
       "               handle_unknown=&#x27;use_encoded_value&#x27;, unknown_value=-1)</pre></div></div></div></div></div></div><div class=\"sk-parallel-item\"><div class=\"sk-item\"><div class=\"sk-label-container\"><div class=\"sk-label sk-toggleable\"><input class=\"sk-toggleable__control sk-hidden--visually\" id=\"3a84d0e5-04b7-4df8-9e17-94923f9bc374\" type=\"checkbox\" ><label for=\"3a84d0e5-04b7-4df8-9e17-94923f9bc374\" class=\"sk-toggleable__label sk-toggleable__label-arrow\">company_type</label><div class=\"sk-toggleable__content\"><pre>[9]</pre></div></div></div><div class=\"sk-serial\"><div class=\"sk-item\"><div class=\"sk-estimator sk-toggleable\"><input class=\"sk-toggleable__control sk-hidden--visually\" id=\"daafb587-f593-4bb3-94a1-77a870ac1e3f\" type=\"checkbox\" ><label for=\"daafb587-f593-4bb3-94a1-77a870ac1e3f\" class=\"sk-toggleable__label sk-toggleable__label-arrow\">OrdinalEncoder</label><div class=\"sk-toggleable__content\"><pre>OrdinalEncoder(categories=[[&#x27;Pvt Ltd&#x27;, &#x27;Public Sector&#x27;, &#x27;Funded Startup&#x27;,\n",
       "                            &#x27;Early Stage Startup&#x27;, &#x27;NGO&quot;,&quot;Other&#x27;]],\n",
       "               handle_unknown=&#x27;use_encoded_value&#x27;, unknown_value=-1)</pre></div></div></div></div></div></div><div class=\"sk-parallel-item\"><div class=\"sk-item\"><div class=\"sk-label-container\"><div class=\"sk-label sk-toggleable\"><input class=\"sk-toggleable__control sk-hidden--visually\" id=\"7c6fe2b3-a125-4e74-ba42-84836a471777\" type=\"checkbox\" ><label for=\"7c6fe2b3-a125-4e74-ba42-84836a471777\" class=\"sk-toggleable__label sk-toggleable__label-arrow\">relevent_experience</label><div class=\"sk-toggleable__content\"><pre>[3]</pre></div></div></div><div class=\"sk-serial\"><div class=\"sk-item\"><div class=\"sk-estimator sk-toggleable\"><input class=\"sk-toggleable__control sk-hidden--visually\" id=\"aa6e94fb-55ce-4958-b507-0a940860541c\" type=\"checkbox\" ><label for=\"aa6e94fb-55ce-4958-b507-0a940860541c\" class=\"sk-toggleable__label sk-toggleable__label-arrow\">OrdinalEncoder</label><div class=\"sk-toggleable__content\"><pre>OrdinalEncoder(categories=[[&#x27;No relevent experience&#x27;,\n",
       "                            &#x27;Has relevent experience&#x27;]],\n",
       "               handle_unknown=&#x27;use_encoded_value&#x27;, unknown_value=-1)</pre></div></div></div></div></div></div><div class=\"sk-parallel-item\"><div class=\"sk-item\"><div class=\"sk-label-container\"><div class=\"sk-label sk-toggleable\"><input class=\"sk-toggleable__control sk-hidden--visually\" id=\"109a2b2a-d3c1-42da-9a37-b72a1b717284\" type=\"checkbox\" ><label for=\"109a2b2a-d3c1-42da-9a37-b72a1b717284\" class=\"sk-toggleable__label sk-toggleable__label-arrow\">enrolled_university</label><div class=\"sk-toggleable__content\"><pre>[4]</pre></div></div></div><div class=\"sk-serial\"><div class=\"sk-item\"><div class=\"sk-estimator sk-toggleable\"><input class=\"sk-toggleable__control sk-hidden--visually\" id=\"7752381e-a473-4764-8256-8aabbdaf0c33\" type=\"checkbox\" ><label for=\"7752381e-a473-4764-8256-8aabbdaf0c33\" class=\"sk-toggleable__label sk-toggleable__label-arrow\">OrdinalEncoder</label><div class=\"sk-toggleable__content\"><pre>OrdinalEncoder(categories=[[&#x27;no_enrollment&#x27;, &#x27;Part time course&#x27;,\n",
       "                            &#x27;Full time course&#x27;]],\n",
       "               handle_unknown=&#x27;use_encoded_value&#x27;, unknown_value=-1)</pre></div></div></div></div></div></div><div class=\"sk-parallel-item\"><div class=\"sk-item\"><div class=\"sk-label-container\"><div class=\"sk-label sk-toggleable\"><input class=\"sk-toggleable__control sk-hidden--visually\" id=\"703d682c-ca46-44cf-9e9a-358783bfc4be\" type=\"checkbox\" ><label for=\"703d682c-ca46-44cf-9e9a-358783bfc4be\" class=\"sk-toggleable__label sk-toggleable__label-arrow\">education_level</label><div class=\"sk-toggleable__content\"><pre>[5]</pre></div></div></div><div class=\"sk-serial\"><div class=\"sk-item\"><div class=\"sk-estimator sk-toggleable\"><input class=\"sk-toggleable__control sk-hidden--visually\" id=\"9e6d0f09-02b3-4b34-b4e7-265826b85722\" type=\"checkbox\" ><label for=\"9e6d0f09-02b3-4b34-b4e7-265826b85722\" class=\"sk-toggleable__label sk-toggleable__label-arrow\">OrdinalEncoder</label><div class=\"sk-toggleable__content\"><pre>OrdinalEncoder(categories=[[&#x27;Primary School&#x27;, &#x27;High School&#x27;, &#x27;Graduate&#x27;,\n",
       "                            &#x27;Masters&#x27;, &#x27;Phd&#x27;]],\n",
       "               handle_unknown=&#x27;use_encoded_value&#x27;, unknown_value=-1)</pre></div></div></div></div></div></div><div class=\"sk-parallel-item\"><div class=\"sk-item\"><div class=\"sk-label-container\"><div class=\"sk-label sk-toggleable\"><input class=\"sk-toggleable__control sk-hidden--visually\" id=\"88f385ac-6b55-4b12-b484-364213cf673a\" type=\"checkbox\" ><label for=\"88f385ac-6b55-4b12-b484-364213cf673a\" class=\"sk-toggleable__label sk-toggleable__label-arrow\">remainder</label><div class=\"sk-toggleable__content\"><pre>[0, 1, 7, 10]</pre></div></div></div><div class=\"sk-serial\"><div class=\"sk-item\"><div class=\"sk-estimator sk-toggleable\"><input class=\"sk-toggleable__control sk-hidden--visually\" id=\"fe5cb5c8-2643-448c-9075-a98a4ba853d0\" type=\"checkbox\" ><label for=\"fe5cb5c8-2643-448c-9075-a98a4ba853d0\" class=\"sk-toggleable__label sk-toggleable__label-arrow\">passthrough</label><div class=\"sk-toggleable__content\"><pre>passthrough</pre></div></div></div></div></div></div></div></div><div class=\"sk-item sk-dashed-wrapped\"><div class=\"sk-label-container\"><div class=\"sk-label sk-toggleable\"><input class=\"sk-toggleable__control sk-hidden--visually\" id=\"611ac635-e731-490a-a663-e6b3b0561ab8\" type=\"checkbox\" ><label for=\"611ac635-e731-490a-a663-e6b3b0561ab8\" class=\"sk-toggleable__label sk-toggleable__label-arrow\">trf3: ColumnTransformer</label><div class=\"sk-toggleable__content\"><pre>ColumnTransformer(transformers=[(&#x27;scale&#x27;, MinMaxScaler(), slice(0, 13, None))])</pre></div></div></div><div class=\"sk-parallel\"><div class=\"sk-parallel-item\"><div class=\"sk-item\"><div class=\"sk-label-container\"><div class=\"sk-label sk-toggleable\"><input class=\"sk-toggleable__control sk-hidden--visually\" id=\"dc885e35-b08c-4fa0-a1e1-71b674dea586\" type=\"checkbox\" ><label for=\"dc885e35-b08c-4fa0-a1e1-71b674dea586\" class=\"sk-toggleable__label sk-toggleable__label-arrow\">scale</label><div class=\"sk-toggleable__content\"><pre>slice(0, 13, None)</pre></div></div></div><div class=\"sk-serial\"><div class=\"sk-item\"><div class=\"sk-estimator sk-toggleable\"><input class=\"sk-toggleable__control sk-hidden--visually\" id=\"048e66c7-2727-40f7-950d-2f8b1f15447a\" type=\"checkbox\" ><label for=\"048e66c7-2727-40f7-950d-2f8b1f15447a\" class=\"sk-toggleable__label sk-toggleable__label-arrow\">MinMaxScaler</label><div class=\"sk-toggleable__content\"><pre>MinMaxScaler()</pre></div></div></div></div></div></div></div></div><div class=\"sk-item\"><div class=\"sk-estimator sk-toggleable\"><input class=\"sk-toggleable__control sk-hidden--visually\" id=\"957f1443-2b7c-49d6-a2a3-ed01cc26666b\" type=\"checkbox\" ><label for=\"957f1443-2b7c-49d6-a2a3-ed01cc26666b\" class=\"sk-toggleable__label sk-toggleable__label-arrow\">SelectKBest</label><div class=\"sk-toggleable__content\"><pre>SelectKBest(k=5, score_func=&lt;function chi2 at 0x7f10cedb8e50&gt;)</pre></div></div></div><div class=\"sk-item\"><div class=\"sk-estimator sk-toggleable\"><input class=\"sk-toggleable__control sk-hidden--visually\" id=\"2268714b-62b1-4b27-a400-eada9c455e78\" type=\"checkbox\" ><label for=\"2268714b-62b1-4b27-a400-eada9c455e78\" class=\"sk-toggleable__label sk-toggleable__label-arrow\">DecisionTreeClassifier</label><div class=\"sk-toggleable__content\"><pre>DecisionTreeClassifier()</pre></div></div></div></div></div></div></div></div></div></div></div></div>"
      ],
      "text/plain": [
       "GridSearchCV(cv=5,\n",
       "             estimator=Pipeline(steps=[('trf1',\n",
       "                                        ColumnTransformer(remainder='passthrough',\n",
       "                                                          transformers=[('impute',\n",
       "                                                                         SimpleImputer(strategy='most_frequent'),\n",
       "                                                                         [2, 6,\n",
       "                                                                          8,\n",
       "                                                                          9])])),\n",
       "                                       ('trf2',\n",
       "                                        ColumnTransformer(remainder='passthrough',\n",
       "                                                          transformers=[('gender',\n",
       "                                                                         OneHotEncoder(handle_unknown='ignore',\n",
       "                                                                                       sparse=False),\n",
       "                                                                         [2]),\n",
       "                                                                        ('major_discipline',\n",
       "                                                                         OrdinalEncoder(categories=[...\n",
       "                                                                                                     'School',\n",
       "                                                                                                     'Graduate',\n",
       "                                                                                                     'Masters',\n",
       "                                                                                                     'Phd']],\n",
       "                                                                                        handle_unknown='use_encoded_value',\n",
       "                                                                                        unknown_value=-1),\n",
       "                                                                         [5])])),\n",
       "                                       ('trf3',\n",
       "                                        ColumnTransformer(transformers=[('scale',\n",
       "                                                                         MinMaxScaler(),\n",
       "                                                                         slice(0, 13, None))])),\n",
       "                                       ('trf4',\n",
       "                                        SelectKBest(k=5,\n",
       "                                                    score_func=<function chi2 at 0x7f10cedb8e50>)),\n",
       "                                       ('trf5', DecisionTreeClassifier())]),\n",
       "             param_grid={'trf5__max_depth': [1, 2, 3, 4, 5, None]},\n",
       "             scoring='accuracy')"
      ]
     },
     "execution_count": 93,
     "metadata": {},
     "output_type": "execute_result"
    }
   ],
   "source": [
    "from sklearn.model_selection import GridSearchCV\n",
    "grid=GridSearchCV(pipe,params,cv=5,scoring='accuracy')\n",
    "grid.fit(X_train,y_train)"
   ]
  },
  {
   "cell_type": "code",
   "execution_count": 94,
   "id": "c16760c4",
   "metadata": {},
   "outputs": [
    {
     "data": {
      "text/plain": [
       "0.7543070180112729"
      ]
     },
     "execution_count": 94,
     "metadata": {},
     "output_type": "execute_result"
    }
   ],
   "source": [
    "grid.best_score_"
   ]
  },
  {
   "cell_type": "code",
   "execution_count": 95,
   "id": "f688231a",
   "metadata": {},
   "outputs": [
    {
     "data": {
      "text/plain": [
       "{'trf5__max_depth': 1}"
      ]
     },
     "execution_count": 95,
     "metadata": {},
     "output_type": "execute_result"
    }
   ],
   "source": [
    "grid.best_params_"
   ]
  },
  {
   "cell_type": "code",
   "execution_count": null,
   "id": "c45176f3",
   "metadata": {},
   "outputs": [],
   "source": []
  }
 ],
 "metadata": {
  "kernelspec": {
   "display_name": "Python 3 (ipykernel)",
   "language": "python",
   "name": "python3"
  },
  "language_info": {
   "codemirror_mode": {
    "name": "ipython",
    "version": 3
   },
   "file_extension": ".py",
   "mimetype": "text/x-python",
   "name": "python",
   "nbconvert_exporter": "python",
   "pygments_lexer": "ipython3",
   "version": "3.9.12"
  }
 },
 "nbformat": 4,
 "nbformat_minor": 5
}
