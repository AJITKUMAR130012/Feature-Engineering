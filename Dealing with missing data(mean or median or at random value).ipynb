{
 "cells": [
  {
   "cell_type": "code",
   "execution_count": 52,
   "id": "054d9564",
   "metadata": {},
   "outputs": [],
   "source": [
    "import numpy as np\n",
    "import pandas as pd\n",
    "from sklearn.model_selection import train_test_split\n",
    "from sklearn.impute import SimpleImputer\n",
    "import seaborn as sns\n",
    "import matplotlib.pyplot as plt\n",
    "from sklearn.compose import ColumnTransformer"
   ]
  },
  {
   "cell_type": "code",
   "execution_count": 3,
   "id": "f562e27a",
   "metadata": {},
   "outputs": [],
   "source": [
    "df=pd.read_csv(\"./datasets/titanic_toy.csv\")"
   ]
  },
  {
   "cell_type": "code",
   "execution_count": 4,
   "id": "cd09e2df",
   "metadata": {},
   "outputs": [
    {
     "data": {
      "text/html": [
       "<div>\n",
       "<style scoped>\n",
       "    .dataframe tbody tr th:only-of-type {\n",
       "        vertical-align: middle;\n",
       "    }\n",
       "\n",
       "    .dataframe tbody tr th {\n",
       "        vertical-align: top;\n",
       "    }\n",
       "\n",
       "    .dataframe thead th {\n",
       "        text-align: right;\n",
       "    }\n",
       "</style>\n",
       "<table border=\"1\" class=\"dataframe\">\n",
       "  <thead>\n",
       "    <tr style=\"text-align: right;\">\n",
       "      <th></th>\n",
       "      <th>Age</th>\n",
       "      <th>Fare</th>\n",
       "      <th>Family</th>\n",
       "      <th>Survived</th>\n",
       "    </tr>\n",
       "  </thead>\n",
       "  <tbody>\n",
       "    <tr>\n",
       "      <th>514</th>\n",
       "      <td>24.0</td>\n",
       "      <td>7.4958</td>\n",
       "      <td>0</td>\n",
       "      <td>0</td>\n",
       "    </tr>\n",
       "    <tr>\n",
       "      <th>228</th>\n",
       "      <td>18.0</td>\n",
       "      <td>13.0000</td>\n",
       "      <td>0</td>\n",
       "      <td>0</td>\n",
       "    </tr>\n",
       "    <tr>\n",
       "      <th>9</th>\n",
       "      <td>14.0</td>\n",
       "      <td>30.0708</td>\n",
       "      <td>1</td>\n",
       "      <td>1</td>\n",
       "    </tr>\n",
       "    <tr>\n",
       "      <th>498</th>\n",
       "      <td>25.0</td>\n",
       "      <td>151.5500</td>\n",
       "      <td>3</td>\n",
       "      <td>0</td>\n",
       "    </tr>\n",
       "    <tr>\n",
       "      <th>639</th>\n",
       "      <td>NaN</td>\n",
       "      <td>16.1000</td>\n",
       "      <td>1</td>\n",
       "      <td>0</td>\n",
       "    </tr>\n",
       "  </tbody>\n",
       "</table>\n",
       "</div>"
      ],
      "text/plain": [
       "      Age      Fare  Family  Survived\n",
       "514  24.0    7.4958       0         0\n",
       "228  18.0   13.0000       0         0\n",
       "9    14.0   30.0708       1         1\n",
       "498  25.0  151.5500       3         0\n",
       "639   NaN   16.1000       1         0"
      ]
     },
     "execution_count": 4,
     "metadata": {},
     "output_type": "execute_result"
    }
   ],
   "source": [
    "df.sample(5)"
   ]
  },
  {
   "cell_type": "code",
   "execution_count": 5,
   "id": "36cc8afe",
   "metadata": {},
   "outputs": [
    {
     "name": "stdout",
     "output_type": "stream",
     "text": [
      "<class 'pandas.core.frame.DataFrame'>\n",
      "RangeIndex: 891 entries, 0 to 890\n",
      "Data columns (total 4 columns):\n",
      " #   Column    Non-Null Count  Dtype  \n",
      "---  ------    --------------  -----  \n",
      " 0   Age       714 non-null    float64\n",
      " 1   Fare      846 non-null    float64\n",
      " 2   Family    891 non-null    int64  \n",
      " 3   Survived  891 non-null    int64  \n",
      "dtypes: float64(2), int64(2)\n",
      "memory usage: 28.0 KB\n"
     ]
    }
   ],
   "source": [
    "df.info()"
   ]
  },
  {
   "cell_type": "code",
   "execution_count": 6,
   "id": "1a0b7255",
   "metadata": {},
   "outputs": [
    {
     "data": {
      "text/plain": [
       "Age         177\n",
       "Fare         45\n",
       "Family        0\n",
       "Survived      0\n",
       "dtype: int64"
      ]
     },
     "execution_count": 6,
     "metadata": {},
     "output_type": "execute_result"
    }
   ],
   "source": [
    "df.isnull().sum()"
   ]
  },
  {
   "cell_type": "markdown",
   "id": "d21c5005",
   "metadata": {},
   "source": [
    "\"Age\" --> float64\n",
    "\n",
    "\"Fare\"--> float64"
   ]
  },
  {
   "cell_type": "code",
   "execution_count": 7,
   "id": "937b42c7",
   "metadata": {},
   "outputs": [
    {
     "data": {
      "text/plain": [
       "129"
      ]
     },
     "execution_count": 7,
     "metadata": {},
     "output_type": "execute_result"
    }
   ],
   "source": [
    "df.duplicated().sum()"
   ]
  },
  {
   "cell_type": "code",
   "execution_count": 8,
   "id": "b57753c5",
   "metadata": {},
   "outputs": [
    {
     "data": {
      "text/plain": [
       "(891, 4)"
      ]
     },
     "execution_count": 8,
     "metadata": {},
     "output_type": "execute_result"
    }
   ],
   "source": [
    "df.shape"
   ]
  },
  {
   "cell_type": "code",
   "execution_count": 11,
   "id": "79b4d665",
   "metadata": {},
   "outputs": [],
   "source": [
    "df.drop_duplicates(inplace=True)"
   ]
  },
  {
   "cell_type": "code",
   "execution_count": 12,
   "id": "7fbeb8c7",
   "metadata": {},
   "outputs": [
    {
     "data": {
      "text/plain": [
       "(762, 4)"
      ]
     },
     "execution_count": 12,
     "metadata": {},
     "output_type": "execute_result"
    }
   ],
   "source": [
    "df.shape"
   ]
  },
  {
   "cell_type": "code",
   "execution_count": 14,
   "id": "1d7ebace",
   "metadata": {},
   "outputs": [
    {
     "data": {
      "text/plain": [
       "Age         12.467192\n",
       "Fare         5.249344\n",
       "Family       0.000000\n",
       "Survived     0.000000\n",
       "dtype: float64"
      ]
     },
     "execution_count": 14,
     "metadata": {},
     "output_type": "execute_result"
    }
   ],
   "source": [
    "df.isnull().mean()*100"
   ]
  },
  {
   "cell_type": "markdown",
   "id": "cc5d31f8",
   "metadata": {},
   "source": [
    "### We can fill \"Fare\" with the mean or median, but \"Age\"  we can't fill with the mean and median because if we will fill it by the mean or median then it change the distribution of the data. "
   ]
  },
  {
   "cell_type": "code",
   "execution_count": 17,
   "id": "f38e4f22",
   "metadata": {},
   "outputs": [],
   "source": [
    "X_train, X_test, y_train, y_test=train_test_split(df.iloc[:,0:3],df.iloc[:,3:4])"
   ]
  },
  {
   "cell_type": "code",
   "execution_count": 18,
   "id": "7ee5853a",
   "metadata": {},
   "outputs": [
    {
     "data": {
      "text/plain": [
       "((571, 3), (191, 3), (571, 1), (191, 1))"
      ]
     },
     "execution_count": 18,
     "metadata": {},
     "output_type": "execute_result"
    }
   ],
   "source": [
    "X_train.shape,X_test.shape, y_train.shape, y_test.shape"
   ]
  },
  {
   "cell_type": "code",
   "execution_count": 20,
   "id": "fdec8c56",
   "metadata": {},
   "outputs": [
    {
     "data": {
      "text/plain": [
       "Age       11.733800\n",
       "Fare       5.429072\n",
       "Family     0.000000\n",
       "dtype: float64"
      ]
     },
     "execution_count": 20,
     "metadata": {},
     "output_type": "execute_result"
    }
   ],
   "source": [
    "X_train.isnull().mean()*100"
   ]
  },
  {
   "cell_type": "code",
   "execution_count": 21,
   "id": "84a4aaec",
   "metadata": {},
   "outputs": [],
   "source": [
    "Age_mean=X_train[\"Age\"].mean()\n",
    "Fare_mean=X_train[\"Fare\"].mean()\n",
    "Age_median=X_train[\"Age\"].median()\n",
    "Fare_median=X_train[\"Fare\"].median()"
   ]
  },
  {
   "cell_type": "code",
   "execution_count": 22,
   "id": "1dc78d98",
   "metadata": {},
   "outputs": [
    {
     "name": "stdout",
     "output_type": "stream",
     "text": [
      "30.351190476190474\n",
      "36.14334111111107\n",
      "29.0\n",
      "18.0\n"
     ]
    }
   ],
   "source": [
    "print(Age_mean)\n",
    "print(Fare_mean)\n",
    "print(Age_median)\n",
    "print(Fare_median)"
   ]
  },
  {
   "cell_type": "code",
   "execution_count": 24,
   "id": "e523f5af",
   "metadata": {},
   "outputs": [],
   "source": [
    "X_train[\"Age_mean\"]=X_train[\"Age\"].fillna(Age_mean)\n",
    "X_train[\"Fare_mean\"]=X_train[\"Fare\"].fillna(Fare_mean)\n",
    "X_train[\"Age_median\"]=X_train[\"Age\"].fillna(Age_median)\n",
    "X_train[\"Fare_median\"]=X_train[\"Fare\"].fillna(Fare_median)\n",
    "\n",
    "X_test[\"Age_mean\"]=X_test[\"Age\"].fillna(Age_mean)\n",
    "X_test[\"Fare_mean\"]=X_test[\"Fare\"].fillna(Fare_mean)\n",
    "X_test[\"Age_median\"]=X_test[\"Age\"].fillna(Age_median)\n",
    "X_test[\"Fare_median\"]=X_test[\"Fare\"].fillna(Fare_median)"
   ]
  },
  {
   "cell_type": "code",
   "execution_count": 25,
   "id": "45ff345c",
   "metadata": {},
   "outputs": [
    {
     "data": {
      "text/html": [
       "<div>\n",
       "<style scoped>\n",
       "    .dataframe tbody tr th:only-of-type {\n",
       "        vertical-align: middle;\n",
       "    }\n",
       "\n",
       "    .dataframe tbody tr th {\n",
       "        vertical-align: top;\n",
       "    }\n",
       "\n",
       "    .dataframe thead th {\n",
       "        text-align: right;\n",
       "    }\n",
       "</style>\n",
       "<table border=\"1\" class=\"dataframe\">\n",
       "  <thead>\n",
       "    <tr style=\"text-align: right;\">\n",
       "      <th></th>\n",
       "      <th>Age</th>\n",
       "      <th>Fare</th>\n",
       "      <th>Family</th>\n",
       "      <th>Age_mean</th>\n",
       "      <th>Fare_mean</th>\n",
       "      <th>Age_median</th>\n",
       "      <th>Fare_median</th>\n",
       "    </tr>\n",
       "  </thead>\n",
       "  <tbody>\n",
       "    <tr>\n",
       "      <th>237</th>\n",
       "      <td>8.0</td>\n",
       "      <td>26.2500</td>\n",
       "      <td>2</td>\n",
       "      <td>8.00000</td>\n",
       "      <td>26.2500</td>\n",
       "      <td>8.0</td>\n",
       "      <td>26.2500</td>\n",
       "    </tr>\n",
       "    <tr>\n",
       "      <th>839</th>\n",
       "      <td>NaN</td>\n",
       "      <td>29.7000</td>\n",
       "      <td>0</td>\n",
       "      <td>30.35119</td>\n",
       "      <td>29.7000</td>\n",
       "      <td>29.0</td>\n",
       "      <td>29.7000</td>\n",
       "    </tr>\n",
       "    <tr>\n",
       "      <th>244</th>\n",
       "      <td>30.0</td>\n",
       "      <td>7.2250</td>\n",
       "      <td>0</td>\n",
       "      <td>30.00000</td>\n",
       "      <td>7.2250</td>\n",
       "      <td>30.0</td>\n",
       "      <td>7.2250</td>\n",
       "    </tr>\n",
       "    <tr>\n",
       "      <th>275</th>\n",
       "      <td>63.0</td>\n",
       "      <td>77.9583</td>\n",
       "      <td>1</td>\n",
       "      <td>63.00000</td>\n",
       "      <td>77.9583</td>\n",
       "      <td>63.0</td>\n",
       "      <td>77.9583</td>\n",
       "    </tr>\n",
       "    <tr>\n",
       "      <th>492</th>\n",
       "      <td>55.0</td>\n",
       "      <td>30.5000</td>\n",
       "      <td>0</td>\n",
       "      <td>55.00000</td>\n",
       "      <td>30.5000</td>\n",
       "      <td>55.0</td>\n",
       "      <td>30.5000</td>\n",
       "    </tr>\n",
       "  </tbody>\n",
       "</table>\n",
       "</div>"
      ],
      "text/plain": [
       "      Age     Fare  Family  Age_mean  Fare_mean  Age_median  Fare_median\n",
       "237   8.0  26.2500       2   8.00000    26.2500         8.0      26.2500\n",
       "839   NaN  29.7000       0  30.35119    29.7000        29.0      29.7000\n",
       "244  30.0   7.2250       0  30.00000     7.2250        30.0       7.2250\n",
       "275  63.0  77.9583       1  63.00000    77.9583        63.0      77.9583\n",
       "492  55.0  30.5000       0  55.00000    30.5000        55.0      30.5000"
      ]
     },
     "execution_count": 25,
     "metadata": {},
     "output_type": "execute_result"
    }
   ],
   "source": [
    "X_train.head()"
   ]
  },
  {
   "cell_type": "code",
   "execution_count": 26,
   "id": "e473033c",
   "metadata": {},
   "outputs": [
    {
     "data": {
      "text/html": [
       "<div>\n",
       "<style scoped>\n",
       "    .dataframe tbody tr th:only-of-type {\n",
       "        vertical-align: middle;\n",
       "    }\n",
       "\n",
       "    .dataframe tbody tr th {\n",
       "        vertical-align: top;\n",
       "    }\n",
       "\n",
       "    .dataframe thead th {\n",
       "        text-align: right;\n",
       "    }\n",
       "</style>\n",
       "<table border=\"1\" class=\"dataframe\">\n",
       "  <thead>\n",
       "    <tr style=\"text-align: right;\">\n",
       "      <th></th>\n",
       "      <th>Age</th>\n",
       "      <th>Fare</th>\n",
       "      <th>Family</th>\n",
       "      <th>Age_mean</th>\n",
       "      <th>Fare_mean</th>\n",
       "      <th>Age_median</th>\n",
       "      <th>Fare_median</th>\n",
       "    </tr>\n",
       "  </thead>\n",
       "  <tbody>\n",
       "    <tr>\n",
       "      <th>count</th>\n",
       "      <td>504.000000</td>\n",
       "      <td>540.000000</td>\n",
       "      <td>571.000000</td>\n",
       "      <td>571.000000</td>\n",
       "      <td>571.000000</td>\n",
       "      <td>571.000000</td>\n",
       "      <td>571.000000</td>\n",
       "    </tr>\n",
       "    <tr>\n",
       "      <th>mean</th>\n",
       "      <td>30.351190</td>\n",
       "      <td>36.143341</td>\n",
       "      <td>0.933450</td>\n",
       "      <td>30.351190</td>\n",
       "      <td>36.143341</td>\n",
       "      <td>30.192644</td>\n",
       "      <td>35.158326</td>\n",
       "    </tr>\n",
       "    <tr>\n",
       "      <th>std</th>\n",
       "      <td>14.979682</td>\n",
       "      <td>53.515591</td>\n",
       "      <td>1.442142</td>\n",
       "      <td>14.071784</td>\n",
       "      <td>52.039999</td>\n",
       "      <td>14.078513</td>\n",
       "      <td>52.202417</td>\n",
       "    </tr>\n",
       "    <tr>\n",
       "      <th>min</th>\n",
       "      <td>0.420000</td>\n",
       "      <td>0.000000</td>\n",
       "      <td>0.000000</td>\n",
       "      <td>0.420000</td>\n",
       "      <td>0.000000</td>\n",
       "      <td>0.420000</td>\n",
       "      <td>0.000000</td>\n",
       "    </tr>\n",
       "    <tr>\n",
       "      <th>25%</th>\n",
       "      <td>20.875000</td>\n",
       "      <td>8.050000</td>\n",
       "      <td>0.000000</td>\n",
       "      <td>22.000000</td>\n",
       "      <td>8.125000</td>\n",
       "      <td>22.000000</td>\n",
       "      <td>8.125000</td>\n",
       "    </tr>\n",
       "    <tr>\n",
       "      <th>50%</th>\n",
       "      <td>29.000000</td>\n",
       "      <td>18.000000</td>\n",
       "      <td>0.000000</td>\n",
       "      <td>30.351190</td>\n",
       "      <td>20.525000</td>\n",
       "      <td>29.000000</td>\n",
       "      <td>18.000000</td>\n",
       "    </tr>\n",
       "    <tr>\n",
       "      <th>75%</th>\n",
       "      <td>39.000000</td>\n",
       "      <td>36.813550</td>\n",
       "      <td>1.000000</td>\n",
       "      <td>37.000000</td>\n",
       "      <td>36.143341</td>\n",
       "      <td>37.000000</td>\n",
       "      <td>33.760400</td>\n",
       "    </tr>\n",
       "    <tr>\n",
       "      <th>max</th>\n",
       "      <td>80.000000</td>\n",
       "      <td>512.329200</td>\n",
       "      <td>7.000000</td>\n",
       "      <td>80.000000</td>\n",
       "      <td>512.329200</td>\n",
       "      <td>80.000000</td>\n",
       "      <td>512.329200</td>\n",
       "    </tr>\n",
       "  </tbody>\n",
       "</table>\n",
       "</div>"
      ],
      "text/plain": [
       "              Age        Fare      Family    Age_mean   Fare_mean  Age_median  \\\n",
       "count  504.000000  540.000000  571.000000  571.000000  571.000000  571.000000   \n",
       "mean    30.351190   36.143341    0.933450   30.351190   36.143341   30.192644   \n",
       "std     14.979682   53.515591    1.442142   14.071784   52.039999   14.078513   \n",
       "min      0.420000    0.000000    0.000000    0.420000    0.000000    0.420000   \n",
       "25%     20.875000    8.050000    0.000000   22.000000    8.125000   22.000000   \n",
       "50%     29.000000   18.000000    0.000000   30.351190   20.525000   29.000000   \n",
       "75%     39.000000   36.813550    1.000000   37.000000   36.143341   37.000000   \n",
       "max     80.000000  512.329200    7.000000   80.000000  512.329200   80.000000   \n",
       "\n",
       "       Fare_median  \n",
       "count   571.000000  \n",
       "mean     35.158326  \n",
       "std      52.202417  \n",
       "min       0.000000  \n",
       "25%       8.125000  \n",
       "50%      18.000000  \n",
       "75%      33.760400  \n",
       "max     512.329200  "
      ]
     },
     "execution_count": 26,
     "metadata": {},
     "output_type": "execute_result"
    }
   ],
   "source": [
    "X_train.describe()"
   ]
  },
  {
   "cell_type": "code",
   "execution_count": 30,
   "id": "23d4cb83",
   "metadata": {},
   "outputs": [
    {
     "data": {
      "image/png": "[encoded data removed]",
      "text/plain": [
       "<Figure size 432x288 with 1 Axes>"
      ]
     },
     "metadata": {
      "needs_background": "light"
     },
     "output_type": "display_data"
    },
    {
     "data": {
      "image/png": "[encoded data removed]",
      "text/plain": [
       "<Figure size 432x288 with 1 Axes>"
      ]
     },
     "metadata": {
      "needs_background": "light"
     },
     "output_type": "display_data"
    }
   ],
   "source": [
    "sns.kdeplot(X_train[\"Age\"],label=\"Age\")\n",
    "sns.kdeplot(X_train[\"Age_mean\"], label=\"Age_mean\")\n",
    "plt.legend()\n",
    "plt.show()\n",
    "sns.kdeplot(X_train[\"Age\"],label=\"Age\")\n",
    "sns.kdeplot(X_train[\"Age_median\"], label=\"Age_median\")\n",
    "plt.legend()\n",
    "plt.show()"
   ]
  },
  {
   "cell_type": "code",
   "execution_count": 31,
   "id": "964d2c89",
   "metadata": {},
   "outputs": [
    {
     "data": {
      "image/png": "[encoded data removed]",
      "text/plain": [
       "<Figure size 432x288 with 1 Axes>"
      ]
     },
     "metadata": {
      "needs_background": "light"
     },
     "output_type": "display_data"
    },
    {
     "data": {
      "image/png": "[encoded data removed]",
      "text/plain": [
       "<Figure size 432x288 with 1 Axes>"
      ]
     },
     "metadata": {
      "needs_background": "light"
     },
     "output_type": "display_data"
    }
   ],
   "source": [
    "sns.kdeplot(X_train[\"Fare\"],label=\"Fare\")\n",
    "sns.kdeplot(X_train[\"Fare_mean\"], label=\"Fare_mean\")\n",
    "plt.legend()\n",
    "plt.show()\n",
    "sns.kdeplot(X_train[\"Fare\"],label=\"Fare\")\n",
    "sns.kdeplot(X_train[\"Fare_median\"], label=\"Fare_median\")\n",
    "plt.legend()\n",
    "plt.show()"
   ]
  },
  {
   "cell_type": "code",
   "execution_count": 32,
   "id": "d80a41c4",
   "metadata": {},
   "outputs": [
    {
     "data": {
      "text/html": [
       "<div>\n",
       "<style scoped>\n",
       "    .dataframe tbody tr th:only-of-type {\n",
       "        vertical-align: middle;\n",
       "    }\n",
       "\n",
       "    .dataframe tbody tr th {\n",
       "        vertical-align: top;\n",
       "    }\n",
       "\n",
       "    .dataframe thead th {\n",
       "        text-align: right;\n",
       "    }\n",
       "</style>\n",
       "<table border=\"1\" class=\"dataframe\">\n",
       "  <thead>\n",
       "    <tr style=\"text-align: right;\">\n",
       "      <th></th>\n",
       "      <th>Age</th>\n",
       "      <th>Fare</th>\n",
       "      <th>Family</th>\n",
       "      <th>Age_mean</th>\n",
       "      <th>Fare_mean</th>\n",
       "      <th>Age_median</th>\n",
       "      <th>Fare_median</th>\n",
       "    </tr>\n",
       "  </thead>\n",
       "  <tbody>\n",
       "    <tr>\n",
       "      <th>Age</th>\n",
       "      <td>1.000000</td>\n",
       "      <td>0.093247</td>\n",
       "      <td>-0.309927</td>\n",
       "      <td>1.000000</td>\n",
       "      <td>0.091072</td>\n",
       "      <td>1.000000</td>\n",
       "      <td>0.090298</td>\n",
       "    </tr>\n",
       "    <tr>\n",
       "      <th>Fare</th>\n",
       "      <td>0.093247</td>\n",
       "      <td>1.000000</td>\n",
       "      <td>0.186125</td>\n",
       "      <td>0.089191</td>\n",
       "      <td>1.000000</td>\n",
       "      <td>0.089388</td>\n",
       "      <td>1.000000</td>\n",
       "    </tr>\n",
       "    <tr>\n",
       "      <th>Family</th>\n",
       "      <td>-0.309927</td>\n",
       "      <td>0.186125</td>\n",
       "      <td>1.000000</td>\n",
       "      <td>-0.300978</td>\n",
       "      <td>0.183106</td>\n",
       "      <td>-0.296918</td>\n",
       "      <td>0.181664</td>\n",
       "    </tr>\n",
       "    <tr>\n",
       "      <th>Age_mean</th>\n",
       "      <td>1.000000</td>\n",
       "      <td>0.089191</td>\n",
       "      <td>-0.300978</td>\n",
       "      <td>1.000000</td>\n",
       "      <td>0.087115</td>\n",
       "      <td>0.999522</td>\n",
       "      <td>0.086366</td>\n",
       "    </tr>\n",
       "    <tr>\n",
       "      <th>Fare_mean</th>\n",
       "      <td>0.091072</td>\n",
       "      <td>1.000000</td>\n",
       "      <td>0.183106</td>\n",
       "      <td>0.087115</td>\n",
       "      <td>1.000000</td>\n",
       "      <td>0.087306</td>\n",
       "      <td>0.996889</td>\n",
       "    </tr>\n",
       "    <tr>\n",
       "      <th>Age_median</th>\n",
       "      <td>1.000000</td>\n",
       "      <td>0.089388</td>\n",
       "      <td>-0.296918</td>\n",
       "      <td>0.999522</td>\n",
       "      <td>0.087306</td>\n",
       "      <td>1.000000</td>\n",
       "      <td>0.086578</td>\n",
       "    </tr>\n",
       "    <tr>\n",
       "      <th>Fare_median</th>\n",
       "      <td>0.090298</td>\n",
       "      <td>1.000000</td>\n",
       "      <td>0.181664</td>\n",
       "      <td>0.086366</td>\n",
       "      <td>0.996889</td>\n",
       "      <td>0.086578</td>\n",
       "      <td>1.000000</td>\n",
       "    </tr>\n",
       "  </tbody>\n",
       "</table>\n",
       "</div>"
      ],
      "text/plain": [
       "                  Age      Fare    Family  Age_mean  Fare_mean  Age_median  \\\n",
       "Age          1.000000  0.093247 -0.309927  1.000000   0.091072    1.000000   \n",
       "Fare         0.093247  1.000000  0.186125  0.089191   1.000000    0.089388   \n",
       "Family      -0.309927  0.186125  1.000000 -0.300978   0.183106   -0.296918   \n",
       "Age_mean     1.000000  0.089191 -0.300978  1.000000   0.087115    0.999522   \n",
       "Fare_mean    0.091072  1.000000  0.183106  0.087115   1.000000    0.087306   \n",
       "Age_median   1.000000  0.089388 -0.296918  0.999522   0.087306    1.000000   \n",
       "Fare_median  0.090298  1.000000  0.181664  0.086366   0.996889    0.086578   \n",
       "\n",
       "             Fare_median  \n",
       "Age             0.090298  \n",
       "Fare            1.000000  \n",
       "Family          0.181664  \n",
       "Age_mean        0.086366  \n",
       "Fare_mean       0.996889  \n",
       "Age_median      0.086578  \n",
       "Fare_median     1.000000  "
      ]
     },
     "execution_count": 32,
     "metadata": {},
     "output_type": "execute_result"
    }
   ],
   "source": [
    "X_train.corr()"
   ]
  },
  {
   "cell_type": "code",
   "execution_count": 33,
   "id": "1434fed4",
   "metadata": {},
   "outputs": [
    {
     "data": {
      "text/html": [
       "<div>\n",
       "<style scoped>\n",
       "    .dataframe tbody tr th:only-of-type {\n",
       "        vertical-align: middle;\n",
       "    }\n",
       "\n",
       "    .dataframe tbody tr th {\n",
       "        vertical-align: top;\n",
       "    }\n",
       "\n",
       "    .dataframe thead th {\n",
       "        text-align: right;\n",
       "    }\n",
       "</style>\n",
       "<table border=\"1\" class=\"dataframe\">\n",
       "  <thead>\n",
       "    <tr style=\"text-align: right;\">\n",
       "      <th></th>\n",
       "      <th>Age</th>\n",
       "      <th>Fare</th>\n",
       "      <th>Family</th>\n",
       "      <th>Age_mean</th>\n",
       "      <th>Fare_mean</th>\n",
       "      <th>Age_median</th>\n",
       "      <th>Fare_median</th>\n",
       "    </tr>\n",
       "  </thead>\n",
       "  <tbody>\n",
       "    <tr>\n",
       "      <th>Age</th>\n",
       "      <td>224.390884</td>\n",
       "      <td>76.395337</td>\n",
       "      <td>-6.921471</td>\n",
       "      <td>224.390884</td>\n",
       "      <td>72.291297</td>\n",
       "      <td>224.390884</td>\n",
       "      <td>71.893880</td>\n",
       "    </tr>\n",
       "    <tr>\n",
       "      <th>Fare</th>\n",
       "      <td>76.395337</td>\n",
       "      <td>2863.918429</td>\n",
       "      <td>14.532270</td>\n",
       "      <td>67.462936</td>\n",
       "      <td>2863.918429</td>\n",
       "      <td>67.642858</td>\n",
       "      <td>2863.918429</td>\n",
       "    </tr>\n",
       "    <tr>\n",
       "      <th>Family</th>\n",
       "      <td>-6.921471</td>\n",
       "      <td>14.532270</td>\n",
       "      <td>2.079774</td>\n",
       "      <td>-6.107895</td>\n",
       "      <td>13.741918</td>\n",
       "      <td>-6.028385</td>\n",
       "      <td>13.676250</td>\n",
       "    </tr>\n",
       "    <tr>\n",
       "      <th>Age_mean</th>\n",
       "      <td>224.390884</td>\n",
       "      <td>67.462936</td>\n",
       "      <td>-6.107895</td>\n",
       "      <td>198.015114</td>\n",
       "      <td>63.793899</td>\n",
       "      <td>198.015114</td>\n",
       "      <td>63.443196</td>\n",
       "    </tr>\n",
       "    <tr>\n",
       "      <th>Fare_mean</th>\n",
       "      <td>72.291297</td>\n",
       "      <td>2863.918429</td>\n",
       "      <td>13.741918</td>\n",
       "      <td>63.793899</td>\n",
       "      <td>2708.161462</td>\n",
       "      <td>63.964036</td>\n",
       "      <td>2708.161462</td>\n",
       "    </tr>\n",
       "    <tr>\n",
       "      <th>Age_median</th>\n",
       "      <td>224.390884</td>\n",
       "      <td>67.642858</td>\n",
       "      <td>-6.028385</td>\n",
       "      <td>198.015114</td>\n",
       "      <td>63.964036</td>\n",
       "      <td>198.204535</td>\n",
       "      <td>63.628925</td>\n",
       "    </tr>\n",
       "    <tr>\n",
       "      <th>Fare_median</th>\n",
       "      <td>71.893880</td>\n",
       "      <td>2863.918429</td>\n",
       "      <td>13.676250</td>\n",
       "      <td>63.443196</td>\n",
       "      <td>2708.161462</td>\n",
       "      <td>63.628925</td>\n",
       "      <td>2725.092322</td>\n",
       "    </tr>\n",
       "  </tbody>\n",
       "</table>\n",
       "</div>"
      ],
      "text/plain": [
       "                    Age         Fare     Family    Age_mean    Fare_mean  \\\n",
       "Age          224.390884    76.395337  -6.921471  224.390884    72.291297   \n",
       "Fare          76.395337  2863.918429  14.532270   67.462936  2863.918429   \n",
       "Family        -6.921471    14.532270   2.079774   -6.107895    13.741918   \n",
       "Age_mean     224.390884    67.462936  -6.107895  198.015114    63.793899   \n",
       "Fare_mean     72.291297  2863.918429  13.741918   63.793899  2708.161462   \n",
       "Age_median   224.390884    67.642858  -6.028385  198.015114    63.964036   \n",
       "Fare_median   71.893880  2863.918429  13.676250   63.443196  2708.161462   \n",
       "\n",
       "             Age_median  Fare_median  \n",
       "Age          224.390884    71.893880  \n",
       "Fare          67.642858  2863.918429  \n",
       "Family        -6.028385    13.676250  \n",
       "Age_mean     198.015114    63.443196  \n",
       "Fare_mean     63.964036  2708.161462  \n",
       "Age_median   198.204535    63.628925  \n",
       "Fare_median   63.628925  2725.092322  "
      ]
     },
     "execution_count": 33,
     "metadata": {},
     "output_type": "execute_result"
    }
   ],
   "source": [
    "X_train.cov()"
   ]
  },
  {
   "cell_type": "markdown",
   "id": "4fd41fdb",
   "metadata": {},
   "source": [
    "## Outlier detection "
   ]
  },
  {
   "cell_type": "markdown",
   "id": "ecae3acd",
   "metadata": {},
   "source": [
    "#### As we can see in the \"Age\" and \"Age_mean\" box plot number of the outlier become more."
   ]
  },
  {
   "cell_type": "code",
   "execution_count": 45,
   "id": "ba0128e8",
   "metadata": {},
   "outputs": [
    {
     "name": "stderr",
     "output_type": "stream",
     "text": [
      "/home/ajit/anaconda3/lib/python3.9/site-packages/seaborn/_decorators.py:36: FutureWarning: Pass the following variable as a keyword arg: x. From version 0.12, the only valid positional argument will be `data`, and passing other arguments without an explicit keyword will result in an error or misinterpretation.\n",
      "  warnings.warn(\n"
     ]
    },
    {
     "data": {
      "image/png": "[encoded data removed]",
      "text/plain": [
       "<Figure size 432x288 with 1 Axes>"
      ]
     },
     "metadata": {
      "needs_background": "light"
     },
     "output_type": "display_data"
    },
    {
     "name": "stderr",
     "output_type": "stream",
     "text": [
      "/home/ajit/anaconda3/lib/python3.9/site-packages/seaborn/_decorators.py:36: FutureWarning: Pass the following variable as a keyword arg: x. From version 0.12, the only valid positional argument will be `data`, and passing other arguments without an explicit keyword will result in an error or misinterpretation.\n",
      "  warnings.warn(\n"
     ]
    },
    {
     "data": {
      "image/png": "[encoded data removed]",
      "text/plain": [
       "<Figure size 432x288 with 1 Axes>"
      ]
     },
     "metadata": {
      "needs_background": "light"
     },
     "output_type": "display_data"
    },
    {
     "name": "stderr",
     "output_type": "stream",
     "text": [
      "/home/ajit/anaconda3/lib/python3.9/site-packages/seaborn/_decorators.py:36: FutureWarning: Pass the following variable as a keyword arg: x. From version 0.12, the only valid positional argument will be `data`, and passing other arguments without an explicit keyword will result in an error or misinterpretation.\n",
      "  warnings.warn(\n"
     ]
    },
    {
     "data": {
      "image/png": "[encoded data removed]",
      "text/plain": [
       "<Figure size 432x288 with 1 Axes>"
      ]
     },
     "metadata": {
      "needs_background": "light"
     },
     "output_type": "display_data"
    },
    {
     "name": "stderr",
     "output_type": "stream",
     "text": [
      "/home/ajit/anaconda3/lib/python3.9/site-packages/seaborn/_decorators.py:36: FutureWarning: Pass the following variable as a keyword arg: x. From version 0.12, the only valid positional argument will be `data`, and passing other arguments without an explicit keyword will result in an error or misinterpretation.\n",
      "  warnings.warn(\n"
     ]
    },
    {
     "data": {
      "image/png": "[encoded data removed]",
      "text/plain": [
       "<Figure size 432x288 with 1 Axes>"
      ]
     },
     "metadata": {
      "needs_background": "light"
     },
     "output_type": "display_data"
    }
   ],
   "source": [
    "sns.boxplot(X_train[\"Age\"])\n",
    "plt.show()\n",
    "sns.boxplot(X_train[\"Age_mean\"])\n",
    "plt.show()\n",
    "sns.boxplot(X_train[\"Fare\"])\n",
    "plt.show()\n",
    "sns.boxplot(X_train[\"Fare_mean\"])\n",
    "plt.show()\n"
   ]
  },
  {
   "cell_type": "markdown",
   "id": "e4718542",
   "metadata": {},
   "source": [
    "# Imputing using sklearn"
   ]
  },
  {
   "cell_type": "code",
   "execution_count": 69,
   "id": "3dd974df",
   "metadata": {},
   "outputs": [],
   "source": [
    "X_train, X_test, y_train, y_test=train_test_split(df.iloc[:,0:3],df.iloc[:,3:4])"
   ]
  },
  {
   "cell_type": "code",
   "execution_count": 70,
   "id": "bf280d6c",
   "metadata": {},
   "outputs": [
    {
     "data": {
      "text/plain": [
       "((571, 3), (191, 3), (571, 1), (191, 1))"
      ]
     },
     "execution_count": 70,
     "metadata": {},
     "output_type": "execute_result"
    }
   ],
   "source": [
    "X_train.shape,X_test.shape, y_train.shape, y_test.shape"
   ]
  },
  {
   "cell_type": "code",
   "execution_count": 71,
   "id": "50b5801d",
   "metadata": {},
   "outputs": [
    {
     "data": {
      "text/plain": [
       "Age       67\n",
       "Fare      27\n",
       "Family     0\n",
       "dtype: int64"
      ]
     },
     "execution_count": 71,
     "metadata": {},
     "output_type": "execute_result"
    }
   ],
   "source": [
    "X_train.isnull().sum()"
   ]
  },
  {
   "cell_type": "code",
   "execution_count": 72,
   "id": "7973772c",
   "metadata": {},
   "outputs": [
    {
     "data": {
      "text/plain": [
       "Age       28\n",
       "Fare      13\n",
       "Family     0\n",
       "dtype: int64"
      ]
     },
     "execution_count": 72,
     "metadata": {},
     "output_type": "execute_result"
    }
   ],
   "source": [
    "X_test.isnull().sum()"
   ]
  },
  {
   "cell_type": "code",
   "execution_count": 73,
   "id": "761acb53",
   "metadata": {},
   "outputs": [
    {
     "data": {
      "text/plain": [
       "Index(['Age', 'Fare', 'Family'], dtype='object')"
      ]
     },
     "execution_count": 73,
     "metadata": {},
     "output_type": "execute_result"
    }
   ],
   "source": [
    "X_train.columns"
   ]
  },
  {
   "cell_type": "code",
   "execution_count": 74,
   "id": "f5081b2c",
   "metadata": {},
   "outputs": [],
   "source": [
    "trf1=ColumnTransformer(transformers=[\n",
    "    ('age', SimpleImputer(strategy=\"mean\") ,[0]),\n",
    "    ('Fare', SimpleImputer(strategy=\"mean\") ,[1])\n",
    "    \n",
    "],\n",
    "remainder=\"passthrough\")"
   ]
  },
  {
   "cell_type": "code",
   "execution_count": 75,
   "id": "9e858f52",
   "metadata": {},
   "outputs": [
    {
     "data": {
      "text/plain": [
       "ColumnTransformer(remainder='passthrough',\n",
       "                  transformers=[('age', SimpleImputer(), [0]),\n",
       "                                ('Fare', SimpleImputer(), [1])])"
      ]
     },
     "execution_count": 75,
     "metadata": {},
     "output_type": "execute_result"
    }
   ],
   "source": [
    "trf1.fit(X_train)"
   ]
  },
  {
   "cell_type": "code",
   "execution_count": 76,
   "id": "1f536335",
   "metadata": {},
   "outputs": [],
   "source": [
    "X_train_transform=trf1.transform(X_train)\n",
    "X_test_transform=trf1.transform(X_test)"
   ]
  },
  {
   "cell_type": "code",
   "execution_count": 77,
   "id": "b29f1beb",
   "metadata": {},
   "outputs": [],
   "source": [
    "X_train1=pd.DataFrame(X_train_transform, columns=X_train.columns)\n",
    "X_test1=pd.DataFrame(X_test_transform, columns=X_test.columns)"
   ]
  },
  {
   "cell_type": "code",
   "execution_count": 78,
   "id": "99f51ad9",
   "metadata": {},
   "outputs": [
    {
     "data": {
      "text/plain": [
       "Age       67\n",
       "Fare      27\n",
       "Family     0\n",
       "dtype: int64"
      ]
     },
     "execution_count": 78,
     "metadata": {},
     "output_type": "execute_result"
    }
   ],
   "source": [
    "X_train.isnull().sum()"
   ]
  },
  {
   "cell_type": "code",
   "execution_count": 79,
   "id": "a0cf7b16",
   "metadata": {},
   "outputs": [
    {
     "data": {
      "image/png": "[encoded data removed]",
      "text/plain": [
       "<Figure size 432x288 with 1 Axes>"
      ]
     },
     "metadata": {
      "needs_background": "light"
     },
     "output_type": "display_data"
    }
   ],
   "source": [
    "sns.kdeplot(X_train[\"Age\"],label=\"Age\")\n",
    "sns.kdeplot(X_train1[\"Age\"], label=\"Age_mean\")\n",
    "plt.legend()\n",
    "plt.show()\n"
   ]
  },
  {
   "cell_type": "code",
   "execution_count": 80,
   "id": "b64c096a",
   "metadata": {},
   "outputs": [
    {
     "data": {
      "image/png": "[encoded data removed]",
      "text/plain": [
       "<Figure size 432x288 with 1 Axes>"
      ]
     },
     "metadata": {
      "needs_background": "light"
     },
     "output_type": "display_data"
    }
   ],
   "source": [
    "sns.kdeplot(X_train[\"Fare\"],label=\"Fare\")\n",
    "sns.kdeplot(X_train1[\"Fare\"], label=\"Fare_mean\")\n",
    "plt.legend()\n",
    "plt.show()\n"
   ]
  },
  {
   "cell_type": "code",
   "execution_count": 81,
   "id": "19eedabf",
   "metadata": {},
   "outputs": [
    {
     "name": "stderr",
     "output_type": "stream",
     "text": [
      "/home/ajit/anaconda3/lib/python3.9/site-packages/seaborn/_decorators.py:36: FutureWarning: Pass the following variable as a keyword arg: x. From version 0.12, the only valid positional argument will be `data`, and passing other arguments without an explicit keyword will result in an error or misinterpretation.\n",
      "  warnings.warn(\n"
     ]
    },
    {
     "data": {
      "image/png": "[encoded data removed]",
      "text/plain": [
       "<Figure size 432x288 with 1 Axes>"
      ]
     },
     "metadata": {
      "needs_background": "light"
     },
     "output_type": "display_data"
    },
    {
     "name": "stderr",
     "output_type": "stream",
     "text": [
      "/home/ajit/anaconda3/lib/python3.9/site-packages/seaborn/_decorators.py:36: FutureWarning: Pass the following variable as a keyword arg: x. From version 0.12, the only valid positional argument will be `data`, and passing other arguments without an explicit keyword will result in an error or misinterpretation.\n",
      "  warnings.warn(\n"
     ]
    },
    {
     "data": {
      "image/png": "[encoded data removed]",
      "text/plain": [
       "<Figure size 432x288 with 1 Axes>"
      ]
     },
     "metadata": {
      "needs_background": "light"
     },
     "output_type": "display_data"
    },
    {
     "name": "stderr",
     "output_type": "stream",
     "text": [
      "/home/ajit/anaconda3/lib/python3.9/site-packages/seaborn/_decorators.py:36: FutureWarning: Pass the following variable as a keyword arg: x. From version 0.12, the only valid positional argument will be `data`, and passing other arguments without an explicit keyword will result in an error or misinterpretation.\n",
      "  warnings.warn(\n"
     ]
    },
    {
     "data": {
      "image/png": "[encoded data removed]",
      "text/plain": [
       "<Figure size 432x288 with 1 Axes>"
      ]
     },
     "metadata": {
      "needs_background": "light"
     },
     "output_type": "display_data"
    },
    {
     "name": "stderr",
     "output_type": "stream",
     "text": [
      "/home/ajit/anaconda3/lib/python3.9/site-packages/seaborn/_decorators.py:36: FutureWarning: Pass the following variable as a keyword arg: x. From version 0.12, the only valid positional argument will be `data`, and passing other arguments without an explicit keyword will result in an error or misinterpretation.\n",
      "  warnings.warn(\n"
     ]
    },
    {
     "data": {
      "image/png": "[encoded data removed]",
      "text/plain": [
       "<Figure size 432x288 with 1 Axes>"
      ]
     },
     "metadata": {
      "needs_background": "light"
     },
     "output_type": "display_data"
    }
   ],
   "source": [
    "sns.boxplot(X_train[\"Age\"])\n",
    "plt.show()\n",
    "sns.boxplot(X_train1[\"Age\"])\n",
    "plt.show()\n",
    "sns.boxplot(X_train[\"Fare\"])\n",
    "plt.show()\n",
    "sns.boxplot(X_train1[\"Fare\"])\n",
    "plt.show()"
   ]
  },
  {
   "cell_type": "code",
   "execution_count": null,
   "id": "d7825693",
   "metadata": {},
   "outputs": [],
   "source": []
  }
 ],
 "metadata": {
  "kernelspec": {
   "display_name": "Python 3 (ipykernel)",
   "language": "python",
   "name": "python3"
  },
  "language_info": {
   "codemirror_mode": {
    "name": "ipython",
    "version": 3
   },
   "file_extension": ".py",
   "mimetype": "text/x-python",
   "name": "python",
   "nbconvert_exporter": "python",
   "pygments_lexer": "ipython3",
   "version": "3.9.12"
  }
 },
 "nbformat": 4,
 "nbformat_minor": 5
}
