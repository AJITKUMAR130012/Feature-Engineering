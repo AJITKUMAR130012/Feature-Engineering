{
 "cells": [
  {
   "cell_type": "code",
   "execution_count": 1,
   "id": "caaed3fb",
   "metadata": {},
   "outputs": [],
   "source": [
    "import numpy as np\n",
    "import pandas as pd"
   ]
  },
  {
   "cell_type": "code",
   "execution_count": 7,
   "id": "25959e2c",
   "metadata": {},
   "outputs": [],
   "source": [
    "df_date=pd.read_csv(\"./datasets/orders.csv\")\n",
    "df_time=pd.read_csv(\"./datasets/time.csv\")"
   ]
  },
  {
   "cell_type": "code",
   "execution_count": 9,
   "id": "cfcf43e1",
   "metadata": {},
   "outputs": [
    {
     "data": {
      "text/html": [
       "<div>\n",
       "<style scoped>\n",
       "    .dataframe tbody tr th:only-of-type {\n",
       "        vertical-align: middle;\n",
       "    }\n",
       "\n",
       "    .dataframe tbody tr th {\n",
       "        vertical-align: top;\n",
       "    }\n",
       "\n",
       "    .dataframe thead th {\n",
       "        text-align: right;\n",
       "    }\n",
       "</style>\n",
       "<table border=\"1\" class=\"dataframe\">\n",
       "  <thead>\n",
       "    <tr style=\"text-align: right;\">\n",
       "      <th></th>\n",
       "      <th>date</th>\n",
       "      <th>product_id</th>\n",
       "      <th>city_id</th>\n",
       "      <th>orders</th>\n",
       "    </tr>\n",
       "  </thead>\n",
       "  <tbody>\n",
       "    <tr>\n",
       "      <th>0</th>\n",
       "      <td>2019-12-10</td>\n",
       "      <td>5628</td>\n",
       "      <td>25</td>\n",
       "      <td>3</td>\n",
       "    </tr>\n",
       "    <tr>\n",
       "      <th>1</th>\n",
       "      <td>2018-08-15</td>\n",
       "      <td>3646</td>\n",
       "      <td>14</td>\n",
       "      <td>157</td>\n",
       "    </tr>\n",
       "    <tr>\n",
       "      <th>2</th>\n",
       "      <td>2018-10-23</td>\n",
       "      <td>1859</td>\n",
       "      <td>25</td>\n",
       "      <td>1</td>\n",
       "    </tr>\n",
       "    <tr>\n",
       "      <th>3</th>\n",
       "      <td>2019-08-17</td>\n",
       "      <td>7292</td>\n",
       "      <td>25</td>\n",
       "      <td>1</td>\n",
       "    </tr>\n",
       "    <tr>\n",
       "      <th>4</th>\n",
       "      <td>2019-01-06</td>\n",
       "      <td>4344</td>\n",
       "      <td>25</td>\n",
       "      <td>3</td>\n",
       "    </tr>\n",
       "  </tbody>\n",
       "</table>\n",
       "</div>"
      ],
      "text/plain": [
       "         date  product_id  city_id  orders\n",
       "0  2019-12-10        5628       25       3\n",
       "1  2018-08-15        3646       14     157\n",
       "2  2018-10-23        1859       25       1\n",
       "3  2019-08-17        7292       25       1\n",
       "4  2019-01-06        4344       25       3"
      ]
     },
     "execution_count": 9,
     "metadata": {},
     "output_type": "execute_result"
    }
   ],
   "source": [
    "df_date.head(5)"
   ]
  },
  {
   "cell_type": "markdown",
   "id": "606107be",
   "metadata": {},
   "source": [
    "#### Date type column have different type of information is present. \n",
    "#### (i) Day\n",
    "#### (ii) Month\n",
    "#### (iii) Year\n",
    "#### (iv) Day of Week\n",
    "#### (v) Quarter of the year\n",
    "#### (vi) Semester\n",
    "#### (vii) Weekend or not"
   ]
  },
  {
   "cell_type": "markdown",
   "id": "68396513",
   "metadata": {},
   "source": [
    "# Working with Date\n",
    "#### Converting the string to date_type of dataframe column:  df['date'] = pd.to_datetime(df['date'])\n",
    "#### Extracting the Year                     :  df[\"date_year\"] =  df[\"date\"].dt.year\n",
    "#### Extracting the month                  : df[\"date_month\"] = df[\"date\"].dt.month\n",
    "#### Extracting the day                       : df[\"date_day\"] = df[\"date\"].dt.day\n",
    "#### Extracting month name              : df[\"date_month\"] = df[\"date\"].dt.month_name()\n",
    "#### Extracting day of week               : df[\"date_day_of_week\"] = df[\"date\"].dt.dayofweek\n",
    "#### Extracting the name of the day  : df[\"date_day_name\"] = df[\"date\"].dt.day_name()\n",
    "#### Extracting the week of the year  : df[\"date_week_of_the_year\"] = df[\"date\"].dt.week\n",
    "# Working with Time\n",
    "#### Extracting the hour                       : df[\"hour\"] = df[\"date\"].dt.hour\n",
    "#### Extracting the minute                   : df[\"hour\"] = df[\"date\"].dt.minute\n",
    "#### Extracting the hour                       : df[\"hour\"] = df[\"date\"].dt.second\n"
   ]
  },
  {
   "cell_type": "markdown",
   "id": "00821632",
   "metadata": {},
   "source": [
    "# Working with date"
   ]
  },
  {
   "cell_type": "code",
   "execution_count": 11,
   "id": "b2a0e556",
   "metadata": {},
   "outputs": [
    {
     "name": "stdout",
     "output_type": "stream",
     "text": [
      "<class 'pandas.core.frame.DataFrame'>\n",
      "RangeIndex: 1000 entries, 0 to 999\n",
      "Data columns (total 4 columns):\n",
      " #   Column      Non-Null Count  Dtype \n",
      "---  ------      --------------  ----- \n",
      " 0   date        1000 non-null   object\n",
      " 1   product_id  1000 non-null   int64 \n",
      " 2   city_id     1000 non-null   int64 \n",
      " 3   orders      1000 non-null   int64 \n",
      "dtypes: int64(3), object(1)\n",
      "memory usage: 31.4+ KB\n"
     ]
    }
   ],
   "source": [
    "df_date.info()"
   ]
  },
  {
   "cell_type": "code",
   "execution_count": 12,
   "id": "704ae698",
   "metadata": {},
   "outputs": [],
   "source": [
    "df_date[\"date\"]=pd.to_datetime(df_date[\"date\"])"
   ]
  },
  {
   "cell_type": "code",
   "execution_count": 13,
   "id": "e8c16363",
   "metadata": {},
   "outputs": [
    {
     "name": "stdout",
     "output_type": "stream",
     "text": [
      "<class 'pandas.core.frame.DataFrame'>\n",
      "RangeIndex: 1000 entries, 0 to 999\n",
      "Data columns (total 4 columns):\n",
      " #   Column      Non-Null Count  Dtype         \n",
      "---  ------      --------------  -----         \n",
      " 0   date        1000 non-null   datetime64[ns]\n",
      " 1   product_id  1000 non-null   int64         \n",
      " 2   city_id     1000 non-null   int64         \n",
      " 3   orders      1000 non-null   int64         \n",
      "dtypes: datetime64[ns](1), int64(3)\n",
      "memory usage: 31.4 KB\n"
     ]
    }
   ],
   "source": [
    "df_date.info()"
   ]
  },
  {
   "cell_type": "code",
   "execution_count": 35,
   "id": "ec7a86d5",
   "metadata": {},
   "outputs": [
    {
     "name": "stderr",
     "output_type": "stream",
     "text": [
      "/tmp/ipykernel_10217/3790224294.py:7: FutureWarning: Series.dt.weekofyear and Series.dt.week have been deprecated. Please use Series.dt.isocalendar().week instead.\n",
      "  df_date[\"week_of_year\"]=df_date[\"date\"].dt.week\n"
     ]
    }
   ],
   "source": [
    "df_date[\"year\"]=df_date[\"date\"].dt.year\n",
    "df_date[\"month\"]=df_date[\"date\"].dt.month\n",
    "df_date[\"day\"]=df_date[\"date\"].dt.day\n",
    "df_date[\"month_name\"]=df_date[\"date\"].dt.month_name()\n",
    "df_date[\"dayofweek\"]=df_date[\"date\"].dt.dayofweek\n",
    "df_date[\"day_name\"]=df_date[\"date\"].dt.day_name()\n",
    "df_date[\"week_of_year\"]=df_date[\"date\"].dt.week\n",
    "df_date[\"isweekend\"]=np.where(df_date[\"day_name\"].isin(['Sunday','Saturday']),1,0)\n",
    "df_date[\"quarter\"] = df_date[\"date\"].dt.quarter\n",
    "df_date[\"semester\"] = np.where(df_date[\"quarter\"].isin([1,2]),1,2)"
   ]
  },
  {
   "cell_type": "code",
   "execution_count": 36,
   "id": "cfbb3b22",
   "metadata": {},
   "outputs": [
    {
     "data": {
      "text/html": [
       "<div>\n",
       "<style scoped>\n",
       "    .dataframe tbody tr th:only-of-type {\n",
       "        vertical-align: middle;\n",
       "    }\n",
       "\n",
       "    .dataframe tbody tr th {\n",
       "        vertical-align: top;\n",
       "    }\n",
       "\n",
       "    .dataframe thead th {\n",
       "        text-align: right;\n",
       "    }\n",
       "</style>\n",
       "<table border=\"1\" class=\"dataframe\">\n",
       "  <thead>\n",
       "    <tr style=\"text-align: right;\">\n",
       "      <th></th>\n",
       "      <th>date</th>\n",
       "      <th>orders</th>\n",
       "      <th>year</th>\n",
       "      <th>month</th>\n",
       "      <th>day</th>\n",
       "      <th>month_name</th>\n",
       "      <th>dayofweek</th>\n",
       "      <th>day_name</th>\n",
       "      <th>week_of_year</th>\n",
       "      <th>isweekend</th>\n",
       "      <th>quarter</th>\n",
       "      <th>semester</th>\n",
       "    </tr>\n",
       "  </thead>\n",
       "  <tbody>\n",
       "    <tr>\n",
       "      <th>845</th>\n",
       "      <td>2019-02-27</td>\n",
       "      <td>1</td>\n",
       "      <td>2019</td>\n",
       "      <td>2</td>\n",
       "      <td>27</td>\n",
       "      <td>February</td>\n",
       "      <td>2</td>\n",
       "      <td>Wednesday</td>\n",
       "      <td>9</td>\n",
       "      <td>0</td>\n",
       "      <td>1</td>\n",
       "      <td>1</td>\n",
       "    </tr>\n",
       "    <tr>\n",
       "      <th>256</th>\n",
       "      <td>2019-07-28</td>\n",
       "      <td>1</td>\n",
       "      <td>2019</td>\n",
       "      <td>7</td>\n",
       "      <td>28</td>\n",
       "      <td>July</td>\n",
       "      <td>6</td>\n",
       "      <td>Sunday</td>\n",
       "      <td>30</td>\n",
       "      <td>1</td>\n",
       "      <td>3</td>\n",
       "      <td>2</td>\n",
       "    </tr>\n",
       "    <tr>\n",
       "      <th>28</th>\n",
       "      <td>2019-04-20</td>\n",
       "      <td>1</td>\n",
       "      <td>2019</td>\n",
       "      <td>4</td>\n",
       "      <td>20</td>\n",
       "      <td>April</td>\n",
       "      <td>5</td>\n",
       "      <td>Saturday</td>\n",
       "      <td>16</td>\n",
       "      <td>1</td>\n",
       "      <td>2</td>\n",
       "      <td>1</td>\n",
       "    </tr>\n",
       "    <tr>\n",
       "      <th>230</th>\n",
       "      <td>2018-07-22</td>\n",
       "      <td>12</td>\n",
       "      <td>2018</td>\n",
       "      <td>7</td>\n",
       "      <td>22</td>\n",
       "      <td>July</td>\n",
       "      <td>6</td>\n",
       "      <td>Sunday</td>\n",
       "      <td>29</td>\n",
       "      <td>1</td>\n",
       "      <td>3</td>\n",
       "      <td>2</td>\n",
       "    </tr>\n",
       "    <tr>\n",
       "      <th>316</th>\n",
       "      <td>2019-01-24</td>\n",
       "      <td>2</td>\n",
       "      <td>2019</td>\n",
       "      <td>1</td>\n",
       "      <td>24</td>\n",
       "      <td>January</td>\n",
       "      <td>3</td>\n",
       "      <td>Thursday</td>\n",
       "      <td>4</td>\n",
       "      <td>0</td>\n",
       "      <td>1</td>\n",
       "      <td>1</td>\n",
       "    </tr>\n",
       "  </tbody>\n",
       "</table>\n",
       "</div>"
      ],
      "text/plain": [
       "          date  orders  year  month  day month_name  dayofweek   day_name  \\\n",
       "845 2019-02-27       1  2019      2   27   February          2  Wednesday   \n",
       "256 2019-07-28       1  2019      7   28       July          6     Sunday   \n",
       "28  2019-04-20       1  2019      4   20      April          5   Saturday   \n",
       "230 2018-07-22      12  2018      7   22       July          6     Sunday   \n",
       "316 2019-01-24       2  2019      1   24    January          3   Thursday   \n",
       "\n",
       "     week_of_year  isweekend  quarter  semester  \n",
       "845             9          0        1         1  \n",
       "256            30          1        3         2  \n",
       "28             16          1        2         1  \n",
       "230            29          1        3         2  \n",
       "316             4          0        1         1  "
      ]
     },
     "execution_count": 36,
     "metadata": {},
     "output_type": "execute_result"
    }
   ],
   "source": [
    "df_date.drop([\"city_id\",\"product_id\"],axis=1).sample(5)"
   ]
  },
  {
   "cell_type": "markdown",
   "id": "c33e951d",
   "metadata": {},
   "source": [
    "# Extract the Elapse time"
   ]
  },
  {
   "cell_type": "code",
   "execution_count": 39,
   "id": "0a464625",
   "metadata": {},
   "outputs": [
    {
     "name": "stdout",
     "output_type": "stream",
     "text": [
      "0     1113 days 15:08:10.933623\n",
      "1     1595 days 15:08:10.933623\n",
      "2     1526 days 15:08:10.933623\n",
      "3     1228 days 15:08:10.933623\n",
      "4     1451 days 15:08:10.933623\n",
      "                 ...           \n",
      "995   1541 days 15:08:10.933623\n",
      "996   1482 days 15:08:10.933623\n",
      "997   1330 days 15:08:10.933623\n",
      "998   1395 days 15:08:10.933623\n",
      "999   1169 days 15:08:10.933623\n",
      "Name: date, Length: 1000, dtype: timedelta64[ns]\n"
     ]
    }
   ],
   "source": [
    "import datetime\n",
    "today=datetime.datetime.today()\n",
    "print(today-df_date[\"date\"])"
   ]
  },
  {
   "cell_type": "markdown",
   "id": "9397322e",
   "metadata": {},
   "source": [
    "### Extracting the only days"
   ]
  },
  {
   "cell_type": "code",
   "execution_count": 43,
   "id": "f6600d55",
   "metadata": {},
   "outputs": [
    {
     "data": {
      "text/plain": [
       "0      1113\n",
       "1      1595\n",
       "2      1526\n",
       "3      1228\n",
       "4      1451\n",
       "       ... \n",
       "995    1541\n",
       "996    1482\n",
       "997    1330\n",
       "998    1395\n",
       "999    1169\n",
       "Name: date, Length: 1000, dtype: int64"
      ]
     },
     "execution_count": 43,
     "metadata": {},
     "output_type": "execute_result"
    }
   ],
   "source": [
    "(today-df_date[\"date\"]).dt.days"
   ]
  },
  {
   "cell_type": "markdown",
   "id": "0c66eca7",
   "metadata": {},
   "source": [
    "### Extracting only month"
   ]
  },
  {
   "cell_type": "code",
   "execution_count": 47,
   "id": "710e4d1c",
   "metadata": {},
   "outputs": [
    {
     "data": {
      "text/plain": [
       "0      37.0\n",
       "1      52.0\n",
       "2      50.0\n",
       "3      40.0\n",
       "4      48.0\n",
       "       ... \n",
       "995    51.0\n",
       "996    49.0\n",
       "997    44.0\n",
       "998    46.0\n",
       "999    38.0\n",
       "Name: date, Length: 1000, dtype: float64"
      ]
     },
     "execution_count": 47,
     "metadata": {},
     "output_type": "execute_result"
    }
   ],
   "source": [
    "np.round((today-df_date[\"date\"])/np.timedelta64(1,'M'),0)"
   ]
  },
  {
   "cell_type": "markdown",
   "id": "c0a449a8",
   "metadata": {},
   "source": [
    "### Extracting only year"
   ]
  },
  {
   "cell_type": "code",
   "execution_count": 48,
   "id": "71906853",
   "metadata": {},
   "outputs": [
    {
     "data": {
      "text/plain": [
       "0      3.0\n",
       "1      4.0\n",
       "2      4.0\n",
       "3      3.0\n",
       "4      4.0\n",
       "      ... \n",
       "995    4.0\n",
       "996    4.0\n",
       "997    4.0\n",
       "998    4.0\n",
       "999    3.0\n",
       "Name: date, Length: 1000, dtype: float64"
      ]
     },
     "execution_count": 48,
     "metadata": {},
     "output_type": "execute_result"
    }
   ],
   "source": [
    "np.round((today-df_date[\"date\"])/np.timedelta64(1,'Y'),0)"
   ]
  },
  {
   "cell_type": "markdown",
   "id": "3abbf306",
   "metadata": {},
   "source": [
    "# Working with Time"
   ]
  },
  {
   "cell_type": "code",
   "execution_count": 51,
   "id": "c7d0814a",
   "metadata": {},
   "outputs": [
    {
     "data": {
      "text/html": [
       "<div>\n",
       "<style scoped>\n",
       "    .dataframe tbody tr th:only-of-type {\n",
       "        vertical-align: middle;\n",
       "    }\n",
       "\n",
       "    .dataframe tbody tr th {\n",
       "        vertical-align: top;\n",
       "    }\n",
       "\n",
       "    .dataframe thead th {\n",
       "        text-align: right;\n",
       "    }\n",
       "</style>\n",
       "<table border=\"1\" class=\"dataframe\">\n",
       "  <thead>\n",
       "    <tr style=\"text-align: right;\">\n",
       "      <th></th>\n",
       "      <th>date</th>\n",
       "      <th>msg</th>\n",
       "    </tr>\n",
       "  </thead>\n",
       "  <tbody>\n",
       "    <tr>\n",
       "      <th>662</th>\n",
       "      <td>2012-02-14 14:20:00</td>\n",
       "      <td>мадератар привет паздравь с праздником ксюшу л...</td>\n",
       "    </tr>\n",
       "    <tr>\n",
       "      <th>925</th>\n",
       "      <td>2014-09-16 01:04:00</td>\n",
       "      <td>.М43.БИ.ПОЗНАМСЯ.С.СТРОЙН.Д/Ж.БИ.СЕМ/ПАР.БИ.ОБ...</td>\n",
       "    </tr>\n",
       "    <tr>\n",
       "      <th>816</th>\n",
       "      <td>2015-01-21 00:03:00</td>\n",
       "      <td>П поцелую Д в машине приеду перезваню 0679896878</td>\n",
       "    </tr>\n",
       "    <tr>\n",
       "      <th>947</th>\n",
       "      <td>2012-03-27 00:56:00</td>\n",
       "      <td>Да ну... 1000 нужно на 9 разделить... Это 111 ...</td>\n",
       "    </tr>\n",
       "    <tr>\n",
       "      <th>469</th>\n",
       "      <td>2014-07-09 01:20:00</td>\n",
       "      <td>ухахахахха..злобный смехх х ха хаа хааа ххааааааа</td>\n",
       "    </tr>\n",
       "  </tbody>\n",
       "</table>\n",
       "</div>"
      ],
      "text/plain": [
       "                    date                                                msg\n",
       "662  2012-02-14 14:20:00  мадератар привет паздравь с праздником ксюшу л...\n",
       "925  2014-09-16 01:04:00  .М43.БИ.ПОЗНАМСЯ.С.СТРОЙН.Д/Ж.БИ.СЕМ/ПАР.БИ.ОБ...\n",
       "816  2015-01-21 00:03:00   П поцелую Д в машине приеду перезваню 0679896878\n",
       "947  2012-03-27 00:56:00  Да ну... 1000 нужно на 9 разделить... Это 111 ...\n",
       "469  2014-07-09 01:20:00  ухахахахха..злобный смехх х ха хаа хааа ххааааааа"
      ]
     },
     "execution_count": 51,
     "metadata": {},
     "output_type": "execute_result"
    }
   ],
   "source": [
    "df_time.sample(5)"
   ]
  },
  {
   "cell_type": "code",
   "execution_count": 52,
   "id": "89af0401",
   "metadata": {},
   "outputs": [
    {
     "name": "stdout",
     "output_type": "stream",
     "text": [
      "<class 'pandas.core.frame.DataFrame'>\n",
      "RangeIndex: 1000 entries, 0 to 999\n",
      "Data columns (total 2 columns):\n",
      " #   Column  Non-Null Count  Dtype \n",
      "---  ------  --------------  ----- \n",
      " 0   date    1000 non-null   object\n",
      " 1   msg     1000 non-null   object\n",
      "dtypes: object(2)\n",
      "memory usage: 15.8+ KB\n"
     ]
    }
   ],
   "source": [
    "df_time.info()"
   ]
  },
  {
   "cell_type": "code",
   "execution_count": 53,
   "id": "7ff12625",
   "metadata": {},
   "outputs": [],
   "source": [
    "df_time[\"date\"]=pd.to_datetime(df_time[\"date\"])"
   ]
  },
  {
   "cell_type": "code",
   "execution_count": 59,
   "id": "c57f5079",
   "metadata": {},
   "outputs": [],
   "source": [
    "df_time[\"second\"]=df_time[\"date\"].dt.second\n",
    "df_time[\"minute\"]=df_time[\"date\"].dt.minute\n",
    "df_time[\"hour\"]=df_time[\"date\"].dt.hour\n",
    "df_time[\"time\"]=df_time[\"date\"].dt.time"
   ]
  },
  {
   "cell_type": "code",
   "execution_count": 60,
   "id": "e4fe1bfd",
   "metadata": {},
   "outputs": [
    {
     "data": {
      "text/html": [
       "<div>\n",
       "<style scoped>\n",
       "    .dataframe tbody tr th:only-of-type {\n",
       "        vertical-align: middle;\n",
       "    }\n",
       "\n",
       "    .dataframe tbody tr th {\n",
       "        vertical-align: top;\n",
       "    }\n",
       "\n",
       "    .dataframe thead th {\n",
       "        text-align: right;\n",
       "    }\n",
       "</style>\n",
       "<table border=\"1\" class=\"dataframe\">\n",
       "  <thead>\n",
       "    <tr style=\"text-align: right;\">\n",
       "      <th></th>\n",
       "      <th>date</th>\n",
       "      <th>msg</th>\n",
       "      <th>second</th>\n",
       "      <th>minute</th>\n",
       "      <th>hour</th>\n",
       "      <th>time</th>\n",
       "    </tr>\n",
       "  </thead>\n",
       "  <tbody>\n",
       "    <tr>\n",
       "      <th>402</th>\n",
       "      <td>2014-03-12 00:54:00</td>\n",
       "      <td>Ищу простую добрую девушку для с/о Днепр мне 25</td>\n",
       "      <td>0</td>\n",
       "      <td>54</td>\n",
       "      <td>0</td>\n",
       "      <td>00:54:00</td>\n",
       "    </tr>\n",
       "    <tr>\n",
       "      <th>133</th>\n",
       "      <td>2012-01-05 23:47:00</td>\n",
       "      <td>П 28 ПОЗН. С ДЕВУШКОЙ ДЛЯ СЕРЬЕЗНЫХ ОТНОШЕНИЙ ...</td>\n",
       "      <td>0</td>\n",
       "      <td>47</td>\n",
       "      <td>23</td>\n",
       "      <td>23:47:00</td>\n",
       "    </tr>\n",
       "    <tr>\n",
       "      <th>871</th>\n",
       "      <td>2013-09-01 01:50:00</td>\n",
       "      <td>Крас П30л-ИЩУ  КРАС ДЕВ_С/О-068 005 666 7</td>\n",
       "      <td>0</td>\n",
       "      <td>50</td>\n",
       "      <td>1</td>\n",
       "      <td>01:50:00</td>\n",
       "    </tr>\n",
       "    <tr>\n",
       "      <th>355</th>\n",
       "      <td>2013-06-01 01:39:00</td>\n",
       "      <td>ПАРА ИЩЕТ ДРУЗЕЙ ПРИЕЗЖАЙТЕ В ГОСТИ0679657159</td>\n",
       "      <td>0</td>\n",
       "      <td>39</td>\n",
       "      <td>1</td>\n",
       "      <td>01:39:00</td>\n",
       "    </tr>\n",
       "    <tr>\n",
       "      <th>345</th>\n",
       "      <td>2014-06-15 00:40:00</td>\n",
       "      <td>леночка звони на номер  0988129067</td>\n",
       "      <td>0</td>\n",
       "      <td>40</td>\n",
       "      <td>0</td>\n",
       "      <td>00:40:00</td>\n",
       "    </tr>\n",
       "  </tbody>\n",
       "</table>\n",
       "</div>"
      ],
      "text/plain": [
       "                   date                                                msg  \\\n",
       "402 2014-03-12 00:54:00    Ищу простую добрую девушку для с/о Днепр мне 25   \n",
       "133 2012-01-05 23:47:00  П 28 ПОЗН. С ДЕВУШКОЙ ДЛЯ СЕРЬЕЗНЫХ ОТНОШЕНИЙ ...   \n",
       "871 2013-09-01 01:50:00          Крас П30л-ИЩУ  КРАС ДЕВ_С/О-068 005 666 7   \n",
       "355 2013-06-01 01:39:00      ПАРА ИЩЕТ ДРУЗЕЙ ПРИЕЗЖАЙТЕ В ГОСТИ0679657159   \n",
       "345 2014-06-15 00:40:00                 леночка звони на номер  0988129067   \n",
       "\n",
       "     second  minute  hour      time  \n",
       "402       0      54     0  00:54:00  \n",
       "133       0      47    23  23:47:00  \n",
       "871       0      50     1  01:50:00  \n",
       "355       0      39     1  01:39:00  \n",
       "345       0      40     0  00:40:00  "
      ]
     },
     "execution_count": 60,
     "metadata": {},
     "output_type": "execute_result"
    }
   ],
   "source": [
    "df_time.sample(5)"
   ]
  },
  {
   "cell_type": "markdown",
   "id": "2eb82492",
   "metadata": {},
   "source": [
    "### Extracting total second"
   ]
  },
  {
   "cell_type": "code",
   "execution_count": 61,
   "id": "4be1ff79",
   "metadata": {},
   "outputs": [
    {
     "data": {
      "text/plain": [
       "0       96217691.0\n",
       "1      137862491.0\n",
       "2      131900891.0\n",
       "3      106153691.0\n",
       "4      125420891.0\n",
       "          ...     \n",
       "995    133196891.0\n",
       "996    128099291.0\n",
       "997    114966491.0\n",
       "998    120582491.0\n",
       "999    101056091.0\n",
       "Name: date, Length: 1000, dtype: float64"
      ]
     },
     "execution_count": 61,
     "metadata": {},
     "output_type": "execute_result"
    }
   ],
   "source": [
    "np.round((today-df_date[\"date\"])/np.timedelta64(1,'s'),0)"
   ]
  },
  {
   "cell_type": "markdown",
   "id": "847f2881",
   "metadata": {},
   "source": [
    "### Extracting total minute"
   ]
  },
  {
   "cell_type": "code",
   "execution_count": 62,
   "id": "65211309",
   "metadata": {},
   "outputs": [
    {
     "data": {
      "text/plain": [
       "0      1603628.0\n",
       "1      2297708.0\n",
       "2      2198348.0\n",
       "3      1769228.0\n",
       "4      2090348.0\n",
       "         ...    \n",
       "995    2219948.0\n",
       "996    2134988.0\n",
       "997    1916108.0\n",
       "998    2009708.0\n",
       "999    1684268.0\n",
       "Name: date, Length: 1000, dtype: float64"
      ]
     },
     "execution_count": 62,
     "metadata": {},
     "output_type": "execute_result"
    }
   ],
   "source": [
    "np.round((today-df_date[\"date\"])/np.timedelta64(1,'m'),0)"
   ]
  },
  {
   "cell_type": "markdown",
   "id": "0035168e",
   "metadata": {},
   "source": [
    "### Extracting total hour"
   ]
  },
  {
   "cell_type": "code",
   "execution_count": 63,
   "id": "98cc3ef5",
   "metadata": {},
   "outputs": [
    {
     "data": {
      "text/plain": [
       "0      26727.0\n",
       "1      38295.0\n",
       "2      36639.0\n",
       "3      29487.0\n",
       "4      34839.0\n",
       "        ...   \n",
       "995    36999.0\n",
       "996    35583.0\n",
       "997    31935.0\n",
       "998    33495.0\n",
       "999    28071.0\n",
       "Name: date, Length: 1000, dtype: float64"
      ]
     },
     "execution_count": 63,
     "metadata": {},
     "output_type": "execute_result"
    }
   ],
   "source": [
    "np.round((today-df_date[\"date\"])/np.timedelta64(1,'h'),0)"
   ]
  },
  {
   "cell_type": "code",
   "execution_count": null,
   "id": "9fdeeeec",
   "metadata": {},
   "outputs": [],
   "source": []
  }
 ],
 "metadata": {
  "kernelspec": {
   "display_name": "Python 3 (ipykernel)",
   "language": "python",
   "name": "python3"
  },
  "language_info": {
   "codemirror_mode": {
    "name": "ipython",
    "version": 3
   },
   "file_extension": ".py",
   "mimetype": "text/x-python",
   "name": "python",
   "nbconvert_exporter": "python",
   "pygments_lexer": "ipython3",
   "version": "3.9.12"
  }
 },
 "nbformat": 4,
 "nbformat_minor": 5
}
